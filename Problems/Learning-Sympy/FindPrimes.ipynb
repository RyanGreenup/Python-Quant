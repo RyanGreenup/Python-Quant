{
 "cells": [
  {
   "cell_type": "markdown",
   "metadata": {
    "collapsed": false
   },
   "source": [
    "# Finding Specific Primes"
   ]
  },
  {
   "cell_type": "markdown",
   "metadata": {},
   "source": [
    "## Problem \n",
    "\n",
    "Find out among the first 1000 prime numbers those which contain three consecutive decreasing\n",
    "digits. (For example the number 1475438 contains three consecutive decreasing digits)\n",
    "\n",
    "\n",
    "\n"
   ]
  },
  {
   "cell_type": "markdown",
   "metadata": {},
   "source": [
    "## Preliminary Set up"
   ]
  },
  {
   "cell_type": "code",
   "execution_count": 1,
   "metadata": {},
   "outputs": [],
   "source": [
    "from __future__ import division\n",
    "from sympy import *\n",
    "x, y, z, t = symbols('x y z t')\n",
    "k, m, n = symbols('k m n', integer=True)\n",
    "f, g, h = symbols('f g h', cls=Function)\n",
    "init_printing(use_latex='mathjax', latex_mode='equation')"
   ]
  },
  {
   "cell_type": "markdown",
   "metadata": {},
   "source": [
    "### Using Regex\n",
    "\n",
    "The `re` module provides the function `re.match()` which returns a `Match` object which is `True` if there was a match (however it returns as `None` in the absense of a match) and so testing for a *truthy* output is the way to go."
   ]
  },
  {
   "cell_type": "markdown",
   "metadata": {},
   "source": [
    "So for example, is `5` in the first 5 digits of $\\pi$?"
   ]
  },
  {
   "cell_type": "code",
   "execution_count": 2,
   "metadata": {
    "tags": []
   },
   "outputs": [
    {
     "output_type": "stream",
     "name": "stdout",
     "text": "False\n"
    }
   ],
   "source": [
    "\n",
    "num = 31415\n",
    "m = bool(re.match('.*3.*', str(num)))\n",
    "print(m)"
   ]
  },
  {
   "cell_type": "markdown",
   "metadata": {},
   "source": [
    "Yeah, it is, but what if we wanted to seperate the regex into an object? The trick here is making sure to use `r'string'` instead of `'string'`, the `r` creates a *Raw String Literal* that hides *\\escape* characters."
   ]
  },
  {
   "cell_type": "code",
   "execution_count": 3,
   "metadata": {
    "tags": []
   },
   "outputs": [
    {
     "output_type": "stream",
     "name": "stdout",
     "text": "True\n"
    }
   ],
   "source": [
    "import re\n",
    "num = 31415\n",
    "my_regex = '.*3.*'\n",
    "m = bool(re.match(my_regex, str(num)))\n",
    "print(m)"
   ]
  },
  {
   "cell_type": "code",
   "execution_count": 4,
   "metadata": {
    "tags": []
   },
   "outputs": [
    {
     "output_type": "stream",
     "name": "stdout",
     "text": "True\n"
    }
   ],
   "source": [
    "m = re.match(\".*c.*\", \"cat\")\n",
    "print(bool(m))"
   ]
  },
  {
   "cell_type": "markdown",
   "metadata": {},
   "source": [
    "alright so what about repeated numbers?\n",
    "\n",
    "To do this:\n",
    " - use `(.)` to create a capture group, the `.` signifies any character occuring ones.\n",
    " - `\\1` can be used to reference the first capture group, in this case whatever the first matching digit was\n",
    " - `{2}` can be used to signify that the first group then occurs an additional 2 times\n",
    "     - we would want to use `{2,}` to signify 2 or more additional occurnces, as opposed to exactly 2 more.\n",
    "- finally `.*` can be used to denote that any number of characters may occur before or after that value\n",
    "\n",
    "putting this all together the regex necessary is `r'.*(.)\\1{2,}.*'`\n"
   ]
  },
  {
   "cell_type": "code",
   "execution_count": 5,
   "metadata": {
    "tags": []
   },
   "outputs": [
    {
     "output_type": "stream",
     "name": "stdout",
     "text": "True\n"
    }
   ],
   "source": [
    "import re\n",
    "num = 3289238923899999\n",
    "Three_Repeapts = r'(.)\\1{2,}'\n",
    "m = re.match(r'.*(.)\\1{2,}.*', str(num))\n",
    "print(bool(m))\n"
   ]
  },
  {
   "cell_type": "markdown",
   "metadata": {},
   "source": [
    "## Getting Primes\n",
    "\n",
    "List comprehension and `sympy` can be used here, just be careful of ***O***ff ***B***y ***O***ne ***B***ugs (OBOB), for example to return the first nine prime numbers:"
   ]
  },
  {
   "cell_type": "code",
   "execution_count": 6,
   "metadata": {},
   "outputs": [
    {
     "output_type": "execute_result",
     "data": {
      "text/plain": "[2, 3, 5, 7, 11, 13, 17, 19, 23]",
      "text/latex": "\\begin{equation}\\left[ 2, \\  3, \\  5, \\  7, \\  11, \\  13, \\  17, \\  19, \\  23\\right]\\end{equation}"
     },
     "metadata": {},
     "execution_count": 6
    }
   ],
   "source": [
    "import sympy\n",
    "[ sympy.prime(i) for i in range(1, 9+1)]"
   ]
  },
  {
   "cell_type": "markdown",
   "metadata": {},
   "source": [
    "Unfourtunately this method is extremely slow:\n",
    "\n"
   ]
  },
  {
   "cell_type": "code",
   "execution_count": 7,
   "metadata": {
    "tags": []
   },
   "outputs": [
    {
     "output_type": "stream",
     "name": "stdout",
     "text": "-14.712896823883057\n"
    }
   ],
   "source": [
    "import time\n",
    "start = time.time()\n",
    "\n",
    "\n",
    "\n",
    "[ sympy.prime(i) for i in range(1, 1000+1)]\n",
    "\n",
    "\n",
    "stop = time.time()\n",
    "print(start - stop)\n",
    "# timeit.timeit(r'primes = [ sympy.prime(i) for i in range(1, 10+1)]', number = 10)\n"
   ]
  },
  {
   "cell_type": "markdown",
   "metadata": {},
   "source": [
    "Fortunately [Sympy][p1] has a method to deal with that.\n",
    "\n",
    "[p1]: https://docs.sympy.org/latest/modules/ntheory.html\n"
   ]
  },
  {
   "cell_type": "code",
   "execution_count": 8,
   "metadata": {
    "tags": []
   },
   "outputs": [
    {
     "output_type": "stream",
     "name": "stdout",
     "text": "array('l', [2, 3, 5, 7, 11, 13, 17, 19, 23, 29, 31, 37, 41, 43, 47, 53, 59, 61, 67, 71, 73, 79, 83, 89, 97, 101, 103, 107, 109, 113, 127, 131, 137, 139, 149, 151, 157, 163, 167, 173, 179, 181, 191, 193, 197, 199, 211, 223, 227, 229, 233, 239, 241, 251, 257, 263, 269, 271, 277, 281, 283, 293, 307, 311, 313, 317, 331, 337, 347, 349, 353, 359, 367, 373, 379, 383, 389, 397, 401, 409, 419, 421, 431, 433, 439, 443, 449, 457, 461, 463, 467, 479, 487, 491, 499, 503, 509, 521, 523, 541, 547, 557, 563, 569, 571, 577, 587, 593, 599, 601, 607, 613, 617, 619, 631])\n3\n"
    }
   ],
   "source": [
    "import sympy\n",
    "## Reset the sieve\n",
    "sieve._reset() # this line for doctest only\n",
    "\n",
    "## Extend the number primes to a length of:\n",
    "sieve.extend_to_no(100)\n",
    "\n",
    "## Inspect the list of Primes\n",
    "print(sieve._list)\n",
    "\n",
    "print(sieve._list[1])\n",
    "\n"
   ]
  },
  {
   "cell_type": "markdown",
   "metadata": {},
   "source": [
    "## Putting it all Together"
   ]
  },
  {
   "cell_type": "code",
   "execution_count": 10,
   "metadata": {
    "tags": []
   },
   "outputs": [
    {
     "output_type": "stream",
     "name": "stdout",
     "text": "1117\n2221\n3331\n4441\n4447\n5557\n6661\n8887\n"
    }
   ],
   "source": [
    "import re\n",
    "import sympy\n",
    "\n",
    "Three_Repeats = r'(.)\\1{2,}'  ## This should be programmatic\n",
    "Two_Repeats = r'(.)\\1{1,}'  ## This should be programmatic\n",
    "sieve._reset() # this line for doctest only\n",
    "\n",
    "## Extend the number primes to a length of:\n",
    "sieve.extend_to_no(1000)\n",
    "\n",
    "for num in sieve._list:  \n",
    "    m = re.match(Three_Repeats, str(num))\n",
    "    if bool(m):\n",
    "        print(num)\n",
    "    "
   ]
  },
  {
   "cell_type": "markdown",
   "metadata": {},
   "source": [
    "But this code could be a little more sophisticated and wrap it all into a function, string concatenation can be used to produce the regex like so:"
   ]
  },
  {
   "cell_type": "code",
   "execution_count": 11,
   "metadata": {
    "tags": []
   },
   "outputs": [
    {
     "output_type": "stream",
     "name": "stdout",
     "text": "(.)\\1{2,}\n"
    }
   ],
   "source": [
    "n = 3\n",
    "regex_repeats = r'(.)\\1{' + str(n-1) + r',}'\n",
    "print(regex_repeats)"
   ]
  },
  {
   "cell_type": "markdown",
   "metadata": {},
   "source": [
    "And so the function would look like this:\n",
    "\n",
    "\n"
   ]
  },
  {
   "cell_type": "code",
   "execution_count": 12,
   "metadata": {
    "tags": []
   },
   "outputs": [
    {
     "output_type": "stream",
     "name": "stdout",
     "text": "[1117, 2221, 3331, 4441, 4447, 5557, 6661, 8887]\n"
    }
   ],
   "source": [
    "def rep_primes(num_primes, num_reps):\n",
    "    import re\n",
    "    import sympy\n",
    "    \n",
    "    n = num_primes\n",
    "    regex_repeats = r'(.)\\1{' + str(n-1) + r',}'\n",
    "\n",
    "        ## Extend the number primes to a length of:\n",
    "    sieve.extend_to_no(num_primes)\n",
    "\n",
    "    matching_primes = []\n",
    "    for num in sieve._list:  \n",
    "        m = re.match(Three_Repeats, str(num))\n",
    "        if bool(m):\n",
    "            matching_primes.append(num)\n",
    "    return matching_primes\n",
    "\n",
    "print(rep_primes(1000, 3))"
   ]
  }
 ],
 "metadata": {
  "kernelspec": {
   "argv": [
    "/usr/bin/python3",
    "-m",
    "ipykernel_launcher",
    "-f",
    "{connection_file}"
   ],
   "display_name": "Python 3",
   "env": null,
   "interrupt_mode": "signal",
   "language": "python",
   "metadata": null,
   "name": "python3"
  },
  "language_info": {
   "codemirror_mode": {
    "name": "ipython",
    "version": 3
   },
   "file_extension": ".py",
   "mimetype": "text/x-python",
   "name": "python",
   "nbconvert_exporter": "python",
   "pygments_lexer": "ipython3",
   "version": "3.8.3-final"
  },
  "name": "FindPrimes.ipynb"
 },
 "nbformat": 4,
 "nbformat_minor": 2
}