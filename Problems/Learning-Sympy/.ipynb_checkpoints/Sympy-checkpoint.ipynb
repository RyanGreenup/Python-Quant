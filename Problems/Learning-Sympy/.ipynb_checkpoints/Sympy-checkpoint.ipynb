{
 "cells": [
  {
   "cell_type": "markdown",
   "metadata": {
    "collapsed": false
   },
   "source": [
    "# Using Sympy"
   ]
  },
  {
   "cell_type": "code",
   "execution_count": null,
   "metadata": {
    "collapsed": false
   },
   "outputs": [],
   "source": []
  },
  {
   "cell_type": "markdown",
   "metadata": {
    "collapsed": false
   },
   "source": [
    "# Using Sympy"
   ]
  },
  {
   "cell_type": "code",
   "execution_count": 1,
   "metadata": {
    "collapsed": false
   },
   "outputs": [
    {
     "name": "stdout",
     "output_type": "stream",
     "text": [
      "Hello World!\n"
     ]
    }
   ],
   "source": [
    "msg = \"Hello World!\"\n",
    "print(msg)"
   ]
  }
 ],
 "metadata": {
  "kernelspec": {
   "argv": [
    "/usr/bin/python",
    "-m",
    "ipykernel_launcher",
    "-f",
    "{connection_file}"
   ],
   "display_name": "Python 3.8.3 64-bit",
   "env": null,
   "interrupt_mode": "signal",
   "language": "python",
   "metadata": {
    "interpreter": {
     "architecture": 3,
     "displayName": "Python 3.8.3 64-bit",
     "fileHash": "2b60196e072b3a3c5f05c3985b6a36ebcd588525470570dcbafb62e5644a33f063f497dd7578106a0a66805743a8ff04a5eaf843c038751be971ae82d8e3cbd9",
     "path": "/usr/bin/python",
     "sysPrefix": "/usr",
     "type": "Unknown",
     "version": {
      "build": null,
      "loose": false,
      "major": 3,
      "minor": 8,
      "options": {
       "includePrerelease": false,
       "loose": false
      },
      "patch": 3,
      "prerelease": [
       "final"
      ],
      "raw": "3.8.3-final",
      "version": "3.8.3-final"
     }
    }
   },
   "name": "python38364bitb58c1e4a530841da8c36eeef2b5a935c"
  },
  "language_info": {
   "codemirror_mode": {
    "name": "ipython",
    "version": 3
   },
   "file_extension": ".py",
   "mimetype": "text/x-python",
   "name": "python",
   "nbconvert_exporter": "python",
   "pygments_lexer": "ipython3",
   "version": "3.8.3-final"
  },
  "name": "Sympy.ipynb"
 },
 "nbformat": 4,
 "nbformat_minor": 2
}
