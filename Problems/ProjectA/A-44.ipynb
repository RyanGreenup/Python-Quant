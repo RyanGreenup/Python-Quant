{
 "metadata": {
  "language_info": {
   "codemirror_mode": {
    "name": "ipython",
    "version": 3
   },
   "file_extension": ".py",
   "mimetype": "text/x-python",
   "name": "python",
   "nbconvert_exporter": "python",
   "pygments_lexer": "ipython3",
   "version": "3.8.5-final"
  },
  "orig_nbformat": 2,
  "kernelspec": {
   "name": "python38364bitb58c1e4a530841da8c36eeef2b5a935c",
   "display_name": "Python 3.8.3 64-bit"
  }
 },
 "nbformat": 4,
 "nbformat_minor": 2,
 "cells": [
  {
   "cell_type": "code",
   "execution_count": null,
   "metadata": {},
   "outputs": [],
   "source": []
  },
  {
   "cell_type": "markdown",
   "metadata": {},
   "source": [
    "$$\n",
    "\\begin{aligned}\n",
    "    g\\left( k \\right) &=  \\frac{\\sqrt{2} }{2} \\cdot   \\frac{\\sqrt{2+  \\sqrt{3}}  }{3} \\frac{\\sqrt{2 +  \\sqrt{3 +  \\sqrt{4} } } }{4} \\cdot  \\ldots \\frac{\\sqrt{2 +  \\sqrt{3 +  \\ldots +  \\sqrt{k} } } }{k}\n",
    "\\end{aligned}\n",
    "$$\n"
   ]
  },
  {
   "cell_type": "code",
   "execution_count": 1,
   "metadata": {},
   "outputs": [],
   "source": [
    "from __future__ import division\n",
    "from sympy import *\n",
    "import sympy as sp\n",
    "x, y, z, t = symbols('x y z t')\n",
    "k, m, n = symbols('k m n', integer=True)\n",
    "f, g, h = symbols('f g h', cls=Function)\n",
    "init_printing()\n",
    "init_printing(use_latex='mathjax', latex_mode='equation')\n",
    "\n",
    "\n",
    "import pyperclip\n",
    "def lx(expr):\n",
    "    pyperclip.copy(latex(expr))\n",
    "    print(expr)\n",
    "\n",
    "import numpy as np\n",
    "import matplotlib as plt"
   ]
  },
  {
   "cell_type": "markdown",
   "metadata": {},
   "source": [
    "First let's see if we can just print the numbers"
   ]
  },
  {
   "cell_type": "code",
   "execution_count": 2,
   "metadata": {
    "tags": []
   },
   "outputs": [
    {
     "output_type": "stream",
     "name": "stdout",
     "text": "6\n5\n4\n3\n2\n1\n0\n"
    }
   ],
   "source": [
    "expr = 0\n",
    "k = 7\n",
    "for i in reversed(range(k)):\n",
    "    print(i)"
   ]
  },
  {
   "cell_type": "markdown",
   "metadata": {},
   "source": [
    "Right now let's start building an expression to get each term of the sequence:"
   ]
  },
  {
   "cell_type": "code",
   "execution_count": 3,
   "metadata": {
    "tags": []
   },
   "outputs": [
    {
     "output_type": "execute_result",
     "data": {
      "text/plain": "√2\n──\n2 ",
      "text/latex": "$$\\frac{\\sqrt{2}}{2}$$"
     },
     "metadata": {},
     "execution_count": 3
    }
   ],
   "source": [
    "expr = 0\n",
    "k = 1\n",
    "for i in reversed(range(2, k+2)):\n",
    "    expr = sqrt(i + expr)\n",
    "expr/(k+1)"
   ]
  },
  {
   "cell_type": "code",
   "execution_count": 4,
   "metadata": {},
   "outputs": [
    {
     "output_type": "execute_result",
     "data": {
      "text/plain": "  ________\n╲╱ √3 + 2 \n──────────\n    3     ",
      "text/latex": "$$\\frac{1}{3} \\sqrt{\\sqrt{3} + 2}$$"
     },
     "metadata": {},
     "execution_count": 4
    }
   ],
   "source": [
    "expr = 0\n",
    "k = 2\n",
    "for i in reversed(range(2, k+2)):\n",
    "    expr = sqrt(i + expr)\n",
    "expr/(k+1)"
   ]
  },
  {
   "cell_type": "code",
   "execution_count": 5,
   "metadata": {},
   "outputs": [
    {
     "output_type": "execute_result",
     "data": {
      "text/plain": "  ________\n╲╱ 2 + √5 \n──────────\n    4     ",
      "text/latex": "$$\\frac{1}{4} \\sqrt{2 + \\sqrt{5}}$$"
     },
     "metadata": {},
     "execution_count": 5
    }
   ],
   "source": [
    "expr = 0\n",
    "k = 3\n",
    "for i in reversed(range(2, k+2)):\n",
    "    expr = sqrt(i + expr)\n",
    "expr/(k+1)"
   ]
  },
  {
   "cell_type": "markdown",
   "metadata": {},
   "source": [
    "So it seems to work but it's decided to simplify the surd which will get confusing, so avoid that we will pass the `evaluate = False` paraemeter [as described in the docs](https://docs.sympy.org/latest/tutorial/manipulation.html#prevent-expression-evaluation)"
   ]
  },
  {
   "cell_type": "code",
   "execution_count": 6,
   "metadata": {},
   "outputs": [
    {
     "output_type": "execute_result",
     "data": {
      "text/plain": "  ________\n╲╱ 2 + √5 \n──────────\n    4     ",
      "text/latex": "$$\\frac{1}{4} \\sqrt{2 + \\sqrt{5}}$$"
     },
     "metadata": {},
     "execution_count": 6
    }
   ],
   "source": [
    "expr = 0\n",
    "k = 3\n",
    "for i in reversed(range(2, k+2)):\n",
    "    expr = sqrt(i + expr)\n",
    "expr/(k+1)"
   ]
  },
  {
   "cell_type": "markdown",
   "metadata": {},
   "source": [
    "Now let's wrap the term generator into a function:"
   ]
  },
  {
   "cell_type": "code",
   "execution_count": 7,
   "metadata": {},
   "outputs": [
    {
     "output_type": "execute_result",
     "data": {
      "text/plain": "  ________\n╲╱ 2 + √5 \n──────────\n    4     ",
      "text/latex": "$$\\frac{1}{4} \\sqrt{2 + \\sqrt{5}}$$"
     },
     "metadata": {},
     "execution_count": 7
    }
   ],
   "source": [
    "k = 3\n",
    "def surd_seq(k):\n",
    "    expr = 0\n",
    "    for i in reversed(range(2, k+2)):\n",
    "        expr = sqrt(i + expr)\n",
    "    return expr/(k+1)\n",
    "surd_seq(3)\n"
   ]
  },
  {
   "cell_type": "markdown",
   "metadata": {},
   "source": [
    "Ok so that seems right so now let's instead look at a lot of the terms using list comprehension:"
   ]
  },
  {
   "cell_type": "code",
   "execution_count": 8,
   "metadata": {},
   "outputs": [
    {
     "output_type": "execute_result",
     "data": {
      "text/plain": "⎡                                                                             \n⎢                                                                _____________\n⎢                                _________________________      ╱         ____\n⎢                               ╱        ________________      ╱         ╱    \n⎢      ________    ________    ╱        ╱   ________          ╱         ╱    ╱\n⎢√2  ╲╱ √3 + 2   ╲╱ 2 + √5   ╲╱   2 + ╲╱  ╲╱ √5 + 4  + 3    ╲╱    2 + ╲╱   ╲╱ \n⎢──, ──────────, ──────────, ─────────────────────────────, ──────────────────\n⎣2       3           4                     5                                  \n\n                              ______________________________________________⎤\n______________________       ╱          ___________________________________ ⎥\n_____________________       ╱          ╱     _________________________      ⎥\n________________           ╱          ╱     ╱    ________________           ⎥\n   ________               ╱          ╱     ╱    ╱   ________                ⎥\n ╲╱ √6 + 5  + 4  + 3    ╲╱     2 + ╲╱    ╲╱   ╲╱  ╲╱ √7 + 6  + 5  + 4  + 3  ⎥\n──────────────────────, ────────────────────────────────────────────────────⎥\n 6                                               7                          ⎦",
      "text/latex": "$$\\left [ \\frac{\\sqrt{2}}{2}, \\quad \\frac{1}{3} \\sqrt{\\sqrt{3} + 2}, \\quad \\frac{1}{4} \\sqrt{2 + \\sqrt{5}}, \\quad \\frac{1}{5} \\sqrt{2 + \\sqrt{\\sqrt{\\sqrt{5} + 4} + 3}}, \\quad \\frac{1}{6} \\sqrt{2 + \\sqrt{\\sqrt{\\sqrt{\\sqrt{6} + 5} + 4} + 3}}, \\quad \\frac{1}{7} \\sqrt{2 + \\sqrt{\\sqrt{\\sqrt{\\sqrt{\\sqrt{7} + 6} + 5} + 4} + 3}}\\right ]$$"
     },
     "metadata": {},
     "execution_count": 8
    }
   ],
   "source": [
    "[surd_seq(i) for i in range(1, 7)]"
   ]
  },
  {
   "cell_type": "code",
   "execution_count": 56,
   "metadata": {},
   "outputs": [
    {
     "output_type": "execute_result",
     "data": {
      "text/plain": "      _______________________________________________\n     ╱          ____________________________________ \n    ╱          ╱     __________________________      \n   ╱          ╱     ╱    _________________           \n  ╱          ╱     ╱    ╱   _________                \n╲╱     2 + ╲╱    ╲╱   ╲╱  ╲╱ √15 + 6  + 5  + 4  + 3  ",
      "text/latex": "$$\\sqrt{2 + \\sqrt{\\sqrt{\\sqrt{\\sqrt{\\sqrt{15} + 6} + 5} + 4} + 3}}$$"
     },
     "metadata": {},
     "execution_count": 56
    }
   ],
   "source": [
    "import functools\n",
    "functools.reduce(lambda x, y: sqrt(x+y), reversed(range(2,9)))"
   ]
  },
  {
   "cell_type": "markdown",
   "metadata": {},
   "source": [
    "Unfourtunately there is no simple way, that I am aware of, to have it print the terms in the order we would expect, which is unfourtunate."
   ]
  },
  {
   "cell_type": "markdown",
   "metadata": {},
   "source": [
    "Now that we have the sequence, we can turn it into a series with the prod function:"
   ]
  },
  {
   "cell_type": "code",
   "execution_count": 9,
   "metadata": {
    "tags": []
   },
   "outputs": [
    {
     "output_type": "execute_result",
     "data": {
      "text/plain": "  ________\n╲╱ √3 + 2 \n──────────\n    3     ",
      "text/latex": "$$\\frac{1}{3} \\sqrt{\\sqrt{3} + 2}$$"
     },
     "metadata": {},
     "execution_count": 9
    }
   ],
   "source": [
    "l = [surd_seq(i) for i in range(1,7)]\n",
    "prod(l)\n",
    "\n",
    "def surd_ser(k):\n",
    "    k = k + 1 # OBOB\n",
    "    l = [surd_seq(i) for i in range(1,k)]\n",
    "    return prod(l)\n",
    "\n",
    "surd_ser(2)/surd_seq(1)\n"
   ]
  },
  {
   "cell_type": "markdown",
   "metadata": {},
   "source": [
    "So now this seems to check out so let's go onto the actual problem and look at $\\mathrm{surd_ser} \\left( 100 \\right)$, unfourtunately we won't be able to use `simplify` here because each term relies on the previous term and hence this will not scale in polynomial time, rather it will scale in exponential time and it's going to be very resource intensive.\n",
    "\n",
    "To get an idea of what I mean, compare the time to evaluate 7 and 14 terms:\n",
    "\n"
   ]
  },
  {
   "cell_type": "code",
   "execution_count": 10,
   "metadata": {},
   "outputs": [
    {
     "output_type": "execute_result",
     "data": {
      "text/plain": "                                                                              \n                                                                              \n                                                 _____________________________\n                  _________________________     ╱         ____________________\n                 ╱        ________________     ╱         ╱    ________________\n     ________   ╱        ╱   ________         ╱         ╱    ╱   ________     \n√2⋅╲╱ 2 + √5 ⋅╲╱   2 + ╲╱  ╲╱ √5 + 4  + 3  ⋅╲╱    2 + ╲╱   ╲╱  ╲╱ √6 + 5  + 4 \n──────────────────────────────────────────────────────────────────────────────\n                                                                              \n\n                                                                   ___________\n             ______________________________________________       ╱           \n______      ╱          ___________________________________       ╱           ╱\n_____      ╱          ╱     _________________________           ╱           ╱ \n          ╱          ╱     ╱    ________________               ╱           ╱  \n         ╱          ╱     ╱    ╱   ________                   ╱           ╱   \n + 3  ⋅╲╱     2 + ╲╱    ╲╱   ╲╱  ╲╱ √7 + 6  + 5  + 4  + 3  ⋅╲╱      2 + ╲╱    \n──────────────────────────────────────────────────────────────────────────────\n                           40320                                              \n\n_________________________________________________           \n________________________________________________            \n      _____________________________________                 \n     ╱     ___________________________                      \n    ╱     ╱    __________________                           \n   ╱     ╱    ╱   __________                        ________\n ╲╱    ╲╱   ╲╱  ╲╱ 2⋅√2 + 7  + 6  + 5  + 4  + 3  ⋅╲╱ √3 + 2 \n────────────────────────────────────────────────────────────\n                                                            ",
      "text/latex": "$$\\frac{\\sqrt{2}}{40320} \\sqrt{2 + \\sqrt{5}} \\sqrt{2 + \\sqrt{\\sqrt{\\sqrt{5} + 4} + 3}} \\sqrt{2 + \\sqrt{\\sqrt{\\sqrt{\\sqrt{6} + 5} + 4} + 3}} \\sqrt{2 + \\sqrt{\\sqrt{\\sqrt{\\sqrt{\\sqrt{7} + 6} + 5} + 4} + 3}} \\sqrt{2 + \\sqrt{\\sqrt{\\sqrt{\\sqrt{\\sqrt{2 \\sqrt{2} + 7} + 6} + 5} + 4} + 3}} \\sqrt{\\sqrt{3} + 2}$$"
     },
     "metadata": {},
     "execution_count": 10
    }
   ],
   "source": [
    "simplify(surd_ser(7))"
   ]
  },
  {
   "cell_type": "code",
   "execution_count": 11,
   "metadata": {},
   "outputs": [
    {
     "output_type": "execute_result",
     "data": {
      "text/plain": "                                                                              \n                                                                              \n                                                                              \n                                                                              \n                                                                              \n                                                                              \n                                                                              \n                                                                              \n                                                                              \n                                                 _____________________________\n                  _________________________     ╱         ____________________\n                 ╱        ________________     ╱         ╱    ________________\n     ________   ╱        ╱   ________         ╱         ╱    ╱   ________     \n√2⋅╲╱ 2 + √5 ⋅╲╱   2 + ╲╱  ╲╱ √5 + 4  + 3  ⋅╲╱    2 + ╲╱   ╲╱  ╲╱ √6 + 5  + 4 \n──────────────────────────────────────────────────────────────────────────────\n                                                                              \n\n                                                                              \n                                                                              \n                                                                              \n                                                                              \n                                                                              \n                                                                              \n                                                                              \n                                                                   ___________\n             ______________________________________________       ╱           \n______      ╱          ___________________________________       ╱           ╱\n_____      ╱          ╱     _________________________           ╱           ╱ \n          ╱          ╱     ╱    ________________               ╱           ╱  \n         ╱          ╱     ╱    ╱   ________                   ╱           ╱   \n + 3  ⋅╲╱     2 + ╲╱    ╲╱   ╲╱  ╲╱ √7 + 6  + 5  + 4  + 3  ⋅╲╱      2 + ╲╱    \n──────────────────────────────────────────────────────────────────────────────\n                                                                              \n\n                                                                              \n                                                                              \n                                                                              \n                                                                              \n                                                                              \n                                                                              \n                                                                              \n________________________________________________        ______________________\n_______________________________________________        ╱           ___________\n      ____________________________________            ╱           ╱      _____\n     ╱     __________________________                ╱           ╱      ╱     \n    ╱     ╱    _________________                    ╱           ╱      ╱     ╱\n   ╱     ╱    ╱   _________                        ╱           ╱      ╱     ╱ \n ╲╱    ╲╱   ╲╱  ╲╱ √11 + 7  + 6  + 5  + 4  + 3  ⋅╲╱      2 + ╲╱     ╲╱    ╲╱  \n──────────────────────────────────────────────────────────────────────────────\n                                                                              \n\n                                                                              \n                                                                              \n                                                                              \n                                                                              \n                                                                              \n                                                ______________________________\n                                               ╱             _________________\n______________________________________        ╱             ╱        _________\n_____________________________________        ╱             ╱        ╱       __\n________________________________            ╱             ╱        ╱       ╱  \n___________________________                ╱             ╱        ╱       ╱   \n    __________________                    ╱             ╱        ╱       ╱    \n   ╱   __________                        ╱             ╱        ╱       ╱     \n ╲╱  ╲╱ 2⋅√2 + 7  + 6  + 5  + 4  + 3  ⋅╲╱        2 + ╲╱       ╲╱      ╲╱     ╲\n──────────────────────────────────────────────────────────────────────────────\n                                                                              \n\n                                                                              \n                                                                              \n                                                                              \n                                                                              \n                                                                   ___________\n________________________________________________________          ╱           \n_______________________________________________________          ╱            \n__________________________________________________              ╱             \n_____________________________________________                  ╱              \n    ____________________________________                      ╱              ╱\n   ╱     __________________________                          ╱              ╱ \n  ╱     ╱    _________________                              ╱              ╱  \n ╱     ╱    ╱   _________                                  ╱              ╱   \n╱    ╲╱   ╲╱  ╲╱ √10 + 9  + 8  + 7  + 6  + 5  + 4  + 3  ⋅╲╱         2 + ╲╱    \n──────────────────────────────────────────────────────────────────────────────\n                                                                              \n\n                                                                              \n                                                                              \n                                                                              \n                                                                              \n______________________________________________________________________________\n   ___________________________________________________________________________\n  ╱         __________________________________________________________________\n ╱         ╱        __________________________________________________________\n╱         ╱        ╱       ________________________________________________   \n         ╱        ╱       ╱      _____________________________________        \n        ╱        ╱       ╱      ╱     ___________________________             \n       ╱        ╱       ╱      ╱     ╱    __________________                  \n      ╱        ╱       ╱      ╱     ╱    ╱   __________                       \n    ╲╱       ╲╱      ╲╱     ╲╱    ╲╱   ╲╱  ╲╱ √11 + 10  + 9  + 8  + 7  + 6  + \n──────────────────────────────────────────────────────────────────────────────\n                                                                              \n\n                                                                              \n                                                                              \n                                                                              \n                         _____________________________________________________\n_____________           ╱               ______________________________________\n____________           ╱               ╱          ____________________________\n_______               ╱               ╱          ╱         ___________________\n__                   ╱               ╱          ╱         ╱        ___________\n                    ╱               ╱          ╱         ╱        ╱       ____\n                   ╱               ╱          ╱         ╱        ╱       ╱    \n                  ╱               ╱          ╱         ╱        ╱       ╱     \n                 ╱               ╱          ╱         ╱        ╱       ╱      \n                ╱               ╱          ╱         ╱        ╱       ╱      ╱\n5  + 4  + 3  ⋅╲╱          2 + ╲╱         ╲╱        ╲╱       ╲╱      ╲╱     ╲╱ \n──────────────────────────────────────────────────────────────────────────────\n                                                                              \n\n                                                                              \n                                                                              \n                                                                              \n___________________________________________________________________           \n__________________________________________________________________            \n_____________________________________________________________                ╱\n________________________________________________________                    ╱ \n___________________________________________________                        ╱  \n______________________________________________                            ╱   \n  _______________________________________                                ╱    \n ╱     _____________________________                                    ╱     \n╱     ╱    ____________________                                        ╱      \n     ╱    ╱   ___________                                             ╱       \n   ╲╱   ╲╱  ╲╱ 2⋅√3 + 11  + 10  + 9  + 8  + 7  + 6  + 5  + 4  + 3  ⋅╲╱        \n──────────────────────────────────────────────────────────────────────────────\n               1307674368000                                                  \n\n                                                                              \n                                                                              \n  ____________________________________________________________________________\n ╱                ____________________________________________________________\n╱                ╱           _________________________________________________\n                ╱           ╱          _______________________________________\n               ╱           ╱          ╱         ______________________________\n              ╱           ╱          ╱         ╱        ______________________\n             ╱           ╱          ╱         ╱        ╱       _______________\n            ╱           ╱          ╱         ╱        ╱       ╱      _________\n           ╱           ╱          ╱         ╱        ╱       ╱      ╱     ____\n          ╱           ╱          ╱         ╱        ╱       ╱      ╱     ╱    \n         ╱           ╱          ╱         ╱        ╱       ╱      ╱     ╱    ╱\n   2 + ╲╱          ╲╱         ╲╱        ╲╱       ╲╱      ╲╱     ╲╱    ╲╱   ╲╱ \n──────────────────────────────────────────────────────────────────────────────\n                                                                              \n\n                                                                              \n                                                                           ___\n_____________________________________________________________             ╱   \n____________________________________________________________             ╱    \n_______________________________________________________                 ╱     \n__________________________________________________                     ╱      \n_____________________________________________                         ╱       \n________________________________________                             ╱        \n___________________________________                                 ╱         \n______________________________                                     ╱          \n_________________________                                         ╱           \n___________________                                              ╱            \n   __________                                                   ╱             \n ╲╱ √13 + 12  + 11  + 10  + 9  + 8  + 7  + 6  + 5  + 4  + 3  ⋅╲╱            2 \n──────────────────────────────────────────────────────────────────────────────\n                                                                              \n\n                                                                              \n______________________________________________________________________________\n              ________________________________________________________________\n             ╱            ____________________________________________________\n            ╱            ╱           _________________________________________\n           ╱            ╱           ╱          _______________________________\n          ╱            ╱           ╱          ╱         ______________________\n         ╱            ╱           ╱          ╱         ╱        ______________\n        ╱            ╱           ╱          ╱         ╱        ╱       _______\n       ╱            ╱           ╱          ╱         ╱        ╱       ╱      _\n      ╱            ╱           ╱          ╱         ╱        ╱       ╱      ╱ \n     ╱            ╱           ╱          ╱         ╱        ╱       ╱      ╱  \n    ╱            ╱           ╱          ╱         ╱        ╱       ╱      ╱   \n+ ╲╱           ╲╱          ╲╱         ╲╱        ╲╱       ╲╱      ╲╱     ╲╱    \n──────────────────────────────────────────────────────────────────────────────\n                                                                              \n\n                                                                              \n___________________________________________________________________________   \n__________________________________________________________________________    \n_____________________________________________________________________         \n________________________________________________________________              \n___________________________________________________________                   \n______________________________________________________                        \n_________________________________________________                             \n____________________________________________                                  \n_______________________________________                                       \n    _____________________________                                             \n   ╱    ___________________                                                   \n  ╱    ╱   __________                                                         \n╲╱   ╲╱  ╲╱ √14 + 13  + 12  + 11  + 10  + 9  + 8  + 7  + 6  + 5  + 4  + 3  ⋅╲╱\n──────────────────────────────────────────────────────────────────────────────\n                                                                              \n\n            __________________________________________________________________\n           ╱                  ________________________________________________\n          ╱                  ╱             ___________________________________\n         ╱                  ╱             ╱            _______________________\n        ╱                  ╱             ╱            ╱           ____________\n       ╱                  ╱             ╱            ╱           ╱          __\n      ╱                  ╱             ╱            ╱           ╱          ╱  \n     ╱                  ╱             ╱            ╱           ╱          ╱   \n    ╱                  ╱             ╱            ╱           ╱          ╱    \n   ╱                  ╱             ╱            ╱           ╱          ╱     \n  ╱                  ╱             ╱            ╱           ╱          ╱      \n ╱                  ╱             ╱            ╱           ╱          ╱       \n╱                  ╱             ╱            ╱           ╱          ╱        \n             2 + ╲╱            ╲╱           ╲╱          ╲╱         ╲╱        ╲\n──────────────────────────────────────────────────────────────────────────────\n                                                                              \n\n______________________________________________________________________________\n______________________________________________________________________________\n______________________________________________________________________________\n______________________________________________________________________________\n______________________________________________________________________________\n______________________________________________________________________________\n       _______________________________________________________________________\n      ╱        _______________________________________________________________\n     ╱        ╱       ____________________________________________________    \n    ╱        ╱       ╱      ________________________________________          \n   ╱        ╱       ╱      ╱     _____________________________                \n  ╱        ╱       ╱      ╱     ╱    ___________________                      \n ╱        ╱       ╱      ╱     ╱    ╱   __________                            \n╱       ╲╱      ╲╱     ╲╱    ╲╱   ╲╱  ╲╱ √15 + 14  + 13  + 12  + 11  + 10  + 9\n──────────────────────────────────────────────────────────────────────────────\n                                                                              \n\n________________________________           \n_______________________________            \n__________________________                 \n_____________________                      \n________________                           \n___________                                \n______                                     \n_                                          \n                                           \n                                           \n                                           \n                                           \n                                   ________\n  + 8  + 7  + 6  + 5  + 4  + 3  ⋅╲╱ √3 + 2 \n───────────────────────────────────────────\n                                           ",
      "text/latex": "$$\\frac{\\sqrt{2}}{1307674368000} \\sqrt{2 + \\sqrt{5}} \\sqrt{2 + \\sqrt{\\sqrt{\\sqrt{5} + 4} + 3}} \\sqrt{2 + \\sqrt{\\sqrt{\\sqrt{\\sqrt{6} + 5} + 4} + 3}} \\sqrt{2 + \\sqrt{\\sqrt{\\sqrt{\\sqrt{\\sqrt{7} + 6} + 5} + 4} + 3}} \\sqrt{2 + \\sqrt{\\sqrt{\\sqrt{\\sqrt{\\sqrt{\\sqrt{11} + 7} + 6} + 5} + 4} + 3}} \\sqrt{2 + \\sqrt{\\sqrt{\\sqrt{\\sqrt{\\sqrt{2 \\sqrt{2} + 7} + 6} + 5} + 4} + 3}} \\sqrt{2 + \\sqrt{\\sqrt{\\sqrt{\\sqrt{\\sqrt{\\sqrt{\\sqrt{\\sqrt{10} + 9} + 8} + 7} + 6} + 5} + 4} + 3}} \\sqrt{2 + \\sqrt{\\sqrt{\\sqrt{\\sqrt{\\sqrt{\\sqrt{\\sqrt{\\sqrt{\\sqrt{11} + 10} + 9} + 8} + 7} + 6} + 5} + 4} + 3}} \\sqrt{2 + \\sqrt{\\sqrt{\\sqrt{\\sqrt{\\sqrt{\\sqrt{\\sqrt{\\sqrt{\\sqrt{2 \\sqrt{3} + 11} + 10} + 9} + 8} + 7} + 6} + 5} + 4} + 3}} \\sqrt{2 + \\sqrt{\\sqrt{\\sqrt{\\sqrt{\\sqrt{\\sqrt{\\sqrt{\\sqrt{\\sqrt{\\sqrt{\\sqrt{13} + 12} + 11} + 10} + 9} + 8} + 7} + 6} + 5} + 4} + 3}} \\sqrt{2 + \\sqrt{\\sqrt{\\sqrt{\\sqrt{\\sqrt{\\sqrt{\\sqrt{\\sqrt{\\sqrt{\\sqrt{\\sqrt{\\sqrt{14} + 13} + 12} + 11} + 10} + 9} + 8} + 7} + 6} + 5} + 4} + 3}} \\sqrt{2 + \\sqrt{\\sqrt{\\sqrt{\\sqrt{\\sqrt{\\sqrt{\\sqrt{\\sqrt{\\sqrt{\\sqrt{\\sqrt{\\sqrt{\\sqrt{15} + 14} + 13} + 12} + 11} + 10} + 9} + 8} + 7} + 6} + 5} + 4} + 3}} \\sqrt{\\sqrt{3} + 2}$$"
     },
     "metadata": {},
     "execution_count": 11
    }
   ],
   "source": [
    "simplify(surd_ser(14))"
   ]
  },
  {
   "cell_type": "markdown",
   "metadata": {},
   "source": [
    "Instead we will need to approach this numerically, again though we will have performance limitations, consider for example, evaluating this expression to 40:"
   ]
  },
  {
   "cell_type": "code",
   "execution_count": 12,
   "metadata": {},
   "outputs": [
    {
     "output_type": "execute_result",
     "data": {
      "text/plain": "1.18026611043774e-37",
      "text/latex": "$$1.18026611043774 \\cdot 10^{-37}$$"
     },
     "metadata": {},
     "execution_count": 12
    }
   ],
   "source": [
    "N(surd_ser(40))"
   ]
  },
  {
   "cell_type": "code",
   "execution_count": 13,
   "metadata": {},
   "outputs": [
    {
     "output_type": "error",
     "ename": "SyntaxError",
     "evalue": "invalid syntax (<ipython-input-13-f319d7d5232d>, line 1)",
     "traceback": [
      "\u001b[0;36m  File \u001b[0;32m\"<ipython-input-13-f319d7d5232d>\"\u001b[0;36m, line \u001b[0;32m1\u001b[0m\n\u001b[0;31m    Now consider evaluating it to 50:\u001b[0m\n\u001b[0m        ^\u001b[0m\n\u001b[0;31mSyntaxError\u001b[0m\u001b[0;31m:\u001b[0m invalid syntax\n"
     ]
    }
   ],
   "source": [
    "Now consider evaluating it to 50:"
   ]
  },
  {
   "cell_type": "code",
   "execution_count": 14,
   "metadata": {},
   "outputs": [
    {
     "output_type": "execute_result",
     "data": {
      "text/plain": "4.05422002157275e-51",
      "text/latex": "$$4.05422002157275 \\cdot 10^{-51}$$"
     },
     "metadata": {},
     "execution_count": 14
    }
   ],
   "source": [
    "N(surd_ser(50))"
   ]
  },
  {
   "cell_type": "markdown",
   "metadata": {},
   "source": [
    "It takes a considerably longer time, instead we need to look at this from a functional perspective and rewrite the function:"
   ]
  },
  {
   "cell_type": "code",
   "execution_count": 15,
   "metadata": {},
   "outputs": [
    {
     "output_type": "execute_result",
     "data": {
      "text/plain": "0.455341801261480",
      "text/latex": "$$0.45534180126148$$"
     },
     "metadata": {},
     "execution_count": 15
    }
   ],
   "source": [
    "k = 3\n",
    "def surd_seq(k, numerical = False):\n",
    "    expr = 0\n",
    "    if numerical:\n",
    "        for i in reversed(range(2, k+2)):\n",
    "            expr = N(sqrt(i + expr))\n",
    "    else:\n",
    "        for i in reversed(range(2, k+2)):\n",
    "            expr = sqrt(i + expr)\n",
    "    return expr/(k+1)\n",
    "surd_seq(3)\n",
    "\n",
    "def surd_ser(k, numerical = False):\n",
    "    if numerical:\n",
    "        k = k + 1 # OBOB\n",
    "        l = [surd_seq(i, numerical = True) for i in range(1,k)]\n",
    "    else:\n",
    "        k = k + 1 # OBOB\n",
    "        l = [surd_seq(i, numerical = False) for i in range(1,k)]\n",
    "    return prod(l)\n",
    "\n",
    "surd_ser(2, True)\n"
   ]
  },
  {
   "cell_type": "markdown",
   "metadata": {},
   "source": [
    "Now we will be able to evaluate this much more easily:"
   ]
  },
  {
   "cell_type": "code",
   "execution_count": 16,
   "metadata": {},
   "outputs": [
    {
     "output_type": "execute_result",
     "data": {
      "text/plain": "6.83824783929329e-129",
      "text/latex": "$$6.83824783929329 \\cdot 10^{-129}$$"
     },
     "metadata": {},
     "execution_count": 16
    }
   ],
   "source": [
    "surd_ser(100, numerical = True)"
   ]
  },
  {
   "cell_type": "markdown",
   "metadata": {},
   "source": [
    "This clearly demonstrates that the value is less than $10^{-100}$"
   ]
  },
  {
   "cell_type": "markdown",
   "metadata": {},
   "source": [
    "## Numerical Performance"
   ]
  },
  {
   "cell_type": "markdown",
   "metadata": {},
   "source": [
    "Sympy does have some limitations, let's demonstrate this by pushing the evaluation to it's limits."
   ]
  },
  {
   "cell_type": "code",
   "execution_count": 17,
   "metadata": {},
   "outputs": [
    {
     "output_type": "execute_result",
     "data": {
      "text/plain": "1.28458730802734e-977",
      "text/latex": "$$1.28458730802734 \\cdot 10^{-977}$$"
     },
     "metadata": {},
     "execution_count": 17
    }
   ],
   "source": [
    "surd_ser(500, numerical = True)"
   ]
  },
  {
   "cell_type": "markdown",
   "metadata": {},
   "source": [
    "By rewriting this in `numpy` we can get even better performance, so first import `numpy`:"
   ]
  },
  {
   "cell_type": "code",
   "execution_count": 18,
   "metadata": {},
   "outputs": [
    {
     "output_type": "execute_result",
     "data": {
      "text/plain": "1.7320508075688772",
      "text/latex": "$$1.7320508075688772$$"
     },
     "metadata": {},
     "execution_count": 18
    }
   ],
   "source": [
    "import numpy\n",
    "np.sqrt(3)"
   ]
  },
  {
   "cell_type": "code",
   "execution_count": 19,
   "metadata": {},
   "outputs": [
    {
     "output_type": "error",
     "ename": "SyntaxError",
     "evalue": "invalid syntax (<ipython-input-19-75b85985727e>, line 1)",
     "traceback": [
      "\u001b[0;36m  File \u001b[0;32m\"<ipython-input-19-75b85985727e>\"\u001b[0;36m, line \u001b[0;32m1\u001b[0m\n\u001b[0;31m    Now it's just a matter of swapping `sqrt()` for `np.sqrt`.\u001b[0m\n\u001b[0m        ^\u001b[0m\n\u001b[0;31mSyntaxError\u001b[0m\u001b[0;31m:\u001b[0m invalid syntax\n"
     ]
    }
   ],
   "source": [
    "Now it's just a matter of swapping `sqrt()` for `np.sqrt`."
   ]
  },
  {
   "cell_type": "code",
   "execution_count": 20,
   "metadata": {},
   "outputs": [
    {
     "output_type": "error",
     "ename": "TypeError",
     "evalue": "sqrt() got an unexpected keyword argument 'evaluate'",
     "traceback": [
      "\u001b[0;31m---------------------------------------------------------------------------\u001b[0m",
      "\u001b[0;31mTypeError\u001b[0m                                 Traceback (most recent call last)",
      "\u001b[0;32m<ipython-input-20-52b64861ce9e>\u001b[0m in \u001b[0;36m<module>\u001b[0;34m\u001b[0m\n\u001b[1;32m      9\u001b[0m             \u001b[0mexpr\u001b[0m \u001b[0;34m=\u001b[0m \u001b[0msqrt\u001b[0m\u001b[0;34m(\u001b[0m\u001b[0mi\u001b[0m \u001b[0;34m+\u001b[0m \u001b[0mexpr\u001b[0m\u001b[0;34m,\u001b[0m \u001b[0mevaluate\u001b[0m\u001b[0;34m=\u001b[0m\u001b[0;32mFalse\u001b[0m\u001b[0;34m)\u001b[0m\u001b[0;34m\u001b[0m\u001b[0;34m\u001b[0m\u001b[0m\n\u001b[1;32m     10\u001b[0m     \u001b[0;32mreturn\u001b[0m \u001b[0mexpr\u001b[0m\u001b[0;34m/\u001b[0m\u001b[0;34m(\u001b[0m\u001b[0mk\u001b[0m\u001b[0;34m+\u001b[0m\u001b[0;36m1\u001b[0m\u001b[0;34m)\u001b[0m\u001b[0;34m\u001b[0m\u001b[0;34m\u001b[0m\u001b[0m\n\u001b[0;32m---> 11\u001b[0;31m \u001b[0msurd_seq\u001b[0m\u001b[0;34m(\u001b[0m\u001b[0;36m3\u001b[0m\u001b[0;34m)\u001b[0m\u001b[0;34m\u001b[0m\u001b[0;34m\u001b[0m\u001b[0m\n\u001b[0m\u001b[1;32m     12\u001b[0m \u001b[0;34m\u001b[0m\u001b[0m\n\u001b[1;32m     13\u001b[0m \u001b[0;32mdef\u001b[0m \u001b[0msurd_ser\u001b[0m\u001b[0;34m(\u001b[0m\u001b[0mk\u001b[0m\u001b[0;34m,\u001b[0m \u001b[0mnumerical\u001b[0m \u001b[0;34m=\u001b[0m \u001b[0;32mFalse\u001b[0m\u001b[0;34m)\u001b[0m\u001b[0;34m:\u001b[0m\u001b[0;34m\u001b[0m\u001b[0;34m\u001b[0m\u001b[0m\n",
      "\u001b[0;32m<ipython-input-20-52b64861ce9e>\u001b[0m in \u001b[0;36msurd_seq\u001b[0;34m(k, numerical)\u001b[0m\n\u001b[1;32m      7\u001b[0m     \u001b[0;32melse\u001b[0m\u001b[0;34m:\u001b[0m\u001b[0;34m\u001b[0m\u001b[0;34m\u001b[0m\u001b[0m\n\u001b[1;32m      8\u001b[0m         \u001b[0;32mfor\u001b[0m \u001b[0mi\u001b[0m \u001b[0;32min\u001b[0m \u001b[0mreversed\u001b[0m\u001b[0;34m(\u001b[0m\u001b[0mrange\u001b[0m\u001b[0;34m(\u001b[0m\u001b[0;36m2\u001b[0m\u001b[0;34m,\u001b[0m \u001b[0mk\u001b[0m\u001b[0;34m+\u001b[0m\u001b[0;36m2\u001b[0m\u001b[0;34m)\u001b[0m\u001b[0;34m)\u001b[0m\u001b[0;34m:\u001b[0m\u001b[0;34m\u001b[0m\u001b[0;34m\u001b[0m\u001b[0m\n\u001b[0;32m----> 9\u001b[0;31m             \u001b[0mexpr\u001b[0m \u001b[0;34m=\u001b[0m \u001b[0msqrt\u001b[0m\u001b[0;34m(\u001b[0m\u001b[0mi\u001b[0m \u001b[0;34m+\u001b[0m \u001b[0mexpr\u001b[0m\u001b[0;34m,\u001b[0m \u001b[0mevaluate\u001b[0m\u001b[0;34m=\u001b[0m\u001b[0;32mFalse\u001b[0m\u001b[0;34m)\u001b[0m\u001b[0;34m\u001b[0m\u001b[0;34m\u001b[0m\u001b[0m\n\u001b[0m\u001b[1;32m     10\u001b[0m     \u001b[0;32mreturn\u001b[0m \u001b[0mexpr\u001b[0m\u001b[0;34m/\u001b[0m\u001b[0;34m(\u001b[0m\u001b[0mk\u001b[0m\u001b[0;34m+\u001b[0m\u001b[0;36m1\u001b[0m\u001b[0;34m)\u001b[0m\u001b[0;34m\u001b[0m\u001b[0;34m\u001b[0m\u001b[0m\n\u001b[1;32m     11\u001b[0m \u001b[0msurd_seq\u001b[0m\u001b[0;34m(\u001b[0m\u001b[0;36m3\u001b[0m\u001b[0;34m)\u001b[0m\u001b[0;34m\u001b[0m\u001b[0;34m\u001b[0m\u001b[0m\n",
      "\u001b[0;31mTypeError\u001b[0m: sqrt() got an unexpected keyword argument 'evaluate'"
     ]
    }
   ],
   "source": [
    "k = 3\n",
    "def surd_seq(k, numerical = False):\n",
    "    expr = 0\n",
    "    if numerical:\n",
    "        for i in reversed(range(2, k+2)):\n",
    "            expr = np.sqrt(i + expr, )\n",
    "    else:\n",
    "        for i in reversed(range(2, k+2)):\n",
    "            expr = sqrt(i + expr, evaluate=False)\n",
    "    return expr/(k+1)\n",
    "surd_seq(3)\n",
    "\n",
    "def surd_ser(k, numerical = False):\n",
    "    if numerical:\n",
    "        k = k + 1 # OBOB\n",
    "        l = [surd_seq(i, numerical = True) for i in range(1,k)]\n",
    "    else:\n",
    "        k = k + 1 # OBOB\n",
    "        l = [surd_seq(i, numerical = False) for i in range(1,k)]\n",
    "    return prod(l)\n",
    "\n",
    "surd_ser(2, True)\n"
   ]
  },
  {
   "cell_type": "code",
   "execution_count": 21,
   "metadata": {},
   "outputs": [
    {
     "output_type": "execute_result",
     "data": {
      "text/plain": "0.0",
      "text/latex": "$$0.0$$"
     },
     "metadata": {},
     "execution_count": 21
    }
   ],
   "source": [
    "surd_ser(500, numerical = True)"
   ]
  },
  {
   "cell_type": "markdown",
   "metadata": {},
   "source": [
    "Now `0` doesn't seem helpful, but in an engineering context it is if you bear in mind that `numpy` uses `double` precision (as in double a `float32` which is `float64`), this has an accuracy of 16 digits.\n",
    "\n",
    "So this answer tells us that this series reaches 0, to a `double` precision, by 500 iterations.\n",
    "\n",
    "Symbolically this series is limited by 0."
   ]
  },
  {
   "cell_type": "markdown",
   "metadata": {},
   "source": [
    "## Choosing the Tool"
   ]
  },
  {
   "cell_type": "markdown",
   "metadata": {},
   "source": [
    "What this example demonstrates is the need to choose the right tool in *Python*, compared to a language like *Mathematica*, *Python* requires the user to be mindful of what they are trying to do beforehand as opposed to after, generally:\n",
    "\n",
    "| Library     | Use Case                                                           |\n",
    "| ---         | ---                                                                |\n",
    "| *SymPy*     | Necessary for Symbolic Algebra                                     |\n",
    "| *SymPy* `N()` | When arbitrary numerical precision is required despite performance |\n",
    "| *NumPy*     | When High Performance Numerical Solutions are required up to 15 dp |\n"
   ]
  },
  {
   "cell_type": "markdown",
   "metadata": {},
   "source": [
    "\n",
    "## Series and Recursion\n",
    "\n",
    "The problem we were dealing with provided this series, which we solved via a `for` loop:\n",
    "$$\n",
    "\\begin{aligned}\n",
    "    g\\left( k \\right) &=  \\frac{\\sqrt{2} }{2} \\cdot   \\frac{\\sqrt{2+  \\sqrt{3}}  }{3} \\frac{\\sqrt{2 +  \\sqrt{3 +  \\sqrt{4} } } }{4} \\cdot  \\ldots \\frac{\\sqrt{2 +  \\sqrt{3 +  \\ldots +  \\sqrt{k} } } }{k}\n",
    "\\end{aligned}\n",
    "$$\n",
    "\n",
    "let's modify this for the sake of discussion:\n",
    "\n",
    "$$\n",
    "\\begin{aligned}\n",
    "h\\left( k \\right) = \\frac{\\sqrt{2}  }{2} \\cdot  \\frac{\\sqrt{3 +  \\sqrt{2} } }{3} \\cdot  \\frac{\\sqrt{4 +  \\sqrt{3 +  \\sqrt{2} } } }{4} +  \\ldots +  \\frac{\\sqrt{k +  \\sqrt{k - 1 +  \\ldots \\sqrt{3 + \\sqrt{2}  } } } }{k}\n",
    "\\end{aligned}\n",
    "$$\n",
    "\n",
    "\n",
    "Essentially this difference obviates the need to use the `reversed` function in the previous `for` loop.\n",
    "\n",
    "The function $h$ can be expressed by the series:\n",
    "\n",
    "$$\n",
    "\\begin{aligned}\n",
    "h\\left( k \\right) = \\prod^k_{i = 2} \\left( \\frac{f_k}{k}  \\right)  \\quad : \\quad f_i = \\sqrt{i +  f_{i - 1}}  \n",
    "\\end{aligned}\n",
    "$$\n",
    "\n",
    "Within *Python* this isn't actually to difficult to express, something to the effect of the following would be sufficient:\n",
    "\n",
    "```{python}\n",
    "from sympy import *\n",
    "def h(k):\n",
    "    if k > 2:\n",
    "\treturn f(k) * f(k-1)\n",
    "    else:\n",
    "        return 1\n",
    "\n",
    "def f(i):\n",
    "    expr = 0\n",
    "    if i > 2:\n",
    "        return sqrt(i + f(i -1))\n",
    "    else:\n",
    "        return 1\n",
    "```\n",
    "\n",
    "This is a very natural way to define series and sequencies and can be contrasted with a for loop.\n",
    "\n",
    "\n",
    "\n",
    "```{python}\n",
    "from sympy import *\n",
    "def h(k):\n",
    "    k = k + 1 # OBOB\n",
    "    l = [f(i) for i in range(1,k)]\n",
    "    return prod(l)\n",
    "\n",
    "def f(k):\n",
    "    expr = 0\n",
    "    for i in range(2, k+2):\n",
    "        expr = sqrt(i + expr, evaluate=False)\n",
    "    return expr/(k+1)\n",
    "```\n",
    "\n",
    "\n",
    "If a function can be defined using a loop it can always be defined via recursion as well, [^823] the question is which will be more appropriate, generally the process for determining which is more appropriate is to the effect of:\n",
    "\n",
    "1. Write the problem in a way that is easier to write or is more appropriate for demonstration\n",
    "2. If performance is necessary then consider restructuring recursion for loops\n",
    "    - In languages such ***R*** and *Python* :snake:, loops are usually faster, although there may be exceptions to this.\n",
    "\n",
    "### Some Functions are more difficult to express with Recursion in *Python*\n",
    "\n",
    "Consider the function $g\\left( k \\right)$:\n",
    "\n",
    "$$\n",
    "\\begin{aligned}\n",
    "    g\\left( k \\right) &=  \\frac{\\sqrt{2} }{2} \\cdot   \\frac{\\sqrt{2+  \\sqrt{3}}  }{3} \\frac{\\sqrt{2 +  \\sqrt{3 +  \\sqrt{4} } } }{4} \\cdot  \\ldots \\frac{\\sqrt{2 +  \\sqrt{3 +  \\ldots +  \\sqrt{k} } } }{k} \\\\\n",
    "    &=  \\prod^k_{i = 2} \\left( \\frac{f_k}{k}  \\right) \\quad : \\quad f_{i} = \\sqrt{i +  f_{i+1}}\n",
    "\\end{aligned}\n",
    "$$\n",
    "\n",
    "Observe that the sequence now *looks* forward, not back, to solve using a `for` loop the `reversed` function dealt with that issue quite nicely and the technique corresponding to $h\\left( k \\right)$ was able to be implemented, however mathematically this can be a little clumsy to illustrate, for example the following rewrite would allow this to occur:\n",
    "\n",
    "$$\n",
    "\\begin{aligned}\n",
    "    g\\left( k \\right) &=  \\prod^k_{i = 2} \\left( \\frac{f_k}{k}  \\right) \\quad : \\quad f_{i} = \\sqrt{\\left( k- i \\right)  +  f_{k - i - 1}}\n",
    "\\end{aligned}\n",
    "$$\n",
    "\n",
    "Now the function could be performed recursively in *Python* in a similar way, in particular, by performing something like this:\n",
    "\n",
    "```{python}\n",
    "from sympy import *\n",
    "def h(k):\n",
    "    if k > 2:\n",
    "\treturn f(k) * f(k-1)\n",
    "    else:\n",
    "        return 1\n",
    "\n",
    "def f(i, k):\n",
    "    if k > i:\n",
    "        return 1\n",
    "\n",
    "    if i > 2:\n",
    "\treturn sqrt((k-i) + f(k - i -1))\n",
    "    else:\n",
    "\treturn 1\n",
    "```\n",
    "\n",
    "The thing that's worth noting though is that it is much tricker to implement the recursive approach for $g\\left( k \\right)$ than $h\\left( k \\right)$, whereac the approach with the loop doesn't really change but for the inclusion of the `reversed()` function.\n",
    "\n",
    "\n",
    "\n",
    "```{python}\n",
    "from sympy import *\n",
    "def h(k):\n",
    "    k = k + 1 # OBOB\n",
    "    l = [f(i) for i in range(1,k)]\n",
    "    return prod(l)\n",
    "\n",
    "def f(k):\n",
    "    expr = 0\n",
    "    for i in reversed(range(2, k+2)):\n",
    "        expr = sqrt(i + expr, evaluate=False)\n",
    "    return expr/(k+1)\n",
    "```\n",
    "\n",
    "\n",
    "\n",
    "\n",
    "[^823]: [This Stack Answer puts it well](https://stackoverflow.com/a/2093703/12843551):\n",
    "    > There's a simple ad hoc proof for this.  Since you can build a Turing complete language using strictly iterative structures and a Turning complete language using only recursive structures, then the two are therefore equivalent.\n"
   ]
  },
  {
   "cell_type": "code",
   "execution_count": 22,
   "metadata": {},
   "outputs": [
    {
     "output_type": "execute_result",
     "data": {
      "text/plain": "√2\n──\n2 ",
      "text/latex": "$$\\frac{\\sqrt{2}}{2}$$"
     },
     "metadata": {},
     "execution_count": 22
    }
   ],
   "source": [
    "expr = 0\n",
    "k = 1\n",
    "for i in reversed(range(2, k+2)):\n",
    "    expr = sqrt(i + expr)\n",
    "expr/(k+1)"
   ]
  },
  {
   "cell_type": "code",
   "execution_count": 49,
   "metadata": {},
   "outputs": [
    {
     "output_type": "execute_result",
     "data": {
      "text/plain": "         ____________________________________\n        ╱         __________________________ \n       ╱         ╱        _________________  \n      ╱         ╱        ╱   _________       \n1 + ╲╱    1 + ╲╱   2 + ╲╱  ╲╱ √11 + 4  + 3   ",
      "text/latex": "$$1 + \\sqrt{1 + \\sqrt{2 + \\sqrt{\\sqrt{\\sqrt{11} + 4} + 3}}}$$"
     },
     "metadata": {},
     "execution_count": 49
    }
   ],
   "source": [
    "import functools\n",
    "def f(x, y):\n",
    "   return sqrt(x+y)\n",
    "1 + functools.reduce(f, reversed(range(1, 7)))"
   ]
  },
  {
   "cell_type": "code",
   "execution_count": 32,
   "metadata": {},
   "outputs": [
    {
     "output_type": "execute_result",
     "data": {
      "text/plain": "15",
      "text/latex": "$$15$$"
     },
     "metadata": {},
     "execution_count": 32
    }
   ],
   "source": [
    "functools.reduce(lambda x, y: x+y, [1, 2, 3, 4, 5])"
   ]
  }
 ]
}