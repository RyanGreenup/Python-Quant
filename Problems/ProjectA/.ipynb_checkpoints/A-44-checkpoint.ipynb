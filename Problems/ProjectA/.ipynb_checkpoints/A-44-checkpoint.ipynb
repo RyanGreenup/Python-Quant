{
 "cells": [
  {
   "cell_type": "code",
   "execution_count": null,
   "metadata": {},
   "outputs": [],
   "source": []
  },
  {
   "cell_type": "markdown",
   "metadata": {},
   "source": [
    "$$\n",
    "\\begin{aligned}\n",
    "    g\\left( k \\right) &=  \\frac{\\sqrt{2} }{2} \\cdot   \\frac{\\sqrt{2+  \\sqrt{3}}  }{3} \\frac{\\sqrt{2 +  \\sqrt{3 +  \\sqrt{4} } } }{4} \\cdot  \\ldots \\frac{\\sqrt{2 +  \\sqrt{3 +  \\ldots +  \\sqrt{k} } } }{k}\n",
    "\\end{aligned}\n",
    "$$\n"
   ]
  },
  {
   "cell_type": "code",
   "execution_count": 12,
   "metadata": {},
   "outputs": [],
   "source": [
    "from __future__ import division\n",
    "from sympy import *\n",
    "x, y, z, t = symbols('x y z t')\n",
    "k, m, n = symbols('k m n', integer=True)\n",
    "f, g, h = symbols('f g h', cls=Function)\n",
    "init_printing()\n",
    "init_printing(use_latex='mathjax', latex_mode='equation')\n",
    "\n",
    "\n",
    "import pyperclip\n",
    "def lx(expr):\n",
    "    pyperclip.copy(latex(expr))\n",
    "    print(expr)\n",
    "\n",
    "import numpy as np\n",
    "import matplotlib as plt"
   ]
  },
  {
   "cell_type": "markdown",
   "metadata": {},
   "source": [
    "First let's see if we can just print the numbers"
   ]
  },
  {
   "cell_type": "code",
   "execution_count": 15,
   "metadata": {
    "tags": []
   },
   "outputs": [
    {
     "name": "stdout",
     "output_type": "stream",
     "text": [
      "6\n",
      "5\n",
      "4\n",
      "3\n",
      "2\n",
      "1\n",
      "0\n"
     ]
    }
   ],
   "source": [
    "expr = 0\n",
    "k = 7\n",
    "for i in reversed(range(k)):\n",
    "    print(i)"
   ]
  },
  {
   "cell_type": "markdown",
   "metadata": {},
   "source": [
    "Right now let's start building an expression to get each term of the sequence:"
   ]
  },
  {
   "cell_type": "code",
   "execution_count": 80,
   "metadata": {
    "tags": []
   },
   "outputs": [
    {
     "data": {
      "text/latex": [
       "\\begin{equation}\\frac{\\sqrt{2}}{2}\\end{equation}"
      ],
      "text/plain": [
       "√2\n",
       "──\n",
       "2 "
      ]
     },
     "execution_count": 80,
     "metadata": {},
     "output_type": "execute_result"
    }
   ],
   "source": [
    "expr = 0\n",
    "k = 1\n",
    "for i in reversed(range(2, k+2)):\n",
    "    expr = sqrt(i + expr)\n",
    "expr/(k+1)"
   ]
  },
  {
   "cell_type": "code",
   "execution_count": 81,
   "metadata": {},
   "outputs": [
    {
     "data": {
      "text/latex": [
       "\\begin{equation}\\frac{\\sqrt{\\sqrt{3} + 2}}{3}\\end{equation}"
      ],
      "text/plain": [
       "  ________\n",
       "╲╱ √3 + 2 \n",
       "──────────\n",
       "    3     "
      ]
     },
     "execution_count": 81,
     "metadata": {},
     "output_type": "execute_result"
    }
   ],
   "source": [
    "expr = 0\n",
    "k = 2\n",
    "for i in reversed(range(2, k+2)):\n",
    "    expr = sqrt(i + expr)\n",
    "expr/(k+1)"
   ]
  },
  {
   "cell_type": "code",
   "execution_count": 82,
   "metadata": {},
   "outputs": [
    {
     "data": {
      "text/latex": [
       "\\begin{equation}\\frac{\\sqrt{2 + \\sqrt{5}}}{4}\\end{equation}"
      ],
      "text/plain": [
       "  ________\n",
       "╲╱ 2 + √5 \n",
       "──────────\n",
       "    4     "
      ]
     },
     "execution_count": 82,
     "metadata": {},
     "output_type": "execute_result"
    }
   ],
   "source": [
    "expr = 0\n",
    "k = 3\n",
    "for i in reversed(range(2, k+2)):\n",
    "    expr = sqrt(i + expr)\n",
    "expr/(k+1)"
   ]
  },
  {
   "cell_type": "markdown",
   "metadata": {},
   "source": [
    "So it seems to work but it's decided to simplify the surd which will get confusing, so avoid that we will pass the `evaluate = False` paraemeter [as described in the docs](https://docs.sympy.org/latest/tutorial/manipulation.html#prevent-expression-evaluation)"
   ]
  },
  {
   "cell_type": "code",
   "execution_count": 83,
   "metadata": {},
   "outputs": [
    {
     "data": {
      "text/latex": [
       "\\begin{equation}\\frac{\\sqrt{2 + \\sqrt{\\sqrt{4} + 3}}}{4}\\end{equation}"
      ],
      "text/plain": [
       "   ________________\n",
       "  ╱       ________ \n",
       "╲╱  2 + ╲╱ √4 + 3  \n",
       "───────────────────\n",
       "         4         "
      ]
     },
     "execution_count": 83,
     "metadata": {},
     "output_type": "execute_result"
    }
   ],
   "source": [
    "expr = 0\n",
    "k = 3\n",
    "for i in reversed(range(2, k+2)):\n",
    "    expr = sqrt(i + expr, evaluate=False)\n",
    "expr/(k+1)"
   ]
  },
  {
   "cell_type": "markdown",
   "metadata": {},
   "source": [
    "Now let's wrap the term generator into a function:"
   ]
  },
  {
   "cell_type": "code",
   "execution_count": 122,
   "metadata": {},
   "outputs": [
    {
     "data": {
      "text/latex": [
       "\\begin{equation}\\frac{\\sqrt{2 + \\sqrt{\\sqrt{4} + 3}}}{4}\\end{equation}"
      ],
      "text/plain": [
       "   ________________\n",
       "  ╱       ________ \n",
       "╲╱  2 + ╲╱ √4 + 3  \n",
       "───────────────────\n",
       "         4         "
      ]
     },
     "execution_count": 122,
     "metadata": {},
     "output_type": "execute_result"
    }
   ],
   "source": [
    "k = 3\n",
    "def surd_seq(k):\n",
    "    expr = 0\n",
    "    for i in reversed(range(2, k+2)):\n",
    "        expr = sqrt(i + expr, evaluate=False)\n",
    "    return expr/(k+1)\n",
    "surd_seq(3)\n"
   ]
  },
  {
   "cell_type": "markdown",
   "metadata": {},
   "source": [
    "Ok so that seems right so now let's instead look at a lot of the terms using list comprehension:"
   ]
  },
  {
   "cell_type": "code",
   "execution_count": 93,
   "metadata": {},
   "outputs": [
    {
     "data": {
      "text/latex": [
       "\\begin{equation}\\left[ \\frac{\\sqrt{2}}{2}, \\  \\frac{\\sqrt{\\sqrt{3} + 2}}{3}, \\  \\frac{\\sqrt{2 + \\sqrt{\\sqrt{4} + 3}}}{4}, \\  \\frac{\\sqrt{2 + \\sqrt{\\sqrt{\\sqrt{5} + 4} + 3}}}{5}, \\  \\frac{\\sqrt{2 + \\sqrt{\\sqrt{\\sqrt{\\sqrt{6} + 5} + 4} + 3}}}{6}, \\  \\frac{\\sqrt{2 + \\sqrt{\\sqrt{\\sqrt{\\sqrt{\\sqrt{7} + 6} + 5} + 4} + 3}}}{7}\\right]\\end{equation}"
      ],
      "text/plain": [
       "⎡                                                                             \n",
       "⎢                                                                         ____\n",
       "⎢                                         _________________________      ╱    \n",
       "⎢                   ________________     ╱        ________________      ╱     \n",
       "⎢      ________    ╱       ________     ╱        ╱   ________          ╱      \n",
       "⎢√2  ╲╱ √3 + 2   ╲╱  2 + ╲╱ √4 + 3    ╲╱   2 + ╲╱  ╲╱ √5 + 4  + 3    ╲╱    2 +\n",
       "⎢──, ──────────, ───────────────────, ─────────────────────────────, ─────────\n",
       "⎣2       3                4                         5                         \n",
       "\n",
       "                                       _______________________________________\n",
       "_______________________________       ╱          _____________________________\n",
       "     _________________________       ╱          ╱     ________________________\n",
       "    ╱    ________________           ╱          ╱     ╱    ________________    \n",
       "   ╱    ╱   ________               ╱          ╱     ╱    ╱   ________         \n",
       " ╲╱   ╲╱  ╲╱ √6 + 5  + 4  + 3    ╲╱     2 + ╲╱    ╲╱   ╲╱  ╲╱ √7 + 6  + 5  + 4\n",
       "───────────────────────────────, ─────────────────────────────────────────────\n",
       "          6                                               7                   \n",
       "\n",
       "_______⎤\n",
       "______ ⎥\n",
       "_      ⎥\n",
       "       ⎥\n",
       "       ⎥\n",
       "  + 3  ⎥\n",
       "───────⎥\n",
       "       ⎦"
      ]
     },
     "execution_count": 93,
     "metadata": {},
     "output_type": "execute_result"
    }
   ],
   "source": [
    "[surd_seq(i) for i in range(1, 7)]"
   ]
  },
  {
   "cell_type": "markdown",
   "metadata": {},
   "source": [
    "Unfourtunately there is no simple way, that I am aware of, to have it print the terms in the order we would expect, which is unfourtunate."
   ]
  },
  {
   "cell_type": "markdown",
   "metadata": {},
   "source": [
    "Now that we have the sequence, we can turn it into a series with the prod function:"
   ]
  },
  {
   "cell_type": "code",
   "execution_count": 125,
   "metadata": {
    "tags": []
   },
   "outputs": [
    {
     "data": {
      "text/latex": [
       "\\begin{equation}\\frac{\\sqrt{\\sqrt{3} + 2}}{3}\\end{equation}"
      ],
      "text/plain": [
       "  ________\n",
       "╲╱ √3 + 2 \n",
       "──────────\n",
       "    3     "
      ]
     },
     "execution_count": 125,
     "metadata": {},
     "output_type": "execute_result"
    }
   ],
   "source": [
    "l = [surd_seq(i) for i in range(1,7)]\n",
    "prod(l)\n",
    "\n",
    "def surd_ser(k):\n",
    "    k = k + 1 # OBOB\n",
    "    l = [surd_seq(i) for i in range(1,k)]\n",
    "    return prod(l)\n",
    "\n",
    "surd_ser(2)/surd_seq(1)\n"
   ]
  },
  {
   "cell_type": "markdown",
   "metadata": {},
   "source": [
    "So now this seems to check out so let's go onto the actual problem and look at $\\text{surd_ser}(100)$, unfourtunately we won't be able to use `simplify` here because each term relies on the previous term and hence this will not scale in polynomial time, rather it will scale in exponential time and it's going to be very resource intensive.\n",
    "\n",
    "To get an idea of what I mean, compare the time to evaluate 7 and 14 terms:\n",
    "\n"
   ]
  },
  {
   "cell_type": "code",
   "execution_count": 141,
   "metadata": {},
   "outputs": [
    {
     "data": {
      "text/latex": [
       "\\begin{equation}\\frac{\\sqrt{2} \\sqrt{2 + \\sqrt{5}} \\sqrt{2 + \\sqrt{\\sqrt{\\sqrt{5} + 4} + 3}} \\sqrt{2 + \\sqrt{\\sqrt{\\sqrt{\\sqrt{6} + 5} + 4} + 3}} \\sqrt{2 + \\sqrt{\\sqrt{\\sqrt{\\sqrt{\\sqrt{7} + 6} + 5} + 4} + 3}} \\sqrt{2 + \\sqrt{\\sqrt{\\sqrt{\\sqrt{\\sqrt{2 \\sqrt{2} + 7} + 6} + 5} + 4} + 3}} \\sqrt{\\sqrt{3} + 2}}{40320}\\end{equation}"
      ],
      "text/plain": [
       "                                                                              \n",
       "                                                                              \n",
       "                                                 _____________________________\n",
       "                  _________________________     ╱         ____________________\n",
       "                 ╱        ________________     ╱         ╱    ________________\n",
       "     ________   ╱        ╱   ________         ╱         ╱    ╱   ________     \n",
       "√2⋅╲╱ 2 + √5 ⋅╲╱   2 + ╲╱  ╲╱ √5 + 4  + 3  ⋅╲╱    2 + ╲╱   ╲╱  ╲╱ √6 + 5  + 4 \n",
       "──────────────────────────────────────────────────────────────────────────────\n",
       "                                                                              \n",
       "\n",
       "                                                                   ___________\n",
       "             ______________________________________________       ╱           \n",
       "______      ╱          ___________________________________       ╱           ╱\n",
       "_____      ╱          ╱     _________________________           ╱           ╱ \n",
       "          ╱          ╱     ╱    ________________               ╱           ╱  \n",
       "         ╱          ╱     ╱    ╱   ________                   ╱           ╱   \n",
       " + 3  ⋅╲╱     2 + ╲╱    ╲╱   ╲╱  ╲╱ √7 + 6  + 5  + 4  + 3  ⋅╲╱      2 + ╲╱    \n",
       "──────────────────────────────────────────────────────────────────────────────\n",
       "                           40320                                              \n",
       "\n",
       "_________________________________________________           \n",
       "________________________________________________            \n",
       "      _____________________________________                 \n",
       "     ╱     ___________________________                      \n",
       "    ╱     ╱    __________________                           \n",
       "   ╱     ╱    ╱   __________                        ________\n",
       " ╲╱    ╲╱   ╲╱  ╲╱ 2⋅√2 + 7  + 6  + 5  + 4  + 3  ⋅╲╱ √3 + 2 \n",
       "────────────────────────────────────────────────────────────\n",
       "                                                            "
      ]
     },
     "execution_count": 141,
     "metadata": {},
     "output_type": "execute_result"
    }
   ],
   "source": [
    "simplify(surd_ser(7))"
   ]
  },
  {
   "cell_type": "code",
   "execution_count": 142,
   "metadata": {},
   "outputs": [
    {
     "data": {
      "text/latex": [
       "\\begin{equation}\\frac{\\sqrt{2} \\sqrt{2 + \\sqrt{5}} \\sqrt{2 + \\sqrt{\\sqrt{\\sqrt{5} + 4} + 3}} \\sqrt{2 + \\sqrt{\\sqrt{\\sqrt{\\sqrt{6} + 5} + 4} + 3}} \\sqrt{2 + \\sqrt{\\sqrt{\\sqrt{\\sqrt{\\sqrt{7} + 6} + 5} + 4} + 3}} \\sqrt{2 + \\sqrt{\\sqrt{\\sqrt{\\sqrt{\\sqrt{\\sqrt{11} + 7} + 6} + 5} + 4} + 3}} \\sqrt{2 + \\sqrt{\\sqrt{\\sqrt{\\sqrt{\\sqrt{2 \\sqrt{2} + 7} + 6} + 5} + 4} + 3}} \\sqrt{2 + \\sqrt{\\sqrt{\\sqrt{\\sqrt{\\sqrt{\\sqrt{\\sqrt{\\sqrt{10} + 9} + 8} + 7} + 6} + 5} + 4} + 3}} \\sqrt{2 + \\sqrt{\\sqrt{\\sqrt{\\sqrt{\\sqrt{\\sqrt{\\sqrt{\\sqrt{\\sqrt{11} + 10} + 9} + 8} + 7} + 6} + 5} + 4} + 3}} \\sqrt{2 + \\sqrt{\\sqrt{\\sqrt{\\sqrt{\\sqrt{\\sqrt{\\sqrt{\\sqrt{\\sqrt{2 \\sqrt{3} + 11} + 10} + 9} + 8} + 7} + 6} + 5} + 4} + 3}} \\sqrt{2 + \\sqrt{\\sqrt{\\sqrt{\\sqrt{\\sqrt{\\sqrt{\\sqrt{\\sqrt{\\sqrt{\\sqrt{\\sqrt{13} + 12} + 11} + 10} + 9} + 8} + 7} + 6} + 5} + 4} + 3}} \\sqrt{2 + \\sqrt{\\sqrt{\\sqrt{\\sqrt{\\sqrt{\\sqrt{\\sqrt{\\sqrt{\\sqrt{\\sqrt{\\sqrt{\\sqrt{14} + 13} + 12} + 11} + 10} + 9} + 8} + 7} + 6} + 5} + 4} + 3}} \\sqrt{2 + \\sqrt{\\sqrt{\\sqrt{\\sqrt{\\sqrt{\\sqrt{\\sqrt{\\sqrt{\\sqrt{\\sqrt{\\sqrt{\\sqrt{\\sqrt{15} + 14} + 13} + 12} + 11} + 10} + 9} + 8} + 7} + 6} + 5} + 4} + 3}} \\sqrt{\\sqrt{3} + 2}}{1307674368000}\\end{equation}"
      ],
      "text/plain": [
       "                                                                              \n",
       "                                                                              \n",
       "                                                                              \n",
       "                                                                              \n",
       "                                                                              \n",
       "                                                                              \n",
       "                                                                              \n",
       "                                                                              \n",
       "                                                                              \n",
       "                                                 _____________________________\n",
       "                  _________________________     ╱         ____________________\n",
       "                 ╱        ________________     ╱         ╱    ________________\n",
       "     ________   ╱        ╱   ________         ╱         ╱    ╱   ________     \n",
       "√2⋅╲╱ 2 + √5 ⋅╲╱   2 + ╲╱  ╲╱ √5 + 4  + 3  ⋅╲╱    2 + ╲╱   ╲╱  ╲╱ √6 + 5  + 4 \n",
       "──────────────────────────────────────────────────────────────────────────────\n",
       "                                                                              \n",
       "\n",
       "                                                                              \n",
       "                                                                              \n",
       "                                                                              \n",
       "                                                                              \n",
       "                                                                              \n",
       "                                                                              \n",
       "                                                                              \n",
       "                                                                   ___________\n",
       "             ______________________________________________       ╱           \n",
       "______      ╱          ___________________________________       ╱           ╱\n",
       "_____      ╱          ╱     _________________________           ╱           ╱ \n",
       "          ╱          ╱     ╱    ________________               ╱           ╱  \n",
       "         ╱          ╱     ╱    ╱   ________                   ╱           ╱   \n",
       " + 3  ⋅╲╱     2 + ╲╱    ╲╱   ╲╱  ╲╱ √7 + 6  + 5  + 4  + 3  ⋅╲╱      2 + ╲╱    \n",
       "──────────────────────────────────────────────────────────────────────────────\n",
       "                                                                              \n",
       "\n",
       "                                                                              \n",
       "                                                                              \n",
       "                                                                              \n",
       "                                                                              \n",
       "                                                                              \n",
       "                                                                              \n",
       "                                                                              \n",
       "________________________________________________        ______________________\n",
       "_______________________________________________        ╱           ___________\n",
       "      ____________________________________            ╱           ╱      _____\n",
       "     ╱     __________________________                ╱           ╱      ╱     \n",
       "    ╱     ╱    _________________                    ╱           ╱      ╱     ╱\n",
       "   ╱     ╱    ╱   _________                        ╱           ╱      ╱     ╱ \n",
       " ╲╱    ╲╱   ╲╱  ╲╱ √11 + 7  + 6  + 5  + 4  + 3  ⋅╲╱      2 + ╲╱     ╲╱    ╲╱  \n",
       "──────────────────────────────────────────────────────────────────────────────\n",
       "                                                                              \n",
       "\n",
       "                                                                              \n",
       "                                                                              \n",
       "                                                                              \n",
       "                                                                              \n",
       "                                                                              \n",
       "                                                ______________________________\n",
       "                                               ╱             _________________\n",
       "______________________________________        ╱             ╱        _________\n",
       "_____________________________________        ╱             ╱        ╱       __\n",
       "________________________________            ╱             ╱        ╱       ╱  \n",
       "___________________________                ╱             ╱        ╱       ╱   \n",
       "    __________________                    ╱             ╱        ╱       ╱    \n",
       "   ╱   __________                        ╱             ╱        ╱       ╱     \n",
       " ╲╱  ╲╱ 2⋅√2 + 7  + 6  + 5  + 4  + 3  ⋅╲╱        2 + ╲╱       ╲╱      ╲╱     ╲\n",
       "──────────────────────────────────────────────────────────────────────────────\n",
       "                                                                              \n",
       "\n",
       "                                                                              \n",
       "                                                                              \n",
       "                                                                              \n",
       "                                                                              \n",
       "                                                                   ___________\n",
       "________________________________________________________          ╱           \n",
       "_______________________________________________________          ╱            \n",
       "__________________________________________________              ╱             \n",
       "_____________________________________________                  ╱              \n",
       "    ____________________________________                      ╱              ╱\n",
       "   ╱     __________________________                          ╱              ╱ \n",
       "  ╱     ╱    _________________                              ╱              ╱  \n",
       " ╱     ╱    ╱   _________                                  ╱              ╱   \n",
       "╱    ╲╱   ╲╱  ╲╱ √10 + 9  + 8  + 7  + 6  + 5  + 4  + 3  ⋅╲╱         2 + ╲╱    \n",
       "──────────────────────────────────────────────────────────────────────────────\n",
       "                                                                              \n",
       "\n",
       "                                                                              \n",
       "                                                                              \n",
       "                                                                              \n",
       "                                                                              \n",
       "______________________________________________________________________________\n",
       "   ___________________________________________________________________________\n",
       "  ╱         __________________________________________________________________\n",
       " ╱         ╱        __________________________________________________________\n",
       "╱         ╱        ╱       ________________________________________________   \n",
       "         ╱        ╱       ╱      _____________________________________        \n",
       "        ╱        ╱       ╱      ╱     ___________________________             \n",
       "       ╱        ╱       ╱      ╱     ╱    __________________                  \n",
       "      ╱        ╱       ╱      ╱     ╱    ╱   __________                       \n",
       "    ╲╱       ╲╱      ╲╱     ╲╱    ╲╱   ╲╱  ╲╱ √11 + 10  + 9  + 8  + 7  + 6  + \n",
       "──────────────────────────────────────────────────────────────────────────────\n",
       "                                                                              \n",
       "\n",
       "                                                                              \n",
       "                                                                              \n",
       "                                                                              \n",
       "                         _____________________________________________________\n",
       "_____________           ╱               ______________________________________\n",
       "____________           ╱               ╱          ____________________________\n",
       "_______               ╱               ╱          ╱         ___________________\n",
       "__                   ╱               ╱          ╱         ╱        ___________\n",
       "                    ╱               ╱          ╱         ╱        ╱       ____\n",
       "                   ╱               ╱          ╱         ╱        ╱       ╱    \n",
       "                  ╱               ╱          ╱         ╱        ╱       ╱     \n",
       "                 ╱               ╱          ╱         ╱        ╱       ╱      \n",
       "                ╱               ╱          ╱         ╱        ╱       ╱      ╱\n",
       "5  + 4  + 3  ⋅╲╱          2 + ╲╱         ╲╱        ╲╱       ╲╱      ╲╱     ╲╱ \n",
       "──────────────────────────────────────────────────────────────────────────────\n",
       "                                                                              \n",
       "\n",
       "                                                                              \n",
       "                                                                              \n",
       "                                                                              \n",
       "___________________________________________________________________           \n",
       "__________________________________________________________________            \n",
       "_____________________________________________________________                ╱\n",
       "________________________________________________________                    ╱ \n",
       "___________________________________________________                        ╱  \n",
       "______________________________________________                            ╱   \n",
       "  _______________________________________                                ╱    \n",
       " ╱     _____________________________                                    ╱     \n",
       "╱     ╱    ____________________                                        ╱      \n",
       "     ╱    ╱   ___________                                             ╱       \n",
       "   ╲╱   ╲╱  ╲╱ 2⋅√3 + 11  + 10  + 9  + 8  + 7  + 6  + 5  + 4  + 3  ⋅╲╱        \n",
       "──────────────────────────────────────────────────────────────────────────────\n",
       "               1307674368000                                                  \n",
       "\n",
       "                                                                              \n",
       "                                                                              \n",
       "  ____________________________________________________________________________\n",
       " ╱                ____________________________________________________________\n",
       "╱                ╱           _________________________________________________\n",
       "                ╱           ╱          _______________________________________\n",
       "               ╱           ╱          ╱         ______________________________\n",
       "              ╱           ╱          ╱         ╱        ______________________\n",
       "             ╱           ╱          ╱         ╱        ╱       _______________\n",
       "            ╱           ╱          ╱         ╱        ╱       ╱      _________\n",
       "           ╱           ╱          ╱         ╱        ╱       ╱      ╱     ____\n",
       "          ╱           ╱          ╱         ╱        ╱       ╱      ╱     ╱    \n",
       "         ╱           ╱          ╱         ╱        ╱       ╱      ╱     ╱    ╱\n",
       "   2 + ╲╱          ╲╱         ╲╱        ╲╱       ╲╱      ╲╱     ╲╱    ╲╱   ╲╱ \n",
       "──────────────────────────────────────────────────────────────────────────────\n",
       "                                                                              \n",
       "\n",
       "                                                                              \n",
       "                                                                           ___\n",
       "_____________________________________________________________             ╱   \n",
       "____________________________________________________________             ╱    \n",
       "_______________________________________________________                 ╱     \n",
       "__________________________________________________                     ╱      \n",
       "_____________________________________________                         ╱       \n",
       "________________________________________                             ╱        \n",
       "___________________________________                                 ╱         \n",
       "______________________________                                     ╱          \n",
       "_________________________                                         ╱           \n",
       "___________________                                              ╱            \n",
       "   __________                                                   ╱             \n",
       " ╲╱ √13 + 12  + 11  + 10  + 9  + 8  + 7  + 6  + 5  + 4  + 3  ⋅╲╱            2 \n",
       "──────────────────────────────────────────────────────────────────────────────\n",
       "                                                                              \n",
       "\n",
       "                                                                              \n",
       "______________________________________________________________________________\n",
       "              ________________________________________________________________\n",
       "             ╱            ____________________________________________________\n",
       "            ╱            ╱           _________________________________________\n",
       "           ╱            ╱           ╱          _______________________________\n",
       "          ╱            ╱           ╱          ╱         ______________________\n",
       "         ╱            ╱           ╱          ╱         ╱        ______________\n",
       "        ╱            ╱           ╱          ╱         ╱        ╱       _______\n",
       "       ╱            ╱           ╱          ╱         ╱        ╱       ╱      _\n",
       "      ╱            ╱           ╱          ╱         ╱        ╱       ╱      ╱ \n",
       "     ╱            ╱           ╱          ╱         ╱        ╱       ╱      ╱  \n",
       "    ╱            ╱           ╱          ╱         ╱        ╱       ╱      ╱   \n",
       "+ ╲╱           ╲╱          ╲╱         ╲╱        ╲╱       ╲╱      ╲╱     ╲╱    \n",
       "──────────────────────────────────────────────────────────────────────────────\n",
       "                                                                              \n",
       "\n",
       "                                                                              \n",
       "___________________________________________________________________________   \n",
       "__________________________________________________________________________    \n",
       "_____________________________________________________________________         \n",
       "________________________________________________________________              \n",
       "___________________________________________________________                   \n",
       "______________________________________________________                        \n",
       "_________________________________________________                             \n",
       "____________________________________________                                  \n",
       "_______________________________________                                       \n",
       "    _____________________________                                             \n",
       "   ╱    ___________________                                                   \n",
       "  ╱    ╱   __________                                                         \n",
       "╲╱   ╲╱  ╲╱ √14 + 13  + 12  + 11  + 10  + 9  + 8  + 7  + 6  + 5  + 4  + 3  ⋅╲╱\n",
       "──────────────────────────────────────────────────────────────────────────────\n",
       "                                                                              \n",
       "\n",
       "            __________________________________________________________________\n",
       "           ╱                  ________________________________________________\n",
       "          ╱                  ╱             ___________________________________\n",
       "         ╱                  ╱             ╱            _______________________\n",
       "        ╱                  ╱             ╱            ╱           ____________\n",
       "       ╱                  ╱             ╱            ╱           ╱          __\n",
       "      ╱                  ╱             ╱            ╱           ╱          ╱  \n",
       "     ╱                  ╱             ╱            ╱           ╱          ╱   \n",
       "    ╱                  ╱             ╱            ╱           ╱          ╱    \n",
       "   ╱                  ╱             ╱            ╱           ╱          ╱     \n",
       "  ╱                  ╱             ╱            ╱           ╱          ╱      \n",
       " ╱                  ╱             ╱            ╱           ╱          ╱       \n",
       "╱                  ╱             ╱            ╱           ╱          ╱        \n",
       "             2 + ╲╱            ╲╱           ╲╱          ╲╱         ╲╱        ╲\n",
       "──────────────────────────────────────────────────────────────────────────────\n",
       "                                                                              \n",
       "\n",
       "______________________________________________________________________________\n",
       "______________________________________________________________________________\n",
       "______________________________________________________________________________\n",
       "______________________________________________________________________________\n",
       "______________________________________________________________________________\n",
       "______________________________________________________________________________\n",
       "       _______________________________________________________________________\n",
       "      ╱        _______________________________________________________________\n",
       "     ╱        ╱       ____________________________________________________    \n",
       "    ╱        ╱       ╱      ________________________________________          \n",
       "   ╱        ╱       ╱      ╱     _____________________________                \n",
       "  ╱        ╱       ╱      ╱     ╱    ___________________                      \n",
       " ╱        ╱       ╱      ╱     ╱    ╱   __________                            \n",
       "╱       ╲╱      ╲╱     ╲╱    ╲╱   ╲╱  ╲╱ √15 + 14  + 13  + 12  + 11  + 10  + 9\n",
       "──────────────────────────────────────────────────────────────────────────────\n",
       "                                                                              \n",
       "\n",
       "________________________________           \n",
       "_______________________________            \n",
       "__________________________                 \n",
       "_____________________                      \n",
       "________________                           \n",
       "___________                                \n",
       "______                                     \n",
       "_                                          \n",
       "                                           \n",
       "                                           \n",
       "                                           \n",
       "                                           \n",
       "                                   ________\n",
       "  + 8  + 7  + 6  + 5  + 4  + 3  ⋅╲╱ √3 + 2 \n",
       "───────────────────────────────────────────\n",
       "                                           "
      ]
     },
     "execution_count": 142,
     "metadata": {},
     "output_type": "execute_result"
    }
   ],
   "source": [
    "simplify(surd_ser(14))"
   ]
  },
  {
   "cell_type": "markdown",
   "metadata": {},
   "source": [
    "Instead we will need to approach this numerically, again though we will have performance limitations, consider for example, evaluating this expression to 40:"
   ]
  },
  {
   "cell_type": "code",
   "execution_count": 149,
   "metadata": {},
   "outputs": [
    {
     "data": {
      "text/latex": [
       "\\begin{equation}1.18026611043774 \\cdot 10^{-37}\\end{equation}"
      ],
      "text/plain": [
       "1.18026611043774e-37"
      ]
     },
     "execution_count": 149,
     "metadata": {},
     "output_type": "execute_result"
    }
   ],
   "source": [
    "N(surd_ser(40))"
   ]
  },
  {
   "cell_type": "code",
   "execution_count": null,
   "metadata": {},
   "outputs": [],
   "source": [
    "Now consider evaluating it to 50:"
   ]
  },
  {
   "cell_type": "code",
   "execution_count": 151,
   "metadata": {},
   "outputs": [
    {
     "data": {
      "text/latex": [
       "\\begin{equation}4.05422002157275 \\cdot 10^{-51}\\end{equation}"
      ],
      "text/plain": [
       "4.05422002157275e-51"
      ]
     },
     "execution_count": 151,
     "metadata": {},
     "output_type": "execute_result"
    }
   ],
   "source": [
    "N(surd_ser(50))"
   ]
  },
  {
   "cell_type": "markdown",
   "metadata": {},
   "source": [
    "It takes a considerably longer time, instead we need to look at this from a functional perspective and rewrite the function:"
   ]
  },
  {
   "cell_type": "code",
   "execution_count": 167,
   "metadata": {},
   "outputs": [
    {
     "data": {
      "text/latex": [
       "\\begin{equation}0.45534180126148\\end{equation}"
      ],
      "text/plain": [
       "0.455341801261480"
      ]
     },
     "execution_count": 167,
     "metadata": {},
     "output_type": "execute_result"
    }
   ],
   "source": [
    "k = 3\n",
    "def surd_seq(k, numerical = False):\n",
    "    expr = 0\n",
    "    if numerical:\n",
    "        for i in reversed(range(2, k+2)):\n",
    "            expr = N(sqrt(i + expr, evaluate=False))\n",
    "    else:\n",
    "        for i in reversed(range(2, k+2)):\n",
    "            expr = sqrt(i + expr, evaluate=False)\n",
    "    return expr/(k+1)\n",
    "surd_seq(3)\n",
    "\n",
    "def surd_ser(k, numerical = False):\n",
    "    if numerical:\n",
    "        k = k + 1 # OBOB\n",
    "        l = [surd_seq(i, numerical = True) for i in range(1,k)]\n",
    "    else:\n",
    "        k = k + 1 # OBOB\n",
    "        l = [surd_seq(i, numerical = False) for i in range(1,k)]\n",
    "    return prod(l)\n",
    "\n",
    "surd_ser(2, True)\n"
   ]
  },
  {
   "cell_type": "markdown",
   "metadata": {},
   "source": [
    "Now we will be able to evaluate this much more easily:"
   ]
  },
  {
   "cell_type": "code",
   "execution_count": 170,
   "metadata": {},
   "outputs": [
    {
     "data": {
      "text/latex": [
       "\\begin{equation}6.83824783929329 \\cdot 10^{-129}\\end{equation}"
      ],
      "text/plain": [
       "6.83824783929329e-129"
      ]
     },
     "execution_count": 170,
     "metadata": {},
     "output_type": "execute_result"
    }
   ],
   "source": [
    "surd_ser(100, numerical = True)"
   ]
  },
  {
   "cell_type": "code",
   "execution_count": null,
   "metadata": {},
   "outputs": [],
   "source": [
    "This clearly demonstrates that the value is less than $10^-100$"
   ]
  },
  {
   "cell_type": "markdown",
   "metadata": {},
   "source": [
    "## Numerical Performance"
   ]
  },
  {
   "cell_type": "markdown",
   "metadata": {},
   "source": [
    "Sympy does have some limitations, let's demonstrate this by pushing the evaluation to it's limits."
   ]
  },
  {
   "cell_type": "code",
   "execution_count": 175,
   "metadata": {},
   "outputs": [
    {
     "data": {
      "text/latex": [
       "\\begin{equation}1.28458730802734 \\cdot 10^{-977}\\end{equation}"
      ],
      "text/plain": [
       "1.28458730802734e-977"
      ]
     },
     "execution_count": 175,
     "metadata": {},
     "output_type": "execute_result"
    }
   ],
   "source": [
    "surd_ser(500, numerical = True)"
   ]
  },
  {
   "cell_type": "markdown",
   "metadata": {},
   "source": [
    "By rewriting this in `numpy` we can get even better performance, so first import `numpy`:"
   ]
  },
  {
   "cell_type": "code",
   "execution_count": 177,
   "metadata": {},
   "outputs": [
    {
     "data": {
      "text/latex": [
       "\\begin{equation}1.7320508075688772\\end{equation}"
      ],
      "text/plain": [
       "1.7320508075688772"
      ]
     },
     "execution_count": 177,
     "metadata": {},
     "output_type": "execute_result"
    }
   ],
   "source": [
    "import numpy\n",
    "np.sqrt(3)"
   ]
  },
  {
   "cell_type": "code",
   "execution_count": null,
   "metadata": {},
   "outputs": [],
   "source": [
    "Now it's just a matter of swapping `sqrt()` for `np.sqrt`."
   ]
  },
  {
   "cell_type": "code",
   "execution_count": 180,
   "metadata": {},
   "outputs": [
    {
     "data": {
      "text/latex": [
       "\\begin{equation}0.4553418012614796\\end{equation}"
      ],
      "text/plain": [
       "0.4553418012614796"
      ]
     },
     "execution_count": 180,
     "metadata": {},
     "output_type": "execute_result"
    }
   ],
   "source": [
    "k = 3\n",
    "def surd_seq(k, numerical = False):\n",
    "    expr = 0\n",
    "    if numerical:\n",
    "        for i in reversed(range(2, k+2)):\n",
    "            expr = np.sqrt(i + expr, )\n",
    "    else:\n",
    "        for i in reversed(range(2, k+2)):\n",
    "            expr = sqrt(i + expr, evaluate=False)\n",
    "    return expr/(k+1)\n",
    "surd_seq(3)\n",
    "\n",
    "def surd_ser(k, numerical = False):\n",
    "    if numerical:\n",
    "        k = k + 1 # OBOB\n",
    "        l = [surd_seq(i, numerical = True) for i in range(1,k)]\n",
    "    else:\n",
    "        k = k + 1 # OBOB\n",
    "        l = [surd_seq(i, numerical = False) for i in range(1,k)]\n",
    "    return prod(l)\n",
    "\n",
    "surd_ser(2, True)\n"
   ]
  },
  {
   "cell_type": "code",
   "execution_count": 188,
   "metadata": {},
   "outputs": [
    {
     "data": {
      "text/latex": [
       "\\begin{equation}0.0\\end{equation}"
      ],
      "text/plain": [
       "0.0"
      ]
     },
     "execution_count": 188,
     "metadata": {},
     "output_type": "execute_result"
    }
   ],
   "source": [
    "surd_ser(500, numerical = True)"
   ]
  },
  {
   "cell_type": "markdown",
   "metadata": {},
   "source": [
    "Now `0` doesn't seem helpful, but in an engineering context it is if you bear in mind that `numpy` uses `double` precision (as in double a `float32` which is `float64`), this has an accuracy of 16 digits.\n",
    "\n",
    "So this answer tells us that this series reaches 0, to a `double` precision, by 500 iterations.\n",
    "\n",
    "Symbolically this series is limited by 0."
   ]
  },
  {
   "cell_type": "markdown",
   "metadata": {},
   "source": [
    "## Choosing the Tool"
   ]
  },
  {
   "cell_type": "markdown",
   "metadata": {},
   "source": [
    "What this example demonstrates is the need to choose the right tool in *Python*, compared to a language like *Mathematica*, *Python* requires the user to be mindful of what they are trying to do beforehand as opposed to after, generally:\n",
    "\n",
    "| Library     | Use Case                                                           |\n",
    "| ---         | ---                                                                |\n",
    "| *SymPy*     | Necessary for Symbolic Algebra                                     |\n",
    "| *SymPy* `N()` | When arbitrary numerical precision is required despite performance |\n",
    "| *NumPy*     | When High Performance Numerical Solutions are required up to 15 dp |\n"
   ]
  },
  {
   "cell_type": "markdown",
   "metadata": {},
   "source": [
    "\n",
    "## Series and Recursion\n",
    "\n",
    "The problem we were dealing with provided this series, which we solved via a `for` loop:\n",
    "$$\n",
    "\\begin{aligned}\n",
    "    g\\left( k \\right) &=  \\frac{\\sqrt{2} }{2} \\cdot   \\frac{\\sqrt{2+  \\sqrt{3}}  }{3} \\frac{\\sqrt{2 +  \\sqrt{3 +  \\sqrt{4} } } }{4} \\cdot  \\ldots \\frac{\\sqrt{2 +  \\sqrt{3 +  \\ldots +  \\sqrt{k} } } }{k}\n",
    "\\end{aligned}\n",
    "$$\n",
    "\n",
    "let's modify this for the sake of discussion:\n",
    "\n",
    "$$\n",
    "\\begin{aligned}\n",
    "h\\left( k \\right) = \\frac{\\sqrt{2}  }{2} \\cdot  \\frac{\\sqrt{3 +  \\sqrt{2} } }{3} \\cdot  \\frac{\\sqrt{4 +  \\sqrt{3 +  \\sqrt{2} } } }{4} +  \\ldots +  \\frac{\\sqrt{k +  \\sqrt{k - 1 +  \\ldots \\sqrt{3 + \\sqrt{2}  } } } }{k}\n",
    "\\end{aligned}\n",
    "$$\n",
    "\n",
    "\n",
    "Essentially this difference obviates the need to use the `reversed` function in the previous `for` loop.\n",
    "\n",
    "The function $h$ can be expressed by the series:\n",
    "\n",
    "$$\n",
    "\\begin{aligned}\n",
    "h\\left( k \\right) = \\prod^k_{i = 2} \\left( \\frac{f_k}{k}  \\right)  \\quad : \\quad f_i = \\sqrt{i +  f_{i - 1}}  \n",
    "\\end{aligned}\n",
    "$$\n",
    "\n",
    "Within *Python* this isn't actually to difficult to express, something to the effect of the following would be sufficient:\n",
    "\n",
    "```{python}\n",
    "from sympy import *\n",
    "def h(k):\n",
    "    if k > 2:\n",
    "\treturn f(k) * f(k-1)\n",
    "    else:\n",
    "        return 1\n",
    "\n",
    "def f(i):\n",
    "    expr = 0\n",
    "    if i > 2:\n",
    "        return sqrt(i + f(i -1))\n",
    "    else:\n",
    "        return 1\n",
    "```\n",
    "\n",
    "This is a very natural way to define series and sequencies and can be contrasted with a for loop.\n",
    "\n",
    "\n",
    "\n",
    "```{python}\n",
    "from sympy import *\n",
    "def h(k):\n",
    "    k = k + 1 # OBOB\n",
    "    l = [f(i) for i in range(1,k)]\n",
    "    return prod(l)\n",
    "\n",
    "def f(k):\n",
    "    expr = 0\n",
    "    for i in range(2, k+2):\n",
    "        expr = sqrt(i + expr, evaluate=False)\n",
    "    return expr/(k+1)\n",
    "```\n",
    "\n",
    "\n",
    "If a function can be defined using a loop it can always be defined via recursion as well, [^823] the question is which will be more appropriate, generally the process for determining which is more appropriate is to the effect of:\n",
    "\n",
    "1. Write the problem in a way that is easier to write or is more appropriate for demonstration\n",
    "2. If performance is necessary then consider restructuring recursion for loops\n",
    "    - In languages such ***R*** and *Python* :snake:, loops are usually faster, although there may be exceptions to this.\n",
    "\n",
    "### Some Functions are more difficult to express with Recursion in *Python*\n",
    "\n",
    "Consider the function $g\\left( k \\right)$:\n",
    "\n",
    "$$\n",
    "\\begin{aligned}\n",
    "    g\\left( k \\right) &=  \\frac{\\sqrt{2} }{2} \\cdot   \\frac{\\sqrt{2+  \\sqrt{3}}  }{3} \\frac{\\sqrt{2 +  \\sqrt{3 +  \\sqrt{4} } } }{4} \\cdot  \\ldots \\frac{\\sqrt{2 +  \\sqrt{3 +  \\ldots +  \\sqrt{k} } } }{k} \\\\\n",
    "    &=  \\prod^k_{i = 2} \\left( \\frac{f_k}{k}  \\right) \\quad : \\quad f_{i} = \\sqrt{i +  f_{i+1}}\n",
    "\\end{aligned}\n",
    "$$\n",
    "\n",
    "Observe that the sequence now *looks* forward, not back, to solve using a `for` loop the `reversed` function dealt with that issue quite nicely and the technique corresponding to $h\\left( k \\right)$ was able to be implemented, however mathematically this can be a little clumsy to illustrate, for example the following rewrite would allow this to occur:\n",
    "\n",
    "$$\n",
    "\\begin{aligned}\n",
    "    g\\left( k \\right) &=  \\prod^k_{i = 2} \\left( \\frac{f_k}{k}  \\right) \\quad : \\quad f_{i} = \\sqrt{\\left( k- i \\right)  +  f_{k - i - 1}}\n",
    "\\end{aligned}\n",
    "$$\n",
    "\n",
    "Now the function could be performed recursively in *Python* in a similar way, in particular, by performing something like this:\n",
    "\n",
    "```{python}\n",
    "from sympy import *\n",
    "def h(k):\n",
    "    if k > 2:\n",
    "\treturn f(k) * f(k-1)\n",
    "    else:\n",
    "        return 1\n",
    "\n",
    "def f(i, k):\n",
    "    if k > i:\n",
    "        return 1\n",
    "\n",
    "    if i > 2:\n",
    "\treturn sqrt((k-i) + f(k - i -1))\n",
    "    else:\n",
    "\treturn 1\n",
    "```\n",
    "\n",
    "The thing that's worth noting though is that it is much tricker to implement the recursive approach for $g\\left( k \\right)$ than $h\\left( k \\right)$, whereac the approach with the loop doesn't really change but for the inclusion of the `reversed()` function.\n",
    "\n",
    "\n",
    "\n",
    "```{python}\n",
    "from sympy import *\n",
    "def h(k):\n",
    "    k = k + 1 # OBOB\n",
    "    l = [f(i) for i in range(1,k)]\n",
    "    return prod(l)\n",
    "\n",
    "def f(k):\n",
    "    expr = 0\n",
    "    for i in reversed(range(2, k+2)):\n",
    "        expr = sqrt(i + expr, evaluate=False)\n",
    "    return expr/(k+1)\n",
    "```\n",
    "\n",
    "\n",
    "\n",
    "\n",
    "[^823]: [This Stack Answer puts it well](https://stackoverflow.com/a/2093703/12843551):\n",
    "    > There's a simple ad hoc proof for this.  Since you can build a Turing complete language using strictly iterative structures and a Turning complete language using only recursive structures, then the two are therefore equivalent.\n"
   ]
  }
 ],
 "metadata": {
  "kernelspec": {
   "display_name": "Python 3.8.3 64-bit",
   "language": "python",
   "name": "python38364bitb58c1e4a530841da8c36eeef2b5a935c"
  },
  "language_info": {
   "codemirror_mode": {
    "name": "ipython",
    "version": 3
   },
   "file_extension": ".py",
   "mimetype": "text/x-python",
   "name": "python",
   "nbconvert_exporter": "python",
   "pygments_lexer": "ipython3",
   "version": "3.8.3"
  }
 },
 "nbformat": 4,
 "nbformat_minor": 2
}
