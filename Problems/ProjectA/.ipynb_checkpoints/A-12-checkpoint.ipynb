{
 "cells": [
  {
   "cell_type": "markdown",
   "metadata": {},
   "source": [
    "# Project A; Question 12"
   ]
  },
  {
   "cell_type": "markdown",
   "metadata": {},
   "source": [
    "Define $S\\left( k, n \\right) = \\sum^{n}_{i= 1}\\left[ i^k \\right] $.\n",
    "\n",
    "- Using the function $S\\left( k,n \\right) $ show that for any $n$, $\\left( 1 +  2 +  \\cdots n \\right) ^2 = \\left( 1^3 +  2^3 +  \\cdots \\right) $\n",
    "- Show that for any $n$:\n",
    "\n",
    "    $\\begin{aligned}\n",
    "    \\sum^{n}_{a = 0}\\left[ \\frac{S\\left( 2, 3a +  1 \\right) }{S\\left( 1, 3a+ 1 \\right) }  \\right] = m^2, \\qquad \\exists m \\in \\mathbb{Z}\n",
    "    \\end{aligned}$\n"
   ]
  },
  {
   "cell_type": "markdown",
   "metadata": {},
   "source": [
    "## Preamble"
   ]
  },
  {
   "cell_type": "code",
   "execution_count": 1,
   "metadata": {},
   "outputs": [],
   "source": [
    "############################################################\n",
    "### Preamble ###############################################\n",
    "############################################################\n",
    "from __future__ import division\n",
    "from sympy import *\n",
    "x, y, z, t = symbols('x y z t')\n",
    "k, m, n = symbols('k m n', integer=True)\n",
    "f, g, h = symbols('f g h', cls=Function)\n",
    "init_printing()\n",
    "init_printing(use_latex='mathjax', latex_mode='equation')\n",
    "\n",
    "def lx(expr):\n",
    "    pyperclip.copy(latex(expr))\n",
    "    print(expr)\n",
    "import pyperclip"
   ]
  },
  {
   "cell_type": "markdown",
   "metadata": {},
   "source": [
    "## Part 1"
   ]
  },
  {
   "cell_type": "markdown",
   "metadata": {},
   "source": [
    "First declare the variables `i`, `n`, `k` as algebraic symbols $i$, $n$ and $k$ respectively:"
   ]
  },
  {
   "cell_type": "code",
   "execution_count": 2,
   "metadata": {},
   "outputs": [],
   "source": [
    "i, n, k = symbols('i n k', integer=True)"
   ]
  },
  {
   "cell_type": "markdown",
   "metadata": {},
   "source": [
    "### First Function"
   ]
  },
  {
   "cell_type": "markdown",
   "metadata": {},
   "source": [
    "Define the function provided in the above questions:"
   ]
  },
  {
   "cell_type": "code",
   "execution_count": 4,
   "metadata": {},
   "outputs": [
    {
     "data": {
      "text/latex": [
       "\\begin{equation}\\sum_{i=1}^{n} i^{k}\\end{equation}"
      ],
      "text/plain": [
       "  n     \n",
       " ___    \n",
       " ╲      \n",
       "  ╲    k\n",
       "  ╱   i \n",
       " ╱      \n",
       " ‾‾‾    \n",
       "i = 1   "
      ]
     },
     "execution_count": 4,
     "metadata": {},
     "output_type": "execute_result"
    }
   ],
   "source": [
    "\n",
    "def S(k, n):\n",
    "    # return sum([i**k for i in range(n)])\n",
    "    return Sum(i**k, (i, 1, n))\n",
    "\n",
    "S(k, n)\n"
   ]
  },
  {
   "cell_type": "markdown",
   "metadata": {},
   "source": [
    "### Second Function"
   ]
  },
  {
   "cell_type": "markdown",
   "metadata": {},
   "source": [
    "In order to define test the equality the second term can be defined as a function"
   ]
  },
  {
   "cell_type": "code",
   "execution_count": 7,
   "metadata": {},
   "outputs": [
    {
     "data": {
      "text/latex": [
       "\\begin{equation}\\left(\\sum_{i=1}^{n} i\\right)^{2}\\end{equation}"
      ],
      "text/plain": [
       "         2\n",
       "⎛  n    ⎞ \n",
       "⎜ ___   ⎟ \n",
       "⎜ ╲     ⎟ \n",
       "⎜  ╲    ⎟ \n",
       "⎜  ╱   i⎟ \n",
       "⎜ ╱     ⎟ \n",
       "⎜ ‾‾‾   ⎟ \n",
       "⎝i = 1  ⎠ "
      ]
     },
     "execution_count": 7,
     "metadata": {},
     "output_type": "execute_result"
    }
   ],
   "source": [
    "\n",
    "def T(n):\n",
    "    return Sum(i, (i, 1, n))**2\n",
    "T(n)\n",
    "\n",
    "# Show that (1 + 2 + ... n)^2 == (1^3 + 2^3 + 3^3 + ...)\n",
    "# cancel(simplify(S(3, n)-T(n)))"
   ]
  },
  {
   "cell_type": "markdown",
   "metadata": {},
   "source": [
    "### Equality"
   ]
  },
  {
   "cell_type": "markdown",
   "metadata": {},
   "source": [
    "The `sympy` package eschews using `=` or `==` for equality and instead uses the `Eq` function for clarity sake.\n",
    "\n",
    "The `doit` method can be used on any expression and will evaluate the expression further than default, combining `Eq` and `doit` provides:"
   ]
  },
  {
   "cell_type": "code",
   "execution_count": 10,
   "metadata": {},
   "outputs": [
    {
     "data": {
      "text/latex": [
       "\\begin{equation}\\frac{n^{4}}{4} + \\frac{n^{3}}{2} + \\frac{n^{2}}{4} = \\left(\\frac{n^{2}}{2} + \\frac{n}{2}\\right)^{2}\\end{equation}"
      ],
      "text/plain": [
       "                       2\n",
       " 4    3    2   ⎛ 2    ⎞ \n",
       "n    n    n    ⎜n    n⎟ \n",
       "── + ── + ── = ⎜── + ─⎟ \n",
       "4    2    4    ⎝2    2⎠ "
      ]
     },
     "execution_count": 10,
     "metadata": {},
     "output_type": "execute_result"
    }
   ],
   "source": [
    "Eq(S(3, n), T(n)).doit()"
   ]
  },
  {
   "cell_type": "markdown",
   "metadata": {},
   "source": [
    "These are algebraically equal but `sympy` hasn't merely returned true, this is because the `Eq` test in `Sympy` is strict [^got], to make both sides equal the RHS needs to be expanded like so:\n",
    "\n",
    "[^got]: [Sympy: Gotchas and Pitfalls](http://omz-software.com/pythonista/sympy/gotchas.html)"
   ]
  },
  {
   "cell_type": "code",
   "execution_count": 12,
   "metadata": {},
   "outputs": [
    {
     "data": {
      "text/latex": [
       "\\begin{equation}\\text{True}\\end{equation}"
      ],
      "text/plain": [
       "True"
      ]
     },
     "execution_count": 12,
     "metadata": {},
     "output_type": "execute_result"
    }
   ],
   "source": [
    "Eq(S(3, n), T(n)).doit().expand()"
   ]
  },
  {
   "cell_type": "markdown",
   "metadata": {},
   "source": [
    "### Conclusion"
   ]
  },
  {
   "cell_type": "markdown",
   "metadata": {},
   "source": [
    "$\\therefore \\left( 1 +  2 +  \\cdots n \\right) ^2 = \\left( 1^3 +  2^3 +  \\cdots \\right), \\quad \\forall n \\in \\mathbb{Z} \\qquad \\square$"
   ]
  },
  {
   "cell_type": "markdown",
   "metadata": {},
   "source": [
    "## Part 2"
   ]
  },
  {
   "cell_type": "markdown",
   "metadata": {},
   "source": [
    "### Define Symbols"
   ]
  },
  {
   "cell_type": "markdown",
   "metadata": {},
   "source": [
    "It is necessary to declare the `a` variable as the algebraic symbol $a$:"
   ]
  },
  {
   "cell_type": "code",
   "execution_count": 14,
   "metadata": {},
   "outputs": [],
   "source": [
    "a = symbols('a', integer=True)"
   ]
  },
  {
   "cell_type": "markdown",
   "metadata": {},
   "source": [
    "### Define the Expression"
   ]
  },
  {
   "cell_type": "markdown",
   "metadata": {},
   "source": [
    "The sum can be defined and called by using the previously defined function:"
   ]
  },
  {
   "cell_type": "code",
   "execution_count": 15,
   "metadata": {
    "tags": []
   },
   "outputs": [
    {
     "data": {
      "text/latex": [
       "\\begin{equation}\\sum_{a=0}^{n} \\frac{\\sum_{i=1}^{3 a + 1} i^{2}}{\\sum_{i=1}^{3 a + 1} i}\\end{equation}"
      ],
      "text/plain": [
       "     n                \n",
       "___________           \n",
       "╲                     \n",
       " ╲                    \n",
       "  ╲         3⋅a + 1   \n",
       "   ╲          ___     \n",
       "    ╲         ╲       \n",
       "     ╲         ╲     2\n",
       "      ╲        ╱    i \n",
       "       ╲      ╱       \n",
       "        ╲     ‾‾‾     \n",
       "         ╲   i = 1    \n",
       "         ╱  ──────────\n",
       "        ╱   3⋅a + 1   \n",
       "       ╱      ___     \n",
       "      ╱       ╲       \n",
       "     ╱         ╲      \n",
       "    ╱          ╱    i \n",
       "   ╱          ╱       \n",
       "  ╱           ‾‾‾     \n",
       " ╱           i = 1    \n",
       "╱                     \n",
       "‾‾‾‾‾‾‾‾‾‾‾           \n",
       "   a = 0              "
      ]
     },
     "execution_count": 15,
     "metadata": {},
     "output_type": "execute_result"
    }
   ],
   "source": [
    "expr = Sum((S(2, 3*a+1))/S(1, 3*a+1), (a, 0, n))\n",
    "expr\n",
    "\n"
   ]
  },
  {
   "cell_type": "markdown",
   "metadata": {},
   "source": [
    "To test that this is a square value the square root may be taken:"
   ]
  },
  {
   "cell_type": "code",
   "execution_count": 16,
   "metadata": {
    "tags": []
   },
   "outputs": [
    {
     "data": {
      "text/latex": [
       "\\begin{equation}\\sqrt{\\sum_{a=0}^{n} \\frac{\\sum_{i=1}^{3 a + 1} i^{2}}{\\sum_{i=1}^{3 a + 1} i}}\\end{equation}"
      ],
      "text/plain": [
       "                         ________________________\n",
       "                        ╱      n                 \n",
       "                       ╱  ___________            \n",
       "                      ╱   ╲                      \n",
       "                     ╱     ╲                     \n",
       "                    ╱       ╲         3⋅a + 1    \n",
       "                   ╱         ╲          ___      \n",
       "                  ╱           ╲         ╲        \n",
       "                 ╱             ╲         ╲     2 \n",
       "                ╱               ╲        ╱    i  \n",
       "               ╱                 ╲      ╱        \n",
       "              ╱                   ╲     ‾‾‾      \n",
       "             ╱                     ╲   i = 1     \n",
       "            ╱                      ╱  ────────── \n",
       "           ╱                      ╱   3⋅a + 1    \n",
       "          ╱                      ╱      ___      \n",
       "         ╱                      ╱       ╲        \n",
       "        ╱                      ╱         ╲       \n",
       "       ╱                      ╱          ╱    i  \n",
       "      ╱                      ╱          ╱        \n",
       "     ╱                      ╱           ‾‾‾      \n",
       "    ╱                      ╱           i = 1     \n",
       "   ╱                      ╱                      \n",
       "  ╱                       ‾‾‾‾‾‾‾‾‾‾‾            \n",
       "╲╱                           a = 0               "
      ]
     },
     "execution_count": 16,
     "metadata": {},
     "output_type": "execute_result"
    }
   ],
   "source": [
    "expr = sqrt(expr)\n",
    "expr\n"
   ]
  },
  {
   "cell_type": "markdown",
   "metadata": {},
   "source": [
    "And now it is simply necessary to simplify the expression to show that it is an integer."
   ]
  },
  {
   "cell_type": "code",
   "execution_count": 17,
   "metadata": {},
   "outputs": [
    {
     "data": {
      "text/latex": [
       "\\begin{equation}\\sqrt{n^{2} + 2 n + 1}\\end{equation}"
      ],
      "text/plain": [
       "   ______________\n",
       "  ╱  2           \n",
       "╲╱  n  + 2⋅n + 1 "
      ]
     },
     "execution_count": 17,
     "metadata": {},
     "output_type": "execute_result"
    }
   ],
   "source": [
    "expr = simplify(expr)\n",
    "expr\n"
   ]
  },
  {
   "cell_type": "code",
   "execution_count": 18,
   "metadata": {},
   "outputs": [
    {
     "data": {
      "text/latex": [
       "\\begin{equation}\\left|{n + 1}\\right|\\end{equation}"
      ],
      "text/plain": [
       "│n + 1│"
      ]
     },
     "execution_count": 18,
     "metadata": {},
     "output_type": "execute_result"
    }
   ],
   "source": [
    "factor(expr)"
   ]
  },
  {
   "cell_type": "markdown",
   "metadata": {},
   "source": [
    "## Alternative Approach\n",
    "\n",
    "This method is not very robust because it relies on the `simplify` function, a better approach is to first simplify the summations as we go:"
   ]
  },
  {
   "cell_type": "markdown",
   "metadata": {},
   "source": [
    "First Simplify the *summand*"
   ]
  },
  {
   "cell_type": "code",
   "execution_count": 19,
   "metadata": {},
   "outputs": [
    {
     "data": {
      "text/latex": [
       "\\begin{equation}\\frac{9 a^{3} + \\frac{27 a^{2}}{2} + \\frac{13 a}{2} + 1}{\\frac{9 a^{2}}{2} + \\frac{9 a}{2} + 1}\\end{equation}"
      ],
      "text/plain": [
       "           2           \n",
       "   3   27⋅a    13⋅a    \n",
       "9⋅a  + ───── + ──── + 1\n",
       "         2      2      \n",
       "───────────────────────\n",
       "        2              \n",
       "     9⋅a    9⋅a        \n",
       "     ──── + ─── + 1    \n",
       "      2      2         "
      ]
     },
     "execution_count": 19,
     "metadata": {},
     "output_type": "execute_result"
    }
   ],
   "source": [
    "import sympy.core.expr\n",
    "from sympy.simplify.simplify import sum_simplify, product_simplify\n",
    "from sympy.core.function import _mexpand\n",
    "k    = symbols('k', integer=True)\n",
    "i, n = symbols('i n', integer=True, positive=True)\n",
    "\n",
    "summand = simplify(S(2, 3*a+1)/S(1, 3*a+1))\n",
    "summand"
   ]
  },
  {
   "cell_type": "markdown",
   "metadata": {},
   "source": [
    "Now pass the simplified summand to the summation:"
   ]
  },
  {
   "cell_type": "code",
   "execution_count": 20,
   "metadata": {},
   "outputs": [
    {
     "data": {
      "text/latex": [
       "\\begin{equation}\\sum_{a=0}^{n} \\frac{9 a^{3} + \\frac{27 a^{2}}{2} + \\frac{13 a}{2} + 1}{\\frac{9 a^{2}}{2} + \\frac{9 a}{2} + 1}\\end{equation}"
      ],
      "text/plain": [
       "   n                           \n",
       "_______                        \n",
       "╲                              \n",
       " ╲                             \n",
       "  ╲                2           \n",
       "   ╲       3   27⋅a    13⋅a    \n",
       "    ╲   9⋅a  + ───── + ──── + 1\n",
       "     ╲           2      2      \n",
       "     ╱  ───────────────────────\n",
       "    ╱           2              \n",
       "   ╱         9⋅a    9⋅a        \n",
       "  ╱          ──── + ─── + 1    \n",
       " ╱            2      2         \n",
       "╱                              \n",
       "‾‾‾‾‾‾‾                        \n",
       " a = 0                         "
      ]
     },
     "execution_count": 20,
     "metadata": {},
     "output_type": "execute_result"
    }
   ],
   "source": [
    "expr = Sum(summand, (a, 0, n))\n",
    "expr"
   ]
  },
  {
   "cell_type": "markdown",
   "metadata": {},
   "source": [
    "The `doit` method is more robust than `simplify`, because the `simplify` function may change over time [^docssimp], is broadly defined (i.e. a simpler expression is not clearly defined) and is merely implemented as an interactive tool\n",
    "\n",
    "The `sympy.doit` method however will evaluate objects that are not evaluated by default, like limits, integrals, sums and products. [^doit]\n",
    "\n",
    "[^doit]: [Python Sympy Doit Method](https://www.geeksforgeeks.org/python-sympy-doit-method/)\n",
    "[^docssimp]: [Sympy Documentation; Tutorial - Simplify](https://docs.sympy.org/latest/modules/simplify/simplify.html)\n"
   ]
  },
  {
   "cell_type": "code",
   "execution_count": 21,
   "metadata": {},
   "outputs": [
    {
     "data": {
      "text/latex": [
       "\\begin{equation}\\left(n + 1\\right)^{2}\\end{equation}"
      ],
      "text/plain": [
       "       2\n",
       "(n + 1) "
      ]
     },
     "execution_count": 21,
     "metadata": {},
     "output_type": "execute_result"
    }
   ],
   "source": [
    "expr = Sum(summand, (a, 0, n)).doit()\n",
    "expr"
   ]
  },
  {
   "cell_type": "markdown",
   "metadata": {},
   "source": [
    "### Conclusion\n",
    "\n",
    "$n \\in \\mathbb{Z} \\iff (n+1) \\in \\mathbb{Z}$ and hence the expression is a square number $\\square$"
   ]
  },
  {
   "cell_type": "markdown",
   "metadata": {},
   "source": [
    "### Performance\n",
    "\n",
    "Solving this in `sympy` is unfourtunately significantly slower than *Mathematica*, this appears to be a limitation of both `sympy` and *Python*."
   ]
  }
 ],
 "metadata": {
  "kernelspec": {
   "display_name": "Python 3.8.3 64-bit",
   "language": "python",
   "name": "python38364bitb58c1e4a530841da8c36eeef2b5a935c"
  },
  "language_info": {
   "codemirror_mode": {
    "name": "ipython",
    "version": 3
   },
   "file_extension": ".py",
   "mimetype": "text/x-python",
   "name": "python",
   "nbconvert_exporter": "python",
   "pygments_lexer": "ipython3",
   "version": "3.8.3"
  }
 },
 "nbformat": 4,
 "nbformat_minor": 2
}
