{
 "metadata": {
  "language_info": {
   "codemirror_mode": {
    "name": "ipython",
    "version": 3
   },
   "file_extension": ".py",
   "mimetype": "text/x-python",
   "name": "python",
   "nbconvert_exporter": "python",
   "pygments_lexer": "ipython3",
   "version": "3.8.3-final"
  },
  "orig_nbformat": 2,
  "kernelspec": {
   "name": "python38364bit96f776b9d4c3447390f30c3277594aab",
   "display_name": "Python 3.8.3 64-bit"
  }
 },
 "nbformat": 4,
 "nbformat_minor": 2,
 "cells": [
  {
   "cell_type": "markdown",
   "metadata": {},
   "source": [
    "# Problem 3.1 - Continued Fractions"
   ]
  },
  {
   "cell_type": "markdown",
   "metadata": {},
   "source": [
    "A  Continued fraction is an expression of the form: [^st]\n",
    "\n",
    "[^st]:  [Simplification — SymPy 1.6.1 documentation](https://docs.sympy.org/latest/tutorial/simplification.html#polynomial-rational-function-simplification)\n",
    "\n",
    "\n"
   ]
  },
  {
   "cell_type": "markdown",
   "metadata": {},
   "source": [
    "$$\n",
    "\\begin{aligned}\n",
    "a_0+  \\frac{1}{a_1 +  \\frac{1}{a_2 +  \\frac{1}{\\ddots +  \\frac{1}{a_n}}}}\n",
    "\\end{aligned}\n",
    "$$\n"
   ]
  },
  {
   "cell_type": "markdown",
   "metadata": {},
   "source": [
    "Continued fractions need not be finite but these can be difficult to represent in programming language (although to be fair *Mathematica* deals with them reasonably well)"
   ]
  },
  {
   "cell_type": "markdown",
   "metadata": {},
   "source": [
    "Consider the function:"
   ]
  },
  {
   "cell_type": "markdown",
   "metadata": {},
   "source": [
    "$$\n",
    "\\begin{aligned}\n",
    "    \\frac{1}{1+ \\frac{1}{1+ \\frac{1}{1+ \\frac{1}{1+ x}}}} &= \\frac{3+  2x}{5 +  3x}\n",
    "\\end{aligned}\n",
    "$$\n"
   ]
  },
  {
   "cell_type": "markdown",
   "metadata": {},
   "source": [
    "## Exploratory Approach"
   ]
  },
  {
   "cell_type": "markdown",
   "metadata": {},
   "source": [
    "First define a function and corresponding symbol:"
   ]
  },
  {
   "cell_type": "code",
   "execution_count": 8,
   "metadata": {},
   "outputs": [],
   "source": [
    "from sympy import *\n",
    "x = symbols('x')\n",
    "def f(x):\n",
    "    return 1/(1+x)"
   ]
  },
  {
   "cell_type": "markdown",
   "metadata": {},
   "source": [
    "Call this function many times in order to recreate the function:"
   ]
  },
  {
   "cell_type": "code",
   "execution_count": 10,
   "metadata": {},
   "outputs": [
    {
     "output_type": "execute_result",
     "data": {
      "text/plain": "1/(1 + 1/(1 + 1/(1 + 1/(x + 1))))",
      "text/latex": "$\\displaystyle \\frac{1}{1 + \\frac{1}{1 + \\frac{1}{1 + \\frac{1}{x + 1}}}}$"
     },
     "metadata": {},
     "execution_count": 10
    }
   ],
   "source": [
    "expr = f(f(f(f(x))))\n",
    "expr"
   ]
  },
  {
   "cell_type": "markdown",
   "metadata": {},
   "source": [
    "Take this expression and simplify it to get an alternative form."
   ]
  },
  {
   "cell_type": "code",
   "execution_count": 11,
   "metadata": {},
   "outputs": [
    {
     "output_type": "execute_result",
     "data": {
      "text/plain": "(2*x + 3)/(3*x + 5)",
      "text/latex": "$\\displaystyle \\frac{2 x + 3}{3 x + 5}$"
     },
     "metadata": {},
     "execution_count": 11
    }
   ],
   "source": [
    "simplify(expr)"
   ]
  },
  {
   "cell_type": "markdown",
   "metadata": {},
   "source": [
    "The `simplify` function (see problem A-12) tries a large variety of [simplification functions](- [[http://zetcode.com/python/lambda/][Lambda Functions]]\n",
    ") and implements a degree of logic to return a simplified expression.\n",
    "\n",
    "This approach is fine for exploring data but it is slow and the behaviour of the function is not guaranteed to remain consistent.\n",
    "\n",
    "For this reason `simplify` should be avoided in scripts and only used for interaction.\n",
    "\n",
    "By reviewing the tutorial it can be determined that the appropriate simplification funtion is the `cancel` function like so:"
   ]
  },
  {
   "cell_type": "code",
   "execution_count": 12,
   "metadata": {},
   "outputs": [
    {
     "output_type": "execute_result",
     "data": {
      "text/plain": "(2*x + 3)/(3*x + 5)",
      "text/latex": "$\\displaystyle \\frac{2 x + 3}{3 x + 5}$"
     },
     "metadata": {},
     "execution_count": 12
    }
   ],
   "source": [
    "cancel(expr)"
   ]
  },
  {
   "cell_type": "markdown",
   "metadata": {},
   "source": [
    "## Functional Approach"
   ]
  },
  {
   "cell_type": "markdown",
   "metadata": {},
   "source": [
    "Continued Functions can be represented as a list, in this case the the continued function could be represented by $(0, 1, 1, 1, 1, 1+x)$.\n",
    "\n"
   ]
  },
  {
   "cell_type": "markdown",
   "metadata": {},
   "source": [
    "First `import sympy` and set up some symbols:\n"
   ]
  },
  {
   "cell_type": "code",
   "execution_count": 27,
   "metadata": {},
   "outputs": [],
   "source": [
    "from __future__ import division\n",
    "from sympy import *\n",
    "x, y, z, t = symbols('x y z t')\n",
    "k, m, n = symbols('k m n', integer=True)\n",
    "f, g, h = symbols('f g h', cls=Function)\n",
    "init_printing()\n",
    "init_printing(use_latex='mathjax', latex_mode='equation')"
   ]
  },
  {
   "cell_type": "markdown",
   "metadata": {},
   "source": [
    "Now define the function, the simplest function will take the list from right to left, add the value and then divide through like so"
   ]
  },
  {
   "cell_type": "code",
   "execution_count": 28,
   "metadata": {
    "tags": []
   },
   "outputs": [
    {
     "output_type": "execute_result",
     "data": {
      "text/plain": "        1        \n─────────────────\n          1      \n1 + ─────────────\n            1    \n    1 + ─────────\n              1  \n        1 + ─────\n            x + 1",
      "text/latex": "\\begin{equation}\\frac{1}{1 + \\frac{1}{1 + \\frac{1}{1 + \\frac{1}{x + 1}}}}\\end{equation}"
     },
     "metadata": {},
     "execution_count": 28
    }
   ],
   "source": [
    "var_list = [0, 1, 1, 1, 1+x]\n",
    "expr = 0\n",
    "for i in reversed(var_list[1:]):\n",
    "    expr = expr + i\n",
    "    expr = 1/expr\n",
    "var_list[0] + expr"
   ]
  },
  {
   "cell_type": "markdown",
   "metadata": {},
   "source": [
    "Wrapping that in a function merely requires a `return` statement:"
   ]
  },
  {
   "cell_type": "code",
   "execution_count": 29,
   "metadata": {},
   "outputs": [
    {
     "output_type": "execute_result",
     "data": {
      "text/plain": "        1        \n─────────────────\n          1      \n1 + ─────────────\n            1    \n    1 + ─────────\n              1  \n        1 + ─────\n            x + 1",
      "text/latex": "\\begin{equation}\\frac{1}{1 + \\frac{1}{1 + \\frac{1}{1 + \\frac{1}{x + 1}}}}\\end{equation}"
     },
     "metadata": {},
     "execution_count": 29
    }
   ],
   "source": [
    "def make_frac(ls):\n",
    "    expr = 0\n",
    "    for i in reversed(ls[1:]):\n",
    "        expr = expr + i\n",
    "        expr = 1/expr\n",
    "    return var_list[0] + expr\n",
    "\n",
    "expr = make_frac(var_list)\n",
    "expr"
   ]
  },
  {
   "cell_type": "markdown",
   "metadata": {},
   "source": [
    "The output of this function can now be cancelled to show the equivalent result:"
   ]
  },
  {
   "cell_type": "code",
   "execution_count": 31,
   "metadata": {},
   "outputs": [
    {
     "output_type": "execute_result",
     "data": {
      "text/plain": "2⋅x + 3\n───────\n3⋅x + 5",
      "text/latex": "\\begin{equation}\\frac{2 x + 3}{3 x + 5}\\end{equation}"
     },
     "metadata": {},
     "execution_count": 31
    }
   ],
   "source": [
    "expr = cancel(expr)\n",
    "expr"
   ]
  },
  {
   "cell_type": "markdown",
   "metadata": {},
   "source": [
    "Wrapping this all into a function:"
   ]
  },
  {
   "cell_type": "code",
   "execution_count": 33,
   "metadata": {},
   "outputs": [],
   "source": [
    "def make_simp_frac(ls):\n",
    "    expr = 0\n",
    "    for i in reversed(ls[1:]):\n",
    "        expr = expr + i\n",
    "        expr = 1/expr\n",
    "    return cancel(var_list[0] + expr)\n",
    "\n",
    "\n"
   ]
  },
  {
   "cell_type": "markdown",
   "metadata": {},
   "source": [
    "And then using that function on our list-expressed problem:"
   ]
  },
  {
   "cell_type": "code",
   "execution_count": 34,
   "metadata": {},
   "outputs": [
    {
     "output_type": "execute_result",
     "data": {
      "text/plain": "2⋅x + 3\n───────\n3⋅x + 5",
      "text/latex": "\\begin{equation}\\frac{2 x + 3}{3 x + 5}\\end{equation}"
     },
     "metadata": {},
     "execution_count": 34
    }
   ],
   "source": [
    "make_simp_frac([0, 1, 1, 1, 1+x])"
   ]
  }
 ]
}