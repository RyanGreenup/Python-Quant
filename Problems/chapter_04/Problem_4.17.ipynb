{
 "cells": [
  {
   "cell_type": "markdown",
   "metadata": {},
   "source": [
    "# Problem 4.17"
   ]
  },
  {
   "cell_type": "markdown",
   "metadata": {},
   "source": [
    "Write a function squareFree(n) that returns `True` if the number $n$ is a square free number, and `False` otherwise."
   ]
  },
  {
   "cell_type": "markdown",
   "metadata": {},
   "source": [
    "### Definition\n",
    "A square free number is said to be square free if its prime decomposition has no repeated factors.\n",
    "[https://mathworld.wolfram.com/Squarefree.html](https://mathworld.wolfram.com/Squarefree.html)"
   ]
  },
  {
   "cell_type": "markdown",
   "metadata": {},
   "source": [
    "To do this we can use Sympy's `factorint(n)` function to list a dictionary of `factor: count` key-value pairs."
   ]
  },
  {
   "cell_type": "code",
   "execution_count": 1,
   "metadata": {},
   "outputs": [
    {
     "name": "stdout",
     "output_type": "stream",
     "text": [
      "{2: 2, 5: 1}\n"
     ]
    }
   ],
   "source": [
    "from sympy import factorint\n",
    "print(factorint(20))"
   ]
  },
  {
   "cell_type": "markdown",
   "metadata": {},
   "source": [
    "So 20, has a factor of 2 which repeats 2 times and a factor of 5 which repeats 1 time. Since we are interested in the values, we can use the dictionary's `values()` method to access them. "
   ]
  },
  {
   "cell_type": "code",
   "execution_count": 6,
   "metadata": {},
   "outputs": [
    {
     "name": "stdout",
     "output_type": "stream",
     "text": [
      "dict_values([2, 1])\n"
     ]
    }
   ],
   "source": [
    "prime_fac = factorint(20)\n",
    "print((prime_fac.values()))"
   ]
  },
  {
   "cell_type": "markdown",
   "metadata": {},
   "source": [
    "We can easily turn this into an iterable list and apply some conditions to achieve our goal."
   ]
  },
  {
   "cell_type": "code",
   "execution_count": 7,
   "metadata": {},
   "outputs": [
    {
     "name": "stdout",
     "output_type": "stream",
     "text": [
      "False\n",
      "False\n",
      "True\n"
     ]
    }
   ],
   "source": [
    "def squareFree(num):\n",
    "    prime_fac = factorint(num)\n",
    "    for i in list(prime_fac.values()):\n",
    "        if i > 1:\n",
    "            flag = False\n",
    "            break\n",
    "        elif i == 1:\n",
    "            flag = True\n",
    "            continue\n",
    "    return flag\n",
    "\n",
    "print(squareFree(20)) #2^2 x 5 - return false\n",
    "print(squareFree(180)) #2^2 x 3^2 x 5 - return false\n",
    "print(squareFree(30007)) #30007= 37 x 811 - return true "
   ]
  }
 ],
 "metadata": {
  "kernelspec": {
   "display_name": "Python 3",
   "language": "python",
   "name": "python3"
  },
  "language_info": {
   "codemirror_mode": {
    "name": "ipython",
    "version": 3
   },
   "file_extension": ".py",
   "mimetype": "text/x-python",
   "name": "python",
   "nbconvert_exporter": "python",
   "pygments_lexer": "ipython3",
   "version": "3.8.5"
  }
 },
 "nbformat": 4,
 "nbformat_minor": 4
}
