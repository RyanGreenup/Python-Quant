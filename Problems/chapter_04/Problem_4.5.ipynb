{
 "cells": [
  {
   "cell_type": "markdown",
   "metadata": {},
   "source": [
    "# Problem 4.5"
   ]
  },
  {
   "cell_type": "markdown",
   "metadata": {},
   "source": [
    "Find all natural numbers $n$ between $1$ and $12$ for which the polynomial $x^n + 64$ can be written as a product of two nonconstant polynomials with integer coefficients."
   ]
  },
  {
   "cell_type": "markdown",
   "metadata": {},
   "source": [
    "First, we'll take a look at defining an expression $x^n + 64$ and assigning it to the function $p(n)$"
   ]
  },
  {
   "cell_type": "code",
   "execution_count": 17,
   "metadata": {},
   "outputs": [
    {
     "name": "stdout",
     "output_type": "stream",
     "text": [
      "x + 64\n",
      "x**2 + 64\n",
      "x**3 + 64\n"
     ]
    }
   ],
   "source": [
    "from sympy import *\n",
    "\n",
    "x = symbols('x')\n",
    "\n",
    "def p(n):\n",
    "    expr = x**n + 64\n",
    "    return expr\n",
    "\n",
    "print(p(1))\n",
    "print(p(2))\n",
    "print(p(3))"
   ]
  },
  {
   "cell_type": "markdown",
   "metadata": {},
   "source": [
    "Using sympy's `factor()` function we can display $p(n)$ as irreducible factors over the rational numbers."
   ]
  },
  {
   "cell_type": "code",
   "execution_count": 3,
   "metadata": {},
   "outputs": [
    {
     "name": "stdout",
     "output_type": "stream",
     "text": [
      "(x + 4)*(x**2 - 4*x + 16)\n",
      "(x**2 - 4*x + 8)*(x**2 + 4*x + 8)\n",
      "x**5 + 64\n"
     ]
    }
   ],
   "source": [
    "print(factor(p(3)))\n",
    "print(factor(p(4)))\n",
    "print(factor(p(5)))"
   ]
  },
  {
   "cell_type": "markdown",
   "metadata": {},
   "source": [
    "A `for` loop will take care of listing numbers $n$ between $1$ and $12$"
   ]
  },
  {
   "cell_type": "code",
   "execution_count": 14,
   "metadata": {},
   "outputs": [
    {
     "name": "stdout",
     "output_type": "stream",
     "text": [
      "x + 64\n",
      "x**2 + 64\n",
      "(x + 4)*(x**2 - 4*x + 16)\n",
      "(x**2 - 4*x + 8)*(x**2 + 4*x + 8)\n",
      "x**5 + 64\n",
      "(x**2 + 4)*(x**4 - 4*x**2 + 16)\n",
      "x**7 + 64\n",
      "(x**4 - 4*x**2 + 8)*(x**4 + 4*x**2 + 8)\n",
      "(x**3 + 4)*(x**6 - 4*x**3 + 16)\n",
      "x**10 + 64\n",
      "x**11 + 64\n",
      "(x**2 - 2*x + 2)*(x**2 + 2*x + 2)*(x**4 - 2*x**3 + 2*x**2 - 4*x + 4)*(x**4 + 2*x**3 + 2*x**2 + 4*x + 4)\n"
     ]
    }
   ],
   "source": [
    "for i in range(1, 13): \n",
    "    print(factor(p(i)))"
   ]
  },
  {
   "cell_type": "markdown",
   "metadata": {},
   "source": [
    "Finally, we can make it print nicely using the `display()` function"
   ]
  },
  {
   "cell_type": "code",
   "execution_count": 18,
   "metadata": {},
   "outputs": [
    {
     "data": {
      "text/latex": [
       "\\begin{equation}x + 64\\end{equation}"
      ],
      "text/plain": [
       "x + 64"
      ]
     },
     "metadata": {},
     "output_type": "display_data"
    },
    {
     "data": {
      "text/latex": [
       "\\begin{equation}x^{2} + 64\\end{equation}"
      ],
      "text/plain": [
       " 2     \n",
       "x  + 64"
      ]
     },
     "metadata": {},
     "output_type": "display_data"
    },
    {
     "data": {
      "text/latex": [
       "\\begin{equation}\\left(x + 4\\right) \\left(x^{2} - 4 x + 16\\right)\\end{equation}"
      ],
      "text/plain": [
       "        ⎛ 2           ⎞\n",
       "(x + 4)⋅⎝x  - 4⋅x + 16⎠"
      ]
     },
     "metadata": {},
     "output_type": "display_data"
    },
    {
     "data": {
      "text/latex": [
       "\\begin{equation}\\left(x^{2} - 4 x + 8\\right) \\left(x^{2} + 4 x + 8\\right)\\end{equation}"
      ],
      "text/plain": [
       "⎛ 2          ⎞ ⎛ 2          ⎞\n",
       "⎝x  - 4⋅x + 8⎠⋅⎝x  + 4⋅x + 8⎠"
      ]
     },
     "metadata": {},
     "output_type": "display_data"
    },
    {
     "data": {
      "text/latex": [
       "\\begin{equation}x^{5} + 64\\end{equation}"
      ],
      "text/plain": [
       " 5     \n",
       "x  + 64"
      ]
     },
     "metadata": {},
     "output_type": "display_data"
    },
    {
     "data": {
      "text/latex": [
       "\\begin{equation}\\left(x^{2} + 4\\right) \\left(x^{4} - 4 x^{2} + 16\\right)\\end{equation}"
      ],
      "text/plain": [
       "⎛ 2    ⎞ ⎛ 4      2     ⎞\n",
       "⎝x  + 4⎠⋅⎝x  - 4⋅x  + 16⎠"
      ]
     },
     "metadata": {},
     "output_type": "display_data"
    },
    {
     "data": {
      "text/latex": [
       "\\begin{equation}x^{7} + 64\\end{equation}"
      ],
      "text/plain": [
       " 7     \n",
       "x  + 64"
      ]
     },
     "metadata": {},
     "output_type": "display_data"
    },
    {
     "data": {
      "text/latex": [
       "\\begin{equation}\\left(x^{4} - 4 x^{2} + 8\\right) \\left(x^{4} + 4 x^{2} + 8\\right)\\end{equation}"
      ],
      "text/plain": [
       "⎛ 4      2    ⎞ ⎛ 4      2    ⎞\n",
       "⎝x  - 4⋅x  + 8⎠⋅⎝x  + 4⋅x  + 8⎠"
      ]
     },
     "metadata": {},
     "output_type": "display_data"
    },
    {
     "data": {
      "text/latex": [
       "\\begin{equation}\\left(x^{3} + 4\\right) \\left(x^{6} - 4 x^{3} + 16\\right)\\end{equation}"
      ],
      "text/plain": [
       "⎛ 3    ⎞ ⎛ 6      3     ⎞\n",
       "⎝x  + 4⎠⋅⎝x  - 4⋅x  + 16⎠"
      ]
     },
     "metadata": {},
     "output_type": "display_data"
    },
    {
     "data": {
      "text/latex": [
       "\\begin{equation}x^{10} + 64\\end{equation}"
      ],
      "text/plain": [
       " 10     \n",
       "x   + 64"
      ]
     },
     "metadata": {},
     "output_type": "display_data"
    },
    {
     "data": {
      "text/latex": [
       "\\begin{equation}x^{11} + 64\\end{equation}"
      ],
      "text/plain": [
       " 11     \n",
       "x   + 64"
      ]
     },
     "metadata": {},
     "output_type": "display_data"
    },
    {
     "data": {
      "text/latex": [
       "\\begin{equation}\\left(x^{2} - 2 x + 2\\right) \\left(x^{2} + 2 x + 2\\right) \\left(x^{4} - 2 x^{3} + 2 x^{2} - 4 x + 4\\right) \\left(x^{4} + 2 x^{3} + 2 x^{2} + 4 x + 4\\right)\\end{equation}"
      ],
      "text/plain": [
       "⎛ 2          ⎞ ⎛ 2          ⎞ ⎛ 4      3      2          ⎞ ⎛ 4      3      2  \n",
       "⎝x  - 2⋅x + 2⎠⋅⎝x  + 2⋅x + 2⎠⋅⎝x  - 2⋅x  + 2⋅x  - 4⋅x + 4⎠⋅⎝x  + 2⋅x  + 2⋅x  +\n",
       "\n",
       "        ⎞\n",
       " 4⋅x + 4⎠"
      ]
     },
     "metadata": {},
     "output_type": "display_data"
    }
   ],
   "source": [
    "from IPython.display import display\n",
    "init_printing(use_latex='mathjax', latex_mode='equation')\n",
    "for i in range(1, 13): \n",
    "    display(factor(p(i)))"
   ]
  }
 ],
 "metadata": {
  "kernelspec": {
   "display_name": "Python 3",
   "language": "python",
   "name": "python3"
  },
  "language_info": {
   "codemirror_mode": {
    "name": "ipython",
    "version": 3
   },
   "file_extension": ".py",
   "mimetype": "text/x-python",
   "name": "python",
   "nbconvert_exporter": "python",
   "pygments_lexer": "ipython3",
   "version": "3.8.5"
  }
 },
 "nbformat": 4,
 "nbformat_minor": 4
}
