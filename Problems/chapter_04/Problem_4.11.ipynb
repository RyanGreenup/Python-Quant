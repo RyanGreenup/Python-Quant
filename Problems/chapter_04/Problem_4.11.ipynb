{
 "cells": [
  {
   "cell_type": "markdown",
   "metadata": {},
   "source": [
    "# Problem 4.11"
   ]
  },
  {
   "cell_type": "markdown",
   "metadata": {},
   "source": [
    "Show that among the first 500 Fibonacci numbers, 18 of them are prime."
   ]
  },
  {
   "cell_type": "markdown",
   "metadata": {},
   "source": [
    "We can use the same approach as Problem 4.10\n",
    "\n",
    "Define $p(n) = Fibonacci(n)$"
   ]
  },
  {
   "cell_type": "code",
   "execution_count": 1,
   "metadata": {},
   "outputs": [],
   "source": [
    "from sympy import *\n",
    "n = symbols('n')\n",
    "\n",
    "p = Lambda(n, fibonacci(n))"
   ]
  },
  {
   "cell_type": "markdown",
   "metadata": {},
   "source": [
    "Recall we defined a function `getNumPrimes(n)` in Problem 4.10 to determine the number of primes in a list of $n$ elements from $p(n)$"
   ]
  },
  {
   "cell_type": "code",
   "execution_count": 3,
   "metadata": {},
   "outputs": [
    {
     "name": "stdout",
     "output_type": "stream",
     "text": [
      "18\n"
     ]
    }
   ],
   "source": [
    "def getNumPrimes(n):\n",
    "    primes = []\n",
    "    for i in range(1, n+1):\n",
    "        if(isprime(p(i))):\n",
    "            primes.append(p(i))\n",
    "    num = len(primes)            \n",
    "    return num\n",
    "\n",
    "#print number of primes within the first 500 outputs p(n)\n",
    "print(getNumPrimes(500))"
   ]
  },
  {
   "cell_type": "markdown",
   "metadata": {},
   "source": [
    "Therefore, we have shown within the first 500 fibonacci number, *18* of them are prime."
   ]
  }
 ],
 "metadata": {
  "kernelspec": {
   "display_name": "Python 3",
   "language": "python",
   "name": "python3"
  },
  "language_info": {
   "codemirror_mode": {
    "name": "ipython",
    "version": 3
   },
   "file_extension": ".py",
   "mimetype": "text/x-python",
   "name": "python",
   "nbconvert_exporter": "python",
   "pygments_lexer": "ipython3",
   "version": "3.8.5"
  }
 },
 "nbformat": 4,
 "nbformat_minor": 4
}
