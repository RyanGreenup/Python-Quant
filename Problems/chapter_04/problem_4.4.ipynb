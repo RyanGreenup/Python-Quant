{
 "metadata": {
  "language_info": {
   "codemirror_mode": {
    "name": "ipython",
    "version": 3
   },
   "file_extension": ".py",
   "mimetype": "text/x-python",
   "name": "python",
   "nbconvert_exporter": "python",
   "pygments_lexer": "ipython3",
   "version": "3.8.5-final"
  },
  "orig_nbformat": 2,
  "kernelspec": {
   "name": "python38364bitb58c1e4a530841da8c36eeef2b5a935c",
   "display_name": "Python 3.8.3 64-bit"
  }
 },
 "nbformat": 4,
 "nbformat_minor": 2,
 "cells": [
  {
   "cell_type": "code",
   "execution_count": 23,
   "metadata": {},
   "outputs": [],
   "source": [
    "from __future__ import division\n",
    "from sympy import *\n",
    "x, y, z, t = symbols('x y z t')\n",
    "k, m, n = symbols('k m n', integer=True)\n",
    "f, g, h = symbols('f g h', cls=Function)\n",
    "init_printing()\n",
    "init_printing(use_latex='mathjax', latex_mode='equation')\n",
    "\n",
    "\n",
    "import pyperclip\n",
    "def lx(expr):\n",
    "    pyperclip.copy(latex(expr))\n",
    "    print(expr)\n",
    "\n",
    "import numpy as np\n",
    "import matplotlib as plt"
   ]
  },
  {
   "cell_type": "markdown",
   "metadata": {},
   "source": [
    "# Problem 4.4"
   ]
  },
  {
   "cell_type": "markdown",
   "metadata": {},
   "source": [
    "Produce the list of the first 30 Fibonacci Numbers"
   ]
  },
  {
   "cell_type": "markdown",
   "metadata": {},
   "source": [
    "## Define the Fibonacci Numbers"
   ]
  },
  {
   "cell_type": "markdown",
   "metadata": {},
   "source": [
    "The *Fibonacci* Numbers are a sequence given by:\n",
    "\n",
    "$$\n",
    "F_n = F_{n-1} + F_{n-2}\n",
    "$$"
   ]
  },
  {
   "cell_type": "markdown",
   "metadata": {},
   "source": [
    "First we will define a function to get the Fibonacci Numbers"
   ]
  },
  {
   "cell_type": "code",
   "execution_count": 40,
   "metadata": {},
   "outputs": [],
   "source": [
    "def Fibonacci(k):\n",
    "    i  = 0\n",
    "    n1 = 1\n",
    "    n2 = 1\n",
    "    while i <= k:\n",
    "        n1 = n2\n",
    "        n2 = n1 + n2\n",
    "        i = i+1\n",
    "    return (n1+n2)\n",
    "   "
   ]
  },
  {
   "cell_type": "code",
   "execution_count": 41,
   "metadata": {},
   "outputs": [
    {
     "output_type": "execute_result",
     "data": {
      "text/plain": "6",
      "text/latex": "$$6$$"
     },
     "metadata": {},
     "execution_count": 41
    }
   ],
   "source": [
    "Fibonacci(1)"
   ]
  },
  {
   "cell_type": "markdown",
   "metadata": {},
   "source": [
    "This function could be improved performance wise by:\n",
    "\n",
    "1. Storing the values as a list for later retrieval\n",
    "2. Solve the function analytically by using the theory of linear recurrence relations. [^1]\n",
    "\n",
    "[^1]: Showing that linear recurrence relations are isomorphic to Second order linear differential equations would be some really good math for our report.\n",
    "\n"
   ]
  },
  {
   "cell_type": "markdown",
   "metadata": {
    "tags": []
   },
   "source": [
    "## Generate the first 30"
   ]
  },
  {
   "cell_type": "markdown",
   "metadata": {},
   "source": [
    "If the `Fibonacci` function defined above was a black box function that we could not inspect (or an analytic function) we might try something like this to generate the first 30 values:"
   ]
  },
  {
   "cell_type": "code",
   "execution_count": 45,
   "metadata": {
    "tags": []
   },
   "outputs": [
    {
     "output_type": "execute_result",
     "data": {
      "text/plain": "[0, 1, 1, 2, 3, 5, 8, 13, 21, 34, 55, 89, 144, 233, 377, 610, 987, 1597, 2584,\n 4181, 6765, 10946, 17711, 28657, 46368, 75025, 121393, 196418, 317811, 514229\n]",
      "text/latex": "$$\\left [ 0, \\quad 1, \\quad 1, \\quad 2, \\quad 3, \\quad 5, \\quad 8, \\quad 13, \\quad 21, \\quad 34, \\quad 55, \\quad 89, \\quad 144, \\quad 233, \\quad 377, \\quad 610, \\quad 987, \\quad 1597, \\quad 2584, \\quad 4181, \\quad 6765, \\quad 10946, \\quad 17711, \\quad 28657, \\quad 46368, \\quad 75025, \\quad 121393, \\quad 196418, \\quad 317811, \\quad 514229\\right ]$$"
     },
     "metadata": {},
     "execution_count": 45
    }
   ],
   "source": [
    "[fibonacci(num) for num in range(30)]"
   ]
  },
  {
   "cell_type": "markdown",
   "metadata": {},
   "source": [
    "\n",
    "What I'd like to do is to derive  *Binet's Formula* :\n",
    "\n",
    "$$\n",
    "F_n = \\frac{\\varphi^n-\\psi^n}{\\varphi-\\psi} = \\frac{\\varphi^n-\\psi^n}{\\sqrt 5}\n",
    "$$\n",
    "\n",
    "Which is fairly easy.\n",
    "\n",
    "but what I've started to demonstrate is that a homogenous linear recurrence relationship is isomorphic to a homogenous linear differential equation.\n",
    "\n",
    "I think this is interesting and we were never shown why this technique worked, merely that it did."
   ]
  }
 ]
}