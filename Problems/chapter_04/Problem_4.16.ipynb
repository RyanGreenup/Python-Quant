{
 "cells": [
  {
   "cell_type": "markdown",
   "metadata": {},
   "source": [
    "# Problem 4.16"
   ]
  },
  {
   "cell_type": "markdown",
   "metadata": {},
   "source": [
    "What digit does not appear as the last digit of the first 20 Fibonacci numbers?"
   ]
  },
  {
   "cell_type": "markdown",
   "metadata": {},
   "source": [
    "## The Division Algorithm and Congruence\n",
    "\n",
    "Recall from the division algorithm\n",
    "\n",
    "If $a,b∈Z$ with $~b > 0$, there exist unique $q,r∈Z$ with $0 ≤ r < b$ such that $a ~= ~qb ~+ ~r$\n",
    "\n",
    "Also recall:\n",
    "\n",
    "Let $a,b∈Z$ and $n∈Z^+$. We say that $a$ and $b$ are *congruent* modulo $n$ if $n|a-b$, i.e.\n",
    "\n",
    "$$\n",
    "a-b = nq, \\text{for some} ~q∈Z\n",
    "$$\n",
    "\n",
    "\n",
    "Can be written as\n",
    "\n",
    "$$\n",
    "a \\equiv b~(mod~n)\n",
    "$$\n",
    "\n",
    "Now, rearranging the division algorithm, we get\n",
    "\n",
    "$$\n",
    "a-r ~= ~qb, \\text{for some} ~q∈Z\\text{, i.e. }\\\\\n",
    "a \\equiv r~(mod~b)\n",
    "$$"
   ]
  },
  {
   "cell_type": "markdown",
   "metadata": {},
   "source": [
    "Let's take a look at some examples in modulo 10\n",
    "\n",
    "$$\n",
    "10 \\equiv 0~(mod~10)\\\\\n",
    "21 \\equiv 1~(mod~10)\\\\\n",
    "32 \\equiv 2~(mod~10)\\\\\n",
    "43 \\equiv 3~(mod~10)\\\\\n",
    "54 \\equiv 4~(mod~10)\\\\\n",
    "65 \\equiv 5~(mod~10)\\\\\n",
    "76 \\equiv 6~(mod~10)\\\\\n",
    "87 \\equiv 7~(mod~10)\\\\\n",
    "98 \\equiv 8~(mod~10)\\\\\n",
    "109 \\equiv 9~(mod~10)\\\\\n",
    "110 \\equiv 0~(mod~10)\\\\\n",
    "•\\\\\n",
    "•\\\\\n",
    "•\n",
    "$$\n",
    "\n",
    "And so on.\n",
    "\n",
    "Notice the pattern? The remainder $r$ is equal to the last digit of each integer $a$ \n",
    "\n",
    "This will be useful to obtain the \"last digit\" of each fibonacci number.\n",
    "\n",
    "Let's take a look at this in python."
   ]
  },
  {
   "cell_type": "code",
   "execution_count": 5,
   "metadata": {},
   "outputs": [
    {
     "name": "stdout",
     "output_type": "stream",
     "text": [
      "0\n",
      "6\n",
      "7\n"
     ]
    }
   ],
   "source": [
    "def getLast(num):\n",
    "    return num % 10\n",
    "\n",
    "print(getLast(10))\n",
    "print(getLast(56))\n",
    "print(getLast(107))"
   ]
  },
  {
   "cell_type": "markdown",
   "metadata": {},
   "source": [
    "Applying this to the first 20 fibonacci numbers"
   ]
  },
  {
   "cell_type": "code",
   "execution_count": 7,
   "metadata": {},
   "outputs": [
    {
     "name": "stdout",
     "output_type": "stream",
     "text": [
      "[1, 1, 2, 3, 5, 8, 3, 1, 4, 5, 9, 4, 3, 7, 0, 7, 7, 4, 1, 5]\n"
     ]
    }
   ],
   "source": [
    "from sympy import fibonacci\n",
    "lst = [getLast(fibonacci(i)) for i in range(1, 21)]\n",
    "print(lst)"
   ]
  },
  {
   "cell_type": "markdown",
   "metadata": {},
   "source": [
    "Now to create a function that will return the digits that **do not** appear in a list of integers"
   ]
  },
  {
   "cell_type": "code",
   "execution_count": 9,
   "metadata": {},
   "outputs": [],
   "source": [
    "def findDigits(lst):\n",
    "    digits = [0, 1, 2, 3, 4, 5, 6, 7, 8, 9]\n",
    "    return [item for item in digits if item not in lst]"
   ]
  },
  {
   "cell_type": "markdown",
   "metadata": {},
   "source": [
    "This function will cycle through each integer in `digits` and will return a list of integers that are **not** in the `lst` parameter"
   ]
  },
  {
   "cell_type": "markdown",
   "metadata": {},
   "source": [
    "Putting this all together"
   ]
  },
  {
   "cell_type": "code",
   "execution_count": 10,
   "metadata": {},
   "outputs": [
    {
     "name": "stdout",
     "output_type": "stream",
     "text": [
      "[6]\n"
     ]
    }
   ],
   "source": [
    "#recall lst = [getLast(fibonacci(i)) for i in range(1, 21)]\n",
    "print(findDigits(lst))"
   ]
  }
 ],
 "metadata": {
  "kernelspec": {
   "display_name": "Python 3",
   "language": "python",
   "name": "python3"
  },
  "language_info": {
   "codemirror_mode": {
    "name": "ipython",
    "version": 3
   },
   "file_extension": ".py",
   "mimetype": "text/x-python",
   "name": "python",
   "nbconvert_exporter": "python",
   "pygments_lexer": "ipython3",
   "version": "3.8.5"
  }
 },
 "nbformat": 4,
 "nbformat_minor": 4
}
