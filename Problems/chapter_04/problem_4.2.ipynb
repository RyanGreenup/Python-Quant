{
 "metadata": {
  "language_info": {
   "codemirror_mode": {
    "name": "ipython",
    "version": 3
   },
   "file_extension": ".py",
   "mimetype": "text/x-python",
   "name": "python",
   "nbconvert_exporter": "python",
   "pygments_lexer": "ipython3",
   "version": "3.8.5-final"
  },
  "orig_nbformat": 2,
  "kernelspec": {
   "name": "python38364bitb58c1e4a530841da8c36eeef2b5a935c",
   "display_name": "Python 3.8.3 64-bit"
  }
 },
 "nbformat": 4,
 "nbformat_minor": 2,
 "cells": [
  {
   "cell_type": "code",
   "execution_count": 4,
   "metadata": {},
   "outputs": [],
   "source": [
    "from __future__ import division\n",
    "from sympy import *\n",
    "a, b, c, d, e, f = symbols('a b c d e f')\n",
    "init_printing()\n",
    "init_printing(use_latex='mathjax', latex_mode='equation')\n",
    "\n",
    "\n",
    "import pyperclip\n",
    "def lx(expr):\n",
    "    pyperclip.copy(latex(expr))\n",
    "    print(expr)\n",
    "\n",
    "import numpy as np\n",
    "import matplotlib as plt"
   ]
  },
  {
   "cell_type": "markdown",
   "metadata": {},
   "source": [
    "# Problem 4.2"
   ]
  },
  {
   "cell_type": "markdown",
   "metadata": {},
   "source": [
    "## Trivial Example"
   ]
  },
  {
   "cell_type": "markdown",
   "metadata": {},
   "source": [
    "Consider the list:\n",
    "\n",
    "```python\n",
    "easyData = [[a], [b], [c], [d]]\n",
    "```"
   ]
  },
  {
   "cell_type": "code",
   "execution_count": null,
   "metadata": {},
   "outputs": [],
   "source": [
    "A common need is to flatten that list, the simplest means by which to do that is with *list comprehension* like so:"
   ]
  },
  {
   "cell_type": "code",
   "execution_count": 5,
   "metadata": {},
   "outputs": [
    {
     "output_type": "execute_result",
     "data": {
      "text/plain": "[a, b, c, d]",
      "text/latex": "$$\\left [ a, \\quad b, \\quad c, \\quad d\\right ]$$"
     },
     "metadata": {},
     "execution_count": 5
    }
   ],
   "source": [
    "easyData = [[a], [b], [c], [d]]\n",
    "[item for sublist in easyData for item in sublist]"
   ]
  },
  {
   "cell_type": "code",
   "execution_count": null,
   "metadata": {},
   "outputs": [],
   "source": [
    "This technique is equivalent to using nested `for` loops but it is significantly quicker. [^551] \n",
    "\n",
    "It does however require that the level of nesting to be consistent across elements, which is not always the case, consider this example:\n",
    "\n",
    "[^551]: [python - Flatten list of lists - Stack Overflow](https://stackoverflow.com/a/11264751/12843551)\n"
   ]
  },
  {
   "cell_type": "markdown",
   "metadata": {},
   "source": [
    "## Complex Example"
   ]
  },
  {
   "cell_type": "markdown",
   "metadata": {},
   "source": [
    "```python\n",
    "data = [[[[a, b], 2], [[c, d], 3]], [[[a, b], 2], [[e, f], 3]]]\n",
    "```"
   ]
  },
  {
   "cell_type": "markdown",
   "metadata": {},
   "source": [
    "Functionality such as this isn't usually built into *Python*, instead the idea is to build it yourself.\n",
    "\n",
    "The `functools` library does however offer some tooling such as `reduce` that may assist in this, however in this case it is arguably simpler to use the built in functions."
   ]
  },
  {
   "cell_type": "markdown",
   "metadata": {},
   "source": [
    "Initially iterate a loop over the list to print the values:"
   ]
  },
  {
   "cell_type": "code",
   "execution_count": 6,
   "metadata": {
    "tags": []
   },
   "outputs": [
    {
     "output_type": "stream",
     "name": "stdout",
     "text": "[[a, b], 2]\n[[c, d], 3]\n[[a, b], 2]\n[[e, f], 3]\n"
    }
   ],
   "source": [
    "data = [[[[a, b], 2], [[c, d], 3]], [[[a, b], 2], [[e, f], 3]]]\n",
    "\n",
    "for item in data:\n",
    "    if type(item) is list:\n",
    "        for subitem in item:\n",
    "            print(subitem)\n",
    "    else:\n",
    "        print(item)\n",
    "\n"
   ]
  },
  {
   "cell_type": "markdown",
   "metadata": {},
   "source": [
    "This appears to successfully reduce the level of the list by one, so now instead of printing lets append the values onto a new list:"
   ]
  },
  {
   "cell_type": "code",
   "execution_count": 11,
   "metadata": {
    "tags": []
   },
   "outputs": [
    {
     "output_type": "stream",
     "name": "stdout",
     "text": "[[[a, b], 2], [[c, d], 3], [[a, b], 2], [[e, f], 3]]\n[[[[a, b], 2], [[c, d], 3]], [[[a, b], 2], [[e, f], 3]]]\n"
    }
   ],
   "source": [
    "\n",
    "\n",
    "new_list = []\n",
    "for item in data:\n",
    "    if type(item) is list:\n",
    "        for subitem in item:\n",
    "            new_list.append(subitem)\n",
    "    else:\n",
    "        new_list.append(item)\n",
    "\n",
    "print(str(new_list) + '\\n' + str(data))\n",
    "\n"
   ]
  },
  {
   "cell_type": "code",
   "execution_count": null,
   "metadata": {},
   "outputs": [],
   "source": [
    "Again it appears that this has worked and so now we would want to wrap this into a function so it can be a part of our toolbox:"
   ]
  },
  {
   "cell_type": "code",
   "execution_count": 16,
   "metadata": {
    "tags": []
   },
   "outputs": [
    {
     "output_type": "stream",
     "name": "stdout",
     "text": "[[[[a, b], 2], [[c, d], 3]], [[[a, b], 2], [[e, f], 3]]]\n[[[[a, b], 2], [[c, d], 3]], [[[a, b], 2], [[e, f], 3]]]\n"
    }
   ],
   "source": [
    "def flat(list):\n",
    "    new_list = []\n",
    "    for item in list:\n",
    "        if type(item) is list:\n",
    "            for subitem in item:\n",
    "                new_list.append(subitem)\n",
    "        elif type(item) is not list:\n",
    "            new_list.append(item)\n",
    "        else:\n",
    "            print(\"ERROR: Element is neither a list nor a non-list\")\n",
    "            return 0\n",
    "    return new_list\n",
    "\n",
    "print(str(flat(data)) + '\\n' + str(data))\n",
    "\n"
   ]
  },
  {
   "cell_type": "markdown",
   "metadata": {},
   "source": [
    "Notice that when wrapped in a function this method **does not work**.\n",
    "\n",
    "This can be very confusing and the reason that it fails is because the expression `type(item) is list` statement evaluates as false when inside a loop inside a function.\n",
    "\n",
    "I can't quite explain why this behaviour occurs, but I can say that many people have had to deal with testing whether or not a *Python* object is iterable [^128].\n",
    "\n",
    "[^128]: \n",
    "[In Python, how do I determine if an object is iterable? - Stack Overflow](https://stackoverflow.com/a/61139278/12843551)\n",
    "\n",
    "The function `iter()` is a function that will *get an iterator from an object*, however more importantly it will throw an error if an item cannot be pulled out of an object, this behaviour can be used with a `try`/`catch` statement to build a logical test for an object that has items that can be removed [^1282]\n",
    "\n",
    "[^1282]: For an object that is iterable but does not have items that can be returned the `collections.Iterable()` function may be helpful.\n"
   ]
  },
  {
   "cell_type": "code",
   "execution_count": 17,
   "metadata": {},
   "outputs": [
    {
     "output_type": "execute_result",
     "data": {
      "text/plain": "True"
     },
     "metadata": {},
     "execution_count": 17
    }
   ],
   "source": [
    "# This is good but notice that it fails:\n",
    "\n",
    "def isIterable(x):\n",
    "    try:\n",
    "        iter(x)\n",
    "        return True\n",
    "    except:\n",
    "        return False\n",
    "\n",
    "isIterable([1,2])\n"
   ]
  },
  {
   "cell_type": "code",
   "execution_count": null,
   "metadata": {},
   "outputs": [],
   "source": [
    "This Try/Catch Function returns the following output given input, which is exactly what is desired in this situation."
   ]
  },
  {
   "cell_type": "markdown",
   "metadata": {},
   "source": [
    "| ***Argument*** | ***Output*** |\n",
    "| ---            | ---          |\n",
    "| `[1,2]`        | `True`       |\n",
    "| `[3]`          | `False`      |\n",
    "| `4`            | `False`      |\n"
   ]
  },
  {
   "cell_type": "markdown",
   "metadata": {},
   "source": [
    "Now replacing `type(list) is list` with our `isIterable(list)` function we can see that it does indeed flatten the list:"
   ]
  },
  {
   "cell_type": "code",
   "execution_count": 19,
   "metadata": {
    "tags": []
   },
   "outputs": [
    {
     "output_type": "stream",
     "name": "stdout",
     "text": "[[[[a, b], 2], [[c, d], 3]], [[[a, b], 2], [[e, f], 3]]]\n[[a, b], 2, [c, d], 3, [a, b], 2, [e, f], 3]\n"
    }
   ],
   "source": [
    "\n",
    "def flat(list):\n",
    "    new_list = []\n",
    "    for item in list:\n",
    "        if isIterable(item):\n",
    "            for subitem in item:\n",
    "                new_list.append(subitem)\n",
    "        elif not isIterable(item):\n",
    "            new_list.append(item)\n",
    "        else:\n",
    "            print(\"ERROR: Element is neither a iterable or a non-iterable\")\n",
    "            return 1\n",
    "    return new_list\n",
    "\n",
    "print(str(data) + '\\n' + str(flat(flat(data))))\n"
   ]
  },
  {
   "cell_type": "code",
   "execution_count": null,
   "metadata": {},
   "outputs": [],
   "source": [
    "This is also tollerant to larger arguments, for example [^wn]:\n",
    "\n",
    "[^wn]: (silent failure may be undesirable)"
   ]
  },
  {
   "cell_type": "code",
   "execution_count": 20,
   "metadata": {},
   "outputs": [
    {
     "output_type": "execute_result",
     "data": {
      "text/plain": "[a, b, 2, c, d, 3, a, b, 2, e, f, 3]",
      "text/latex": "$$\\left [ a, \\quad b, \\quad 2, \\quad c, \\quad d, \\quad 3, \\quad a, \\quad b, \\quad 2, \\quad e, \\quad f, \\quad 3\\right ]$$"
     },
     "metadata": {},
     "execution_count": 20
    }
   ],
   "source": [
    "flat(flat(flat(data)))\n",
    "flat(flat(flat(flat(data))))\n",
    "\n",
    "\n"
   ]
  },
  {
   "cell_type": "markdown",
   "metadata": {},
   "source": [
    "Now to give this an argument to control the depth of flattening recursion or a `for` loop can be used.\n",
    "\n",
    "Generally any problem that can be solved via recursion can be solved via a for loop and vice versa, however in languages such as *Python* and ***R*** `for` loops **may** perform better due to the overheads of calling a function. [^pf]\n",
    "\n",
    "In this situation a `for` loop is easier to comprehend:\n",
    "\n",
    "[^pf]: Test this if performance critical\n",
    "\n",
    "Putting this into practice we get:"
   ]
  },
  {
   "cell_type": "code",
   "execution_count": 23,
   "metadata": {
    "tags": []
   },
   "outputs": [
    {
     "output_type": "stream",
     "name": "stdout",
     "text": "[[[[a, b], 2], [[c, d], 3]], [[[a, b], 2], [[e, f], 3]]]\n[a, b, 2, c, d, 3, a, b, 2, e, f, 3]\n"
    }
   ],
   "source": [
    "def flatten(list, n):\n",
    "    for i in range(n-1):\n",
    "        list = flat(list)\n",
    "    return list\n",
    "\n",
    "data\n",
    "print(str(data) + '\\n' + str(flatten(data, 4)))"
   ]
  },
  {
   "cell_type": "code",
   "execution_count": null,
   "metadata": {},
   "outputs": [],
   "source": [
    "This shows that it does indeed work."
   ]
  },
  {
   "cell_type": "markdown",
   "metadata": {},
   "source": [
    "## Solution"
   ]
  },
  {
   "cell_type": "markdown",
   "metadata": {},
   "source": [
    "For convenience sake the entire solution is contained below:\n",
    "\n"
   ]
  },
  {
   "cell_type": "code",
   "execution_count": 27,
   "metadata": {
    "tags": []
   },
   "outputs": [],
   "source": [
    "def flatten(list, n):\n",
    "    for i in range(n-1):\n",
    "        list = flat(list)\n",
    "    return list\n",
    "\n",
    "def flat(list):\n",
    "    new_list = []\n",
    "    for item in list:\n",
    "        if isIterable(item):\n",
    "            for subitem in item:\n",
    "                new_list.append(subitem)\n",
    "        elif not isIterable(item):\n",
    "            new_list.append(item)\n",
    "    return new_list\n",
    "\n",
    "\n",
    "def isIterable(x):\n",
    "    try:\n",
    "        iter(x)\n",
    "        return True\n",
    "    except:\n",
    "        return False\n"
   ]
  },
  {
   "cell_type": "code",
   "execution_count": 26,
   "metadata": {
    "tags": []
   },
   "outputs": [
    {
     "output_type": "stream",
     "name": "stdout",
     "text": "[[[[a, b], 2], [[c, d], 3]], [[[a, b], 2], [[e, f], 3]]]\n[a, b, 2, c, d, 3, a, b, 2, e, f, 3]\n"
    }
   ],
   "source": [
    "\n",
    "data\n",
    "print(str(data) + '\\n' + str(flatten(data, 4)))\n"
   ]
  }
 ]
}