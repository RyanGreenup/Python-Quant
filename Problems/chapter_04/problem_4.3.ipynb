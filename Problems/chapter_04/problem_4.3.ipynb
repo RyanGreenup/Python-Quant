{
 "metadata": {
  "language_info": {
   "codemirror_mode": {
    "name": "ipython",
    "version": 3
   },
   "file_extension": ".py",
   "mimetype": "text/x-python",
   "name": "python",
   "nbconvert_exporter": "python",
   "pygments_lexer": "ipython3",
   "version": "3.8.5-final"
  },
  "orig_nbformat": 2,
  "kernelspec": {
   "name": "python38364bitb58c1e4a530841da8c36eeef2b5a935c",
   "display_name": "Python 3.8.3 64-bit"
  }
 },
 "nbformat": 4,
 "nbformat_minor": 2,
 "cells": [
  {
   "cell_type": "markdown",
   "metadata": {},
   "source": [
    "## Problem 4.3"
   ]
  },
  {
   "cell_type": "markdown",
   "metadata": {},
   "source": [
    "Print the Boundary Entries of the following:\n",
    "\n",
    "$$\n",
    "a = \\left[\\begin{matrix}x{\\left (1,1 \\right )} & x{\\left (1,2 \\right )} & x{\\left (1,3 \\right )}\\\\x{\\left (2,1 \\right )} & x{\\left (2,2 \\right )} & x{\\left (2,3 \\right )}\\\\x{\\left (3,1 \\right )} & x{\\left (3,2 \\right )} & x{\\left (3,3 \\right )}\\end{matrix}\\right]\n",
    "$$"
   ]
  },
  {
   "cell_type": "markdown",
   "metadata": {},
   "source": [
    "First Create the Matrix #TODO build lambda function like `Array[]`"
   ]
  },
  {
   "cell_type": "code",
   "execution_count": 12,
   "metadata": {},
   "outputs": [],
   "source": [
    "from sympy import *\n",
    "init_printing(use_latex='mathjax', latex_mode='equation')\n",
    "\n",
    "import pyperclip\n",
    "def lx(expr):\n",
    "    pyperclip.copy(latex(expr))\n",
    "    print(expr)\n",
    "\n",
    "x = symbols('x', cls=Function)\n",
    "a = Matrix([\n",
    "    [x(1,1), x(1,2), x(1,3)],\n",
    "    [x(2,1), x(2,2), x(2,3)],\n",
    "    [x(3,1), x(3,2), x(3,3)]\n",
    "])"
   ]
  },
  {
   "cell_type": "markdown",
   "metadata": {},
   "source": [
    "Next Extract the Boundary Entries:"
   ]
  },
  {
   "cell_type": "code",
   "execution_count": 13,
   "metadata": {},
   "outputs": [
    {
     "output_type": "execute_result",
     "data": {
      "text/plain": "[x(2, 1)  x(2, 2)  x(2, 3)]",
      "text/latex": "$$\\left[\\begin{matrix}x{\\left (2,1 \\right )} & x{\\left (2,2 \\right )} & x{\\left (2,3 \\right )}\\end{matrix}\\right]$$"
     },
     "metadata": {},
     "execution_count": 13
    }
   ],
   "source": [
    "a[1,:]"
   ]
  },
  {
   "cell_type": "code",
   "execution_count": 14,
   "metadata": {},
   "outputs": [
    {
     "output_type": "execute_result",
     "data": {
      "text/plain": "⎡x(1, 2)⎤\n⎢       ⎥\n⎢x(2, 2)⎥\n⎢       ⎥\n⎣x(3, 2)⎦",
      "text/latex": "$$\\left[\\begin{matrix}x{\\left (1,2 \\right )}\\\\x{\\left (2,2 \\right )}\\\\x{\\left (3,2 \\right )}\\end{matrix}\\right]$$"
     },
     "metadata": {},
     "execution_count": 14
    }
   ],
   "source": [
    "a[:,1]"
   ]
  },
  {
   "cell_type": "code",
   "execution_count": 15,
   "metadata": {},
   "outputs": [
    {
     "output_type": "execute_result",
     "data": {
      "text/plain": "[x(3, 1)  x(3, 2)  x(3, 3)]",
      "text/latex": "$$\\left[\\begin{matrix}x{\\left (3,1 \\right )} & x{\\left (3,2 \\right )} & x{\\left (3,3 \\right )}\\end{matrix}\\right]$$"
     },
     "metadata": {},
     "execution_count": 15
    }
   ],
   "source": [
    "a[-1,:]"
   ]
  },
  {
   "cell_type": "code",
   "execution_count": 16,
   "metadata": {},
   "outputs": [
    {
     "output_type": "execute_result",
     "data": {
      "text/plain": "⎡x(1, 3)⎤\n⎢       ⎥\n⎢x(2, 3)⎥\n⎢       ⎥\n⎣x(3, 3)⎦",
      "text/latex": "$$\\left[\\begin{matrix}x{\\left (1,3 \\right )}\\\\x{\\left (2,3 \\right )}\\\\x{\\left (3,3 \\right )}\\end{matrix}\\right]$$"
     },
     "metadata": {},
     "execution_count": 16
    }
   ],
   "source": [
    "a[:,-1]"
   ]
  }
 ]
}