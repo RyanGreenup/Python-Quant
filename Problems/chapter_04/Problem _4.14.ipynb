{
 "cells": [
  {
   "cell_type": "markdown",
   "metadata": {},
   "source": [
    "# Problem 4.14"
   ]
  },
  {
   "cell_type": "markdown",
   "metadata": {},
   "source": [
    "Show that the number of $k$ between 0 and 1000 for which $\\binom{1000}{k}$ is odd is a power of 2."
   ]
  },
  {
   "cell_type": "code",
   "execution_count": 5,
   "metadata": {},
   "outputs": [
    {
     "name": "stdout",
     "output_type": "stream",
     "text": [
      "6\n",
      "165\n"
     ]
    }
   ],
   "source": [
    "from sympy import *\n",
    "#testing the binomial function with arbitrary values\n",
    "print(binomial(4, 2)) \n",
    "print(binomial(11, 3))"
   ]
  },
  {
   "cell_type": "markdown",
   "metadata": {},
   "source": [
    "Print the value of $k$ if $\\binom{1000}{k}$ is odd\\\n",
    "\\\n",
    "We can test the previous values first"
   ]
  },
  {
   "cell_type": "code",
   "execution_count": 6,
   "metadata": {},
   "outputs": [
    {
     "name": "stdout",
     "output_type": "stream",
     "text": [
      "False\n",
      "True\n"
     ]
    }
   ],
   "source": [
    "print(binomial(4, 2) % 2 == 1)\n",
    "print(binomial(11, 3) % 2 == 1)"
   ]
  },
  {
   "cell_type": "markdown",
   "metadata": {},
   "source": [
    "Now, let's produce a list of all $k$ values that satisfy this condition from 0 to 1000"
   ]
  },
  {
   "cell_type": "code",
   "execution_count": 7,
   "metadata": {},
   "outputs": [
    {
     "name": "stdout",
     "output_type": "stream",
     "text": [
      "[0, 8, 32, 40, 64, 72, 96, 104, 128, 136, 160, 168, 192, 200, 224, 232, 256, 264, 288, 296, 320, 328, 352, 360, 384, 392, 416, 424, 448, 456, 480, 488, 512, 520, 544, 552, 576, 584, 608, 616, 640, 648, 672, 680, 704, 712, 736, 744, 768, 776, 800, 808, 832, 840, 864, 872, 896, 904, 928, 936, 960, 968, 992, 1000]\n"
     ]
    }
   ],
   "source": [
    "kValues = [i for i in range(0, 1002) if binomial(1000, i) % 2 == 1]\n",
    "print(kValues)"
   ]
  }
 ],
 "metadata": {
  "kernelspec": {
   "display_name": "Python 3",
   "language": "python",
   "name": "python3"
  },
  "language_info": {
   "codemirror_mode": {
    "name": "ipython",
    "version": 3
   },
   "file_extension": ".py",
   "mimetype": "text/x-python",
   "name": "python",
   "nbconvert_exporter": "python",
   "pygments_lexer": "ipython3",
   "version": "3.8.5"
  }
 },
 "nbformat": 4,
 "nbformat_minor": 4
}
