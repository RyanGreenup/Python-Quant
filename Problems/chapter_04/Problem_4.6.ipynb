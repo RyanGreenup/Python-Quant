{
 "cells": [
  {
   "cell_type": "markdown",
   "metadata": {},
   "source": [
    "# Problem 4.6"
   ]
  },
  {
   "cell_type": "markdown",
   "metadata": {},
   "source": [
    "Determine all the positive integers $n$ between $3$ and $50$ for which $2^{2008}$ is divisible by\n",
    "$$\n",
    "1 + \\binom{n}{1} + \\binom{n}{2} + \\binom{n}{3}\n",
    "$$"
   ]
  },
  {
   "cell_type": "markdown",
   "metadata": {},
   "source": [
    "First, let's define $p(n) = 1 + \\binom{n}{1} + \\binom{n}{2} + \\binom{n}{3}$"
   ]
  },
  {
   "cell_type": "code",
   "execution_count": 1,
   "metadata": {},
   "outputs": [
    {
     "name": "stdout",
     "output_type": "stream",
     "text": [
      "8\n",
      "15\n",
      "26\n"
     ]
    }
   ],
   "source": [
    "from sympy import *\n",
    "n = symbols('n')\n",
    "\n",
    "p = Lambda(n, 1 + binomial(n, 1) + binomial(n, 2) + binomial(n, 3))\n",
    "\n",
    "print(p(3))\n",
    "print(p(4))\n",
    "print(p(5))"
   ]
  },
  {
   "cell_type": "markdown",
   "metadata": {},
   "source": [
    "From here, we can use list comprehension and a conditional statement to obtain desired output"
   ]
  },
  {
   "cell_type": "code",
   "execution_count": 2,
   "metadata": {},
   "outputs": [
    {
     "name": "stdout",
     "output_type": "stream",
     "text": [
      "[0, 1, 16, 16, 0, 70, 16, 80, 168, 133, 268, 316, 448, 256, 706, 796, 1096, 723, 1092, 1030, 0, 256, 458, 1240, 2704, 2604, 606, 2922, 640, 1664, 2704, 4076, 2824, 1936, 1024, 8336, 256, 7882, 6974, 4192, 4568, 6061, 1076, 6896, 704, 16669, 6856, 16032]\n"
     ]
    }
   ],
   "source": [
    "print([( 2**2008 % f(i) ) for i in range(3, 51)])"
   ]
  }
 ],
 "metadata": {
  "kernelspec": {
   "display_name": "Python 3",
   "language": "python",
   "name": "python3"
  },
  "language_info": {
   "codemirror_mode": {
    "name": "ipython",
    "version": 3
   },
   "file_extension": ".py",
   "mimetype": "text/x-python",
   "name": "python",
   "nbconvert_exporter": "python",
   "pygments_lexer": "ipython3",
   "version": "3.8.5"
  }
 },
 "nbformat": 4,
 "nbformat_minor": 4
}
