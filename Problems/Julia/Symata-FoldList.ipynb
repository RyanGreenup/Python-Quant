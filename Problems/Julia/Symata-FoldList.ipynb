{
 "cells": [
  {
   "cell_type": "markdown",
   "metadata": {},
   "source": [
    "# Using The Symata package in Julia"
   ]
  },
  {
   "cell_type": "markdown",
   "metadata": {},
   "source": [
    "Consider the problem from p. 141 of the TB:\n",
    "\n",
    "$$\n",
    "\\begin{aligned}\n",
    "p\\left( n \\right)= \\frac{1}{1} +  \\frac{1}{1+ 2} +  \\ldots +  \\frac{1}{1 +  2 +  \\ldots +  n}\\end{aligned}\n",
    "$$\n",
    "\n"
   ]
  },
  {
   "cell_type": "markdown",
   "metadata": {},
   "source": [
    "The Symata package can be installed by running `julia` in the terminal and then performing:\n",
    "\n",
    "```julia\n",
    "using Pkg\n",
    "Pkg.add(\"Symata\")\n",
    "```\n",
    "\n",
    "Loading `Symata`:"
   ]
  },
  {
   "cell_type": "code",
   "execution_count": 4,
   "metadata": {
    "tags": [
     "outputPrepend"
    ]
   },
   "outputs": [
    {
     "output_type": "stream",
     "name": "stderr",
     "text": "er = top-level scope at kernel.jl:52\n└ @ Core /home/ryan/.julia/packages/IJulia/DrVMH/src/kernel.jl:52\n┌ Warning: `getindex(o::PyObject, s::Symbol)` is deprecated in favor of dot overloading (`getproperty`) so elements should now be accessed as e.g. `o.s` instead of `o[:s]`.\n│   caller = top-level scope at kernel.jl:52\n└ @ Core /home/ryan/.julia/packages/IJulia/DrVMH/src/kernel.jl:52\n┌ Warning: `getindex(o::PyObject, s::Symbol)` is deprecated in favor of dot overloading (`getproperty`) so elements should now be accessed as e.g. `o.s` instead of `o[:s]`.\n│   caller = top-level scope at kernel.jl:52\n└ @ Core /home/ryan/.julia/packages/IJulia/DrVMH/src/kernel.jl:52\n┌ Warning: `getindex(o::PyObject, s::Symbol)` is deprecated in favor of dot overloading (`getproperty`) so elements should now be accessed as e.g. `o.s` instead of `o[:s]`.\n│   caller = top-level scope at kernel.jl:52\n└ @ Core /home/ryan/.julia/packages/IJulia/DrVMH/src/kernel.jl:52\n┌ Warning: `getindex(o::PyObject, s::Symbol)` is deprecated in favor of dot overloading (`getproperty`) so elements should now be accessed as e.g. `o.s` instead of `o[:s]`.\n│   caller = top-level scope at kernel.jl:52\n└ @ Core /home/ryan/.julia/packages/IJulia/DrVMH/src/kernel.jl:52\n┌ Warning: `getindex(o::PyObject, s::Symbol)` is deprecated in favor of dot overloading (`getproperty`) so elements should now be accessed as e.g. `o.s` instead of `o[:s]`.\n│   caller = top-level scope at kernel.jl:52\n└ @ Core /home/ryan/.julia/packages/IJulia/DrVMH/src/kernel.jl:52\n┌ Warning: `getindex(o::PyObject, s::Symbol)` is deprecated in favor of dot overloading (`getproperty`) so elements should now be accessed as e.g. `o.s` instead of `o[:s]`.\n│   caller = top-level scope at kernel.jl:52\n└ @ Core /home/ryan/.julia/packages/IJulia/DrVMH/src/kernel.jl:52\n┌ Warning: `getindex(o::PyObject, s::Symbol)` is deprecated in favor of dot overloading (`getproperty`) so elements should now be accessed as e.g. `o.s` instead of `o[:s]`.\n│   caller = top-level scope at kernel.jl:52\n└ @ Core /home/ryan/.julia/packages/IJulia/DrVMH/src/kernel.jl:52\n┌ Warning: `getindex(o::PyObject, s::Symbol)` is deprecated in favor of dot overloading (`getproperty`) so elements should now be accessed as e.g. `o.s` instead of `o[:s]`.\n│   caller = top-level scope at kernel.jl:52\n└ @ Core /home/ryan/.julia/packages/IJulia/DrVMH/src/kernel.jl:52\n┌ Warning: `getindex(o::PyObject, s::Symbol)` is deprecated in favor of dot overloading (`getproperty`) so elements should now be accessed as e.g. `o.s` instead of `o[:s]`.\n│   caller = top-level scope at kernel.jl:52\n└ @ Core /home/ryan/.julia/packages/IJulia/DrVMH/src/kernel.jl:52\n┌ Warning: `getindex(o::PyObject, s::Symbol)` is deprecated in favor of dot overloading (`getproperty`) so elements should now be accessed as e.g. `o.s` instead of `o[:s]`.\n│   caller = top-level scope at kernel.jl:52\n└ @ Core /home/ryan/.julia/packages/IJulia/DrVMH/src/kernel.jl:52\n┌ Warning: `getindex(o::PyObject, s::Symbol)` is deprecated in favor of dot overloading (`getproperty`) so elements should now be accessed as e.g. `o.s` instead of `o[:s]`.\n│   caller = top-level scope at kernel.jl:52\n└ @ Core /home/ryan/.julia/packages/IJulia/DrVMH/src/kernel.jl:52\n┌ Warning: `getindex(o::PyObject, s::Symbol)` is deprecated in favor of dot overloading (`getproperty`) so elements should now be accessed as e.g. `o.s` instead of `o[:s]`.\n│   caller = top-level scope at kernel.jl:52\n└ @ Core /home/ryan/.julia/packages/IJulia/DrVMH/src/kernel.jl:52\n┌ Warning: `getindex(o::PyObject, s::Symbol)` is deprecated in favor of dot overloading (`getproperty`) so elements should now be accessed as e.g. `o.s` instead of `o[:s]`.\n│   caller = top-level scope at kernel.jl:52\n└ @ Core /home/ryan/.julia/packages/IJulia/DrVMH/src/kernel.jl:52\n┌ Warning: `getindex(o::PyObject, s::Symbol)` is deprecated in favor of dot overloading (`getproperty`) so elements should now be accessed as e.g. `o.s` instead of `o[:s]`.\n│   caller = top-level scope at kernel.jl:52\n└ @ Core /home/ryan/.julia/packages/IJulia/DrVMH/src/kernel.jl:52\n┌ Warning: `getindex(o::PyObject, s::Symbol)` is deprecated in favor of dot overloading (`getproperty`) so elements should now be accessed as e.g. `o.s` instead of `o[:s]`.\n│   caller = top-level scope at kernel.jl:52\n└ @ Core /home/ryan/.julia/packages/IJulia/DrVMH/src/kernel.jl:52\n┌ Warning: `getindex(o::PyObject, s::Symbol)` is deprecated in favor of dot overloading (`getproperty`) so elements should now be accessed as e.g. `o.s` instead of `o[:s]`.\n│   caller = top-level scope at kernel.jl:52\n└ @ Core /home/ryan/.julia/packages/IJulia/DrVMH/src/kernel.jl:52\n┌ Warning: `getindex(o::PyObject, s::Symbol)` is deprecated in favor of dot overloading (`getproperty`) so elements should now be accessed as e.g. `o.s` instead of `o[:s]`.\n│   caller = top-level scope at kernel.jl:52\n└ @ Core /home/ryan/.julia/packages/IJulia/DrVMH/src/kernel.jl:52\n┌ Warning: `getindex(o::PyObject, s::Symbol)` is deprecated in favor of dot overloading (`getproperty`) so elements should now be accessed as e.g. `o.s` instead of `o[:s]`.\n│   caller = top-level scope at kernel.jl:52\n└ @ Core /home/ryan/.julia/packages/IJulia/DrVMH/src/kernel.jl:52\n┌ Warning: `getindex(o::PyObject, s::Symbol)` is deprecated in favor of dot overloading (`getproperty`) so elements should now be accessed as e.g. `o.s` instead of `o[:s]`.\n│   caller = top-level scope at kernel.jl:52\n└ @ Core /home/ryan/.julia/packages/IJulia/DrVMH/src/kernel.jl:52\n┌ Warning: `getindex(o::PyObject, s::Symbol)` is deprecated in favor of dot overloading (`getproperty`) so elements should now be accessed as e.g. `o.s` instead of `o[:s]`.\n│   caller = top-level scope at kernel.jl:52\n└ @ Core /home/ryan/.julia/packages/IJulia/DrVMH/src/kernel.jl:52\n┌ Warning: `getindex(o::PyObject, s::Symbol)` is deprecated in favor of dot overloading (`getproperty`) so elements should now be accessed as e.g. `o.s` instead of `o[:s]`.\n│   caller = top-level scope at kernel.jl:52\n└ @ Core /home/ryan/.julia/packages/IJulia/DrVMH/src/kernel.jl:52\n┌ Warning: `getindex(o::PyObject, s::Symbol)` is deprecated in favor of dot overloading (`getproperty`) so elements should now be accessed as e.g. `o.s` instead of `o[:s]`.\n│   caller = top-level scope at kernel.jl:52\n└ @ Core /home/ryan/.julia/packages/IJulia/DrVMH/src/kernel.jl:52\n┌ Warning: `getindex(o::PyObject, s::Symbol)` is deprecated in favor of dot overloading (`getproperty`) so elements should now be accessed as e.g. `o.s` instead of `o[:s]`.\n│   caller = top-level scope at kernel.jl:52\n└ @ Core /home/ryan/.julia/packages/IJulia/DrVMH/src/kernel.jl:52\n┌ Warning: `getindex(o::PyObject, s::Symbol)` is deprecated in favor of dot overloading (`getproperty`) so elements should now be accessed as e.g. `o.s` instead of `o[:s]`.\n│   caller = top-level scope at kernel.jl:52\n└ @ Core /home/ryan/.julia/packages/IJulia/DrVMH/src/kernel.jl:52\n┌ Warning: `getindex(o::PyObject, s::Symbol)` is deprecated in favor of dot overloading (`getproperty`) so elements should now be accessed as e.g. `o.s` instead of `o[:s]`.\n│   caller = top-level scope at kernel.jl:52\n└ @ Core /home/ryan/.julia/packages/IJulia/DrVMH/src/kernel.jl:52\n┌ Warning: `getindex(o::PyObject, s::Symbol)` is deprecated in favor of dot overloading (`getproperty`) so elements should now be accessed as e.g. `o.s` instead of `o[:s]`.\n│   caller = top-level scope at kernel.jl:52\n└ @ Core /home/ryan/.julia/packages/IJulia/DrVMH/src/kernel.jl:52\n┌ Warning: `getindex(o::PyObject, s::Symbol)` is deprecated in favor of dot overloading (`getproperty`) so elements should now be accessed as e.g. `o.s` instead of `o[:s]`.\n│   caller = top-level scope at kernel.jl:52\n└ @ Core /home/ryan/.julia/packages/IJulia/DrVMH/src/kernel.jl:52\n┌ Warning: `getindex(o::PyObject, s::Symbol)` is deprecated in favor of dot overloading (`getproperty`) so elements should now be accessed as e.g. `o.s` instead of `o[:s]`.\n│   caller = top-level scope at kernel.jl:52\n└ @ Core /home/ryan/.julia/packages/IJulia/DrVMH/src/kernel.jl:52\n┌ Warning: `getindex(o::PyObject, s::Symbol)` is deprecated in favor of dot overloading (`getproperty`) so elements should now be accessed as e.g. `o.s` instead of `o[:s]`.\n│   caller = top-level scope at kernel.jl:52\n└ @ Core /home/ryan/.julia/packages/IJulia/DrVMH/src/kernel.jl:52\n┌ Warning: `getindex(o::PyObject, s::Symbol)` is deprecated in favor of dot overloading (`getproperty`) so elements should now be accessed as e.g. `o.s` instead of `o[:s]`.\n│   caller = top-level scope at kernel.jl:52\n└ @ Core /home/ryan/.julia/packages/IJulia/DrVMH/src/kernel.jl:52\n┌ Warning: `getindex(o::PyObject, s::Symbol)` is deprecated in favor of dot overloading (`getproperty`) so elements should now be accessed as e.g. `o.s` instead of `o[:s]`.\n│   caller = top-level scope at kernel.jl:52\n└ @ Core /home/ryan/.julia/packages/IJulia/DrVMH/src/kernel.jl:52\n┌ Warning: `getindex(o::PyObject, s::Symbol)` is deprecated in favor of dot overloading (`getproperty`) so elements should now be accessed as e.g. `o.s` instead of `o[:s]`.\n│   caller = top-level scope at kernel.jl:52\n└ @ Core /home/ryan/.julia/packages/IJulia/DrVMH/src/kernel.jl:52\n┌ Warning: `getindex(o::PyObject, s::Symbol)` is deprecated in favor of dot overloading (`getproperty`) so elements should now be accessed as e.g. `o.s` instead of `o[:s]`.\n│   caller = top-level scope at kernel.jl:52\n└ @ Core /home/ryan/.julia/packages/IJulia/DrVMH/src/kernel.jl:52\n┌ Warning: `getindex(o::PyObject, s::Symbol)` is deprecated in favor of dot overloading (`getproperty`) so elements should now be accessed as e.g. `o.s` instead of `o[:s]`.\n│   caller = top-level scope at kernel.jl:52\n└ @ Core /home/ryan/.julia/packages/IJulia/DrVMH/src/kernel.jl:52\n┌ Warning: `getindex(o::PyObject, s::Symbol)` is deprecated in favor of dot overloading (`getproperty`) so elements should now be accessed as e.g. `o.s` instead of `o[:s]`.\n│   caller = top-level scope at kernel.jl:52\n└ @ Core /home/ryan/.julia/packages/IJulia/DrVMH/src/kernel.jl:52\n┌ Warning: `getindex(o::PyObject, s::Symbol)` is deprecated in favor of dot overloading (`getproperty`) so elements should now be accessed as e.g. `o.s` instead of `o[:s]`.\n│   caller = top-level scope at kernel.jl:52\n└ @ Core /home/ryan/.julia/packages/IJulia/DrVMH/src/kernel.jl:52\n┌ Warning: `getindex(o::PyObject, s::Symbol)` is deprecated in favor of dot overloading (`getproperty`) so elements should now be accessed as e.g. `o.s` instead of `o[:s]`.\n│   caller = top-level scope at kernel.jl:52\n└ @ Core /home/ryan/.julia/packages/IJulia/DrVMH/src/kernel.jl:52\n┌ Warning: `getindex(o::PyObject, s::Symbol)` is deprecated in favor of dot overloading (`getproperty`) so elements should now be accessed as e.g. `o.s` instead of `o[:s]`.\n│   caller = top-level scope at kernel.jl:52\n└ @ Core /home/ryan/.julia/packages/IJulia/DrVMH/src/kernel.jl:52\n┌ Warning: `getindex(o::PyObject, s::Symbol)` is deprecated in favor of dot overloading (`getproperty`) so elements should now be accessed as e.g. `o.s` instead of `o[:s]`.\n│   caller = top-level scope at kernel.jl:52\n└ @ Core /home/ryan/.julia/packages/IJulia/DrVMH/src/kernel.jl:52\n┌ Warning: `getindex(o::PyObject, s::Symbol)` is deprecated in favor of dot overloading (`getproperty`) so elements should now be accessed as e.g. `o.s` instead of `o[:s]`.\n│   caller = top-level scope at kernel.jl:52\n└ @ Core /home/ryan/.julia/packages/IJulia/DrVMH/src/kernel.jl:52\n┌ Warning: `getindex(o::PyObject, s::Symbol)` is deprecated in favor of dot overloading (`getproperty`) so elements should now be accessed as e.g. `o.s` instead of `o[:s]`.\n│   caller = top-level scope at kernel.jl:52\n└ @ Core /home/ryan/.julia/packages/IJulia/DrVMH/src/kernel.jl:52\n┌ Warning: `getindex(o::PyObject, s::Symbol)` is deprecated in favor of dot overloading (`getproperty`) so elements should now be accessed as e.g. `o.s` instead of `o[:s]`.\n│   caller = top-level scope at kernel.jl:52\n└ @ Core /home/ryan/.julia/packages/IJulia/DrVMH/src/kernel.jl:52\n┌ Warning: `getindex(o::PyObject, s::Symbol)` is deprecated in favor of dot overloading (`getproperty`) so elements should now be accessed as e.g. `o.s` instead of `o[:s]`.\n│   caller = top-level scope at kernel.jl:52\n└ @ Core /home/ryan/.julia/packages/IJulia/DrVMH/src/kernel.jl:52\n┌ Warning: `getindex(o::PyObject, s::Symbol)` is deprecated in favor of dot overloading (`getproperty`) so elements should now be accessed as e.g. `o.s` instead of `o[:s]`.\n│   caller = top-level scope at kernel.jl:52\n└ @ Core /home/ryan/.julia/packages/IJulia/DrVMH/src/kernel.jl:52\n┌ Warning: `getindex(o::PyObject, s::Symbol)` is deprecated in favor of dot overloading (`getproperty`) so elements should now be accessed as e.g. `o.s` instead of `o[:s]`.\n│   caller = top-level scope at kernel.jl:52\n└ @ Core /home/ryan/.julia/packages/IJulia/DrVMH/src/kernel.jl:52\n┌ Warning: `getindex(o::PyObject, s::Symbol)` is deprecated in favor of dot overloading (`getproperty`) so elements should now be accessed as e.g. `o.s` instead of `o[:s]`.\n│   caller = top-level scope at kernel.jl:52\n└ @ Core /home/ryan/.julia/packages/IJulia/DrVMH/src/kernel.jl:52\n┌ Warning: `getindex(o::PyObject, s::Symbol)` is deprecated in favor of dot overloading (`getproperty`) so elements should now be accessed as e.g. `o.s` instead of `o[:s]`.\n│   caller = top-level scope at kernel.jl:52\n└ @ Core /home/ryan/.julia/packages/IJulia/DrVMH/src/kernel.jl:52\n┌ Warning: `getindex(o::PyObject, s::Symbol)` is deprecated in favor of dot overloading (`getproperty`) so elements should now be accessed as e.g. `o.s` instead of `o[:s]`.\n│   caller = top-level scope at kernel.jl:52\n└ @ Core /home/ryan/.julia/packages/IJulia/DrVMH/src/kernel.jl:52\n┌ Warning: `getindex(o::PyObject, s::Symbol)` is deprecated in favor of dot overloading (`getproperty`) so elements should now be accessed as e.g. `o.s` instead of `o[:s]`.\n│   caller = top-level scope at kernel.jl:52\n└ @ Core /home/ryan/.julia/packages/IJulia/DrVMH/src/kernel.jl:52\n┌ Warning: `getindex(o::PyObject, s::Symbol)` is deprecated in favor of dot overloading (`getproperty`) so elements should now be accessed as e.g. `o.s` instead of `o[:s]`.\n│   caller = top-level scope at kernel.jl:52\n└ @ Core /home/ryan/.julia/packages/IJulia/DrVMH/src/kernel.jl:52\n┌ Warning: `getindex(o::PyObject, s::Symbol)` is deprecated in favor of dot overloading (`getproperty`) so elements should now be accessed as e.g. `o.s` instead of `o[:s]`.\n│   caller = top-level scope at kernel.jl:52\n└ @ Core /home/ryan/.julia/packages/IJulia/DrVMH/src/kernel.jl:52\n┌ Warning: `getindex(o::PyObject, s::Symbol)` is deprecated in favor of dot overloading (`getproperty`) so elements should now be accessed as e.g. `o.s` instead of `o[:s]`.\n│   caller = top-level scope at kernel.jl:52\n└ @ Core /home/ryan/.julia/packages/IJulia/DrVMH/src/kernel.jl:52\n┌ Warning: `getindex(o::PyObject, s::Symbol)` is deprecated in favor of dot overloading (`getproperty`) so elements should now be accessed as e.g. `o.s` instead of `o[:s]`.\n│   caller = top-level scope at kernel.jl:52\n└ @ Core /home/ryan/.julia/packages/IJulia/DrVMH/src/kernel.jl:52\n┌ Warning: `getindex(o::PyObject, s::Symbol)` is deprecated in favor of dot overloading (`getproperty`) so elements should now be accessed as e.g. `o.s` instead of `o[:s]`.\n│   caller = top-level scope at kernel.jl:52\n└ @ Core /home/ryan/.julia/packages/IJulia/DrVMH/src/kernel.jl:52\n┌ Warning: `getindex(o::PyObject, s::Symbol)` is deprecated in favor of dot overloading (`getproperty`) so elements should now be accessed as e.g. `o.s` instead of `o[:s]`.\n│   caller = top-level scope at kernel.jl:52\n└ @ Core /home/ryan/.julia/packages/IJulia/DrVMH/src/kernel.jl:52\n┌ Warning: `getindex(o::PyObject, s::Symbol)` is deprecated in favor of dot overloading (`getproperty`) so elements should now be accessed as e.g. `o.s` instead of `o[:s]`.\n│   caller = top-level scope at kernel.jl:52\n└ @ Core /home/ryan/.julia/packages/IJulia/DrVMH/src/kernel.jl:52\n┌ Warning: `getindex(o::PyObject, s::Symbol)` is deprecated in favor of dot overloading (`getproperty`) so elements should now be accessed as e.g. `o.s` instead of `o[:s]`.\n│   caller = top-level scope at kernel.jl:52\n└ @ Core /home/ryan/.julia/packages/IJulia/DrVMH/src/kernel.jl:52\n┌ Warning: `getindex(o::PyObject, s::Symbol)` is deprecated in favor of dot overloading (`getproperty`) so elements should now be accessed as e.g. `o.s` instead of `o[:s]`.\n│   caller = top-level scope at kernel.jl:52\n└ @ Core /home/ryan/.julia/packages/IJulia/DrVMH/src/kernel.jl:52\n┌ Warning: `getindex(o::PyObject, s::Symbol)` is deprecated in favor of dot overloading (`getproperty`) so elements should now be accessed as e.g. `o.s` instead of `o[:s]`.\n│   caller = top-level scope at kernel.jl:52\n└ @ Core /home/ryan/.julia/packages/IJulia/DrVMH/src/kernel.jl:52\n┌ Warning: `getindex(o::PyObject, s::Symbol)` is deprecated in favor of dot overloading (`getproperty`) so elements should now be accessed as e.g. `o.s` instead of `o[:s]`.\n│   caller = top-level scope at kernel.jl:52\n└ @ Core /home/ryan/.julia/packages/IJulia/DrVMH/src/kernel.jl:52\n┌ Warning: `getindex(o::PyObject, s::Symbol)` is deprecated in favor of dot overloading (`getproperty`) so elements should now be accessed as e.g. `o.s` instead of `o[:s]`.\n│   caller = top-level scope at kernel.jl:52\n└ @ Core /home/ryan/.julia/packages/IJulia/DrVMH/src/kernel.jl:52\n┌ Warning: `getindex(o::PyObject, s::Symbol)` is deprecated in favor of dot overloading (`getproperty`) so elements should now be accessed as e.g. `o.s` instead of `o[:s]`.\n│   caller = top-level scope at kernel.jl:52\n└ @ Core /home/ryan/.julia/packages/IJulia/DrVMH/src/kernel.jl:52\n┌ Warning: `getindex(o::PyObject, s::Symbol)` is deprecated in favor of dot overloading (`getproperty`) so elements should now be accessed as e.g. `o.s` instead of `o[:s]`.\n│   caller = top-level scope at kernel.jl:52\n└ @ Core /home/ryan/.julia/packages/IJulia/DrVMH/src/kernel.jl:52\n┌ Warning: `getindex(o::PyObject, s::Symbol)` is deprecated in favor of dot overloading (`getproperty`) so elements should now be accessed as e.g. `o.s` instead of `o[:s]`.\n│   caller = top-level scope at kernel.jl:52\n└ @ Core /home/ryan/.julia/packages/IJulia/DrVMH/src/kernel.jl:52\n┌ Warning: `getindex(o::PyObject, s::Symbol)` is deprecated in favor of dot overloading (`getproperty`) so elements should now be accessed as e.g. `o.s` instead of `o[:s]`.\n│   caller = init_sympy() at sympy.jl:860\n└ @ Symata /home/ryan/.julia/packages/Symata/1oDeR/src/sympy.jl:860\n┌ Warning: `getindex(o::PyObject, s::Symbol)` is deprecated in favor of dot overloading (`getproperty`) so elements should now be accessed as e.g. `o.s` instead of `o[:s]`.\n│   caller = init_sympy() at sympy.jl:860\n└ @ Symata /home/ryan/.julia/packages/Symata/1oDeR/src/sympy.jl:860\n/usr/lib/python3.8/site-packages/sympy/__init__.py:672: SymPyDeprecationWarning: \n\nimporting sympy.logic.boolalg with 'from sympy import *' has been\ndeprecated since SymPy 1.6. Use import sympy.logic.boolalg instead.\nSee https://github.com/sympy/sympy/issues/18245 for more info.\n\n  self.Warn(\n┌ Warning: `getindex(o::PyObject, s::Symbol)` is deprecated in favor of dot overloading (`getproperty`) so elements should now be accessed as e.g. `o.s` instead of `o[:s]`.\n│   caller = init_sympy() at sympy.jl:861\n└ @ Symata /home/ryan/.julia/packages/Symata/1oDeR/src/sympy.jl:861\n┌ Warning: `getindex(o::PyObject, s::Symbol)` is deprecated in favor of dot overloading (`getproperty`) so elements should now be accessed as e.g. `o.s` instead of `o[:s]`.\n│   caller = init_sympy() at sympy.jl:861\n└ @ Symata /home/ryan/.julia/packages/Symata/1oDeR/src/sympy.jl:861\n┌ Warning: `getindex(o::PyObject, s::AbstractString)` is deprecated in favor of dot overloading (`getproperty`) so elements should now be accessed as e.g. `o.\"s\"` instead of `o[\"s\"]`.\n│   caller = init_isympy() at sympy.jl:872\n└ @ Symata /home/ryan/.julia/packages/Symata/1oDeR/src/sympy.jl:872\n"
    }
   ],
   "source": [
    "IJulia.capture_stderr\n",
    "IJulia.capture_stdout\n",
    "using Symata\n",
    "\n",
    "\n",
    "\n"
   ]
  },
  {
   "cell_type": "code",
   "execution_count": 5,
   "metadata": {},
   "outputs": [
    {
     "output_type": "execute_result",
     "data": {
      "text/plain": "L\"$$ f \\!  \\left( a,b,c,d \\right)  $$\"",
      "text/latex": "$$ f \\!  \\left( a,b,c,d \\right)  $$"
     },
     "metadata": {},
     "execution_count": 5
    }
   ],
   "source": [
    "f(a,b,Splat([c,d]))"
   ]
  },
  {
   "cell_type": "code",
   "execution_count": 6,
   "metadata": {},
   "outputs": [
    {
     "output_type": "execute_result",
     "data": {
      "text/plain": "L\"$$ f \\!  \\left( f \\!  \\left( f \\!  \\left( x,a \\right) ,b \\right) ,c \\right)  $$\"",
      "text/latex": "$$ f \\!  \\left( f \\!  \\left( f \\!  \\left( x,a \\right) ,b \\right) ,c \\right)  $$"
     },
     "metadata": {},
     "execution_count": 6
    }
   ],
   "source": [
    "Fold(f, [x,a,b,c])"
   ]
  },
  {
   "cell_type": "markdown",
   "metadata": {},
   "source": [
    "So Make a List"
   ]
  },
  {
   "cell_type": "code",
   "execution_count": 7,
   "metadata": {
    "tags": []
   },
   "outputs": [
    {
     "output_type": "execute_result",
     "data": {
      "text/plain": "L\"$$  \\left[ 0,a,a + b,a + b + c,a + b + c + d,a + b + c + d + e,a + b + c + d + e + f \\right]  $$\"",
      "text/latex": "$$  \\left[ 0,a,a + b,a + b + c,a + b + c + d,a + b + c + d + e,a + b + c + d + e + f \\right]  $$"
     },
     "metadata": {},
     "execution_count": 7
    }
   ],
   "source": [
    "FoldList(Plus, 0, [a, b, c, d, e, f])"
   ]
  },
  {
   "cell_type": "markdown",
   "metadata": {},
   "source": [
    "Use `Rest` to get rid of the 0:"
   ]
  },
  {
   "cell_type": "code",
   "execution_count": 8,
   "metadata": {},
   "outputs": [
    {
     "output_type": "execute_result",
     "data": {
      "text/plain": "L\"$$  \\left[ a,a + b,a + b + c,a + b + c + d,a + b + c + d + e,a + b + c + d + e + f \\right]  $$\"",
      "text/latex": "$$  \\left[ a,a + b,a + b + c,a + b + c + d,a + b + c + d + e,a + b + c + d + e + f \\right]  $$"
     },
     "metadata": {},
     "execution_count": 8
    }
   ],
   "source": [
    "TheList = Rest(FoldList(Plus, 0, [a, b, c, d, e, f]))"
   ]
  },
  {
   "cell_type": "markdown",
   "metadata": {},
   "source": [
    "Mapping works as you'd expect.\n",
    "\n",
    "Pure Functions are much more sensible than python using the `var -> f(var)` syntax:"
   ]
  },
  {
   "cell_type": "code",
   "execution_count": 9,
   "metadata": {
    "tags": []
   },
   "outputs": [
    {
     "output_type": "execute_result",
     "data": {
      "text/plain": "L\"$$  \\left[ \\frac{1}{2},1 \\right]  $$\"",
      "text/latex": "$$  \\left[ \\frac{1}{2},1 \\right]  $$"
     },
     "metadata": {},
     "execution_count": 9
    }
   ],
   "source": [
    "Map(x -> 1/x, [2, 1])"
   ]
  },
  {
   "cell_type": "markdown",
   "metadata": {},
   "source": [
    "So no using this we can map the inverse over the list"
   ]
  },
  {
   "cell_type": "code",
   "execution_count": 10,
   "metadata": {
    "tags": []
   },
   "outputs": [
    {
     "output_type": "execute_result",
     "data": {
      "text/plain": "L\"$$  \\left[ a^{-1}, \\left( a + b \\right) ^{-1}, \\left( a + b + c \\right) ^{-1}, \\left( a + b + c + d \\right) ^{-1}, \\left( a + b + c + d + e \\right) ^{-1}, \\left( a + b + c + d + e + f \\right) ^{-1} \\right]  $$\"",
      "text/latex": "$$  \\left[ a^{-1}, \\left( a + b \\right) ^{-1}, \\left( a + b + c \\right) ^{-1}, \\left( a + b + c + d \\right) ^{-1}, \\left( a + b + c + d + e \\right) ^{-1}, \\left( a + b + c + d + e + f \\right) ^{-1} \\right]  $$"
     },
     "metadata": {},
     "execution_count": 10
    }
   ],
   "source": [
    "TheList = Map(x -> 1/x, TheList)"
   ]
  },
  {
   "cell_type": "markdown",
   "metadata": {},
   "source": [
    "Now Symata even has `Heads` which suprised me!"
   ]
  },
  {
   "cell_type": "code",
   "execution_count": 11,
   "metadata": {
    "tags": []
   },
   "outputs": [
    {
     "output_type": "execute_result",
     "data": {
      "text/plain": "List(Power(a,-1),Power(Plus(a,b),-1),Power(Plus(a,b,c),-1),Power(Plus(a,b,c,d),-1),Power(Plus(a,b,c,d,e),-1),Power(Plus(a,b,c,d,e,f),-1))"
     },
     "metadata": {},
     "execution_count": 11
    }
   ],
   "source": [
    "FullForm(TheList)"
   ]
  },
  {
   "cell_type": "markdown",
   "metadata": {},
   "source": [
    "The `@@` shorthand is **not** implemented, however the `Apply` function remains the same."
   ]
  },
  {
   "cell_type": "code",
   "execution_count": 12,
   "metadata": {},
   "outputs": [
    {
     "output_type": "execute_result",
     "data": {
      "text/plain": "L\"$$ a^{-1} +  \\left( a + b \\right) ^{-1} +  \\left( a + b + c \\right) ^{-1} +  \\left( a + b + c + d \\right) ^{-1} +  \\left( a + b + c + d + e \\right) ^{-1} +  \\left( a + b + c + d + e + f \\right) ^{-1} $$\"",
      "text/latex": "$$ a^{-1} +  \\left( a + b \\right) ^{-1} +  \\left( a + b + c \\right) ^{-1} +  \\left( a + b + c + d \\right) ^{-1} +  \\left( a + b + c + d + e \\right) ^{-1} +  \\left( a + b + c + d + e + f \\right) ^{-1} $$"
     },
     "metadata": {},
     "execution_count": 12
    }
   ],
   "source": [
    "Apply(Plus, TheList)"
   ]
  }
 ],
 "metadata": {
  "kernelspec": {
   "display_name": "Julia 1.4.2",
   "language": "julia",
   "name": "julia-1.4"
  },
  "language_info": {
   "file_extension": ".jl",
   "mimetype": "application/julia",
   "name": "julia",
   "version": "3.8.3-final"
  }
 },
 "nbformat": 4,
 "nbformat_minor": 4
}