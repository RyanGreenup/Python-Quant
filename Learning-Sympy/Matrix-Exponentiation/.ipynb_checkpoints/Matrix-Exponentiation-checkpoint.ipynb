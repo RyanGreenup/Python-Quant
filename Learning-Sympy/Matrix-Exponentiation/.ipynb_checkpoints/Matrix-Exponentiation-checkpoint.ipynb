{
 "cells": [
  {
   "cell_type": "markdown",
   "metadata": {},
   "source": [
    "<cite data-cite=\"7348706/8F6XZRVL\"></cite># Matrix Exponentiation"
   ]
  },
  {
   "cell_type": "markdown",
   "metadata": {},
   "source": [
    "The Matrix Exponential is somewhat obscure but useful [^1]\n",
    "\n",
    "\n",
    "\n",
    "[^1]: Park, Laurence A. F., and Simeon Simoff. “Power Walk: Revisiting the Random Surfer.” In Proceedings of the 18th Australasian Document Computing Symposium, 50–57. ADCS ’13. Brisbane, Queensland, Australia: Association for Computing Machinery, 2013. https://doi.org/10.1145/2537734.2537749.\n",
    "\n",
    "<html>\n",
    "<div class=\"csl-bib-body\" style=\"line-height: 1.35; margin-left: 2em; text-indent:-2em;\">\n",
    "  <div class=\"csl-entry\">Park, Laurence A. F., and Simeon Simoff. “Power Walk: Revisiting the Random Surfer.” In <i>Proceedings of the 18th Australasian Document Computing Symposium</i>, 50–57. ADCS ’13. Brisbane, Queensland, Australia: Association for Computing Machinery, 2013. <a href=\"https://doi.org/10.1145/2537734.2537749\">https://doi.org/10.1145/2537734.2537749</a>.</div>\n",
    "  <span class=\"Z3988\" title=\"url_ver=Z39.88-2004&amp;ctx_ver=Z39.88-2004&amp;rfr_id=info%3Asid%2Fzotero.org%3A2&amp;rft_id=info%3Adoi%2F10.1145%2F2537734.2537749&amp;rft_id=urn%3Aisbn%3A978-1-4503-2524-0&amp;rft_val_fmt=info%3Aofi%2Ffmt%3Akev%3Amtx%3Abook&amp;rft.genre=proceeding&amp;rft.atitle=Power%20walk%3A%20revisiting%20the%20random%20surfer&amp;rft.btitle=Proceedings%20of%20the%2018th%20Australasian%20Document%20Computing%20Symposium&amp;rft.place=Brisbane%2C%20Queensland%2C%20Australia&amp;rft.publisher=Association%20for%20Computing%20Machinery&amp;rft.series=ADCS%20'13&amp;rft.aufirst=Laurence%20A.%20F.&amp;rft.aulast=Park&amp;rft.au=Laurence%20A.%20F.%20Park&amp;rft.au=Simeon%20Simoff&amp;rft.date=2013-12-05&amp;rft.pages=50%E2%80%9357&amp;rft.spage=50&amp;rft.epage=57&amp;rft.isbn=978-1-4503-2524-0\"></span>\n",
    "</div></body>\n",
    "</html>\n"
   ]
  }
 ],
 "metadata": {
  "cite2c": {
   "citations": {
    "7348706/8F6XZRVL": {
     "DOI": "10.1145/2537734.2537749",
     "ISBN": "978-1-4503-2524-0",
     "URL": "http://doi.org/10.1145/2537734.2537749",
     "abstract": "Measurement of graph centrality provides us with an indication of the importance or popularity of each vertex in a graph. When dealing with graphs that are not centrally controlled (such as the Web, social networks and academic citation graphs), centrality measure must 1) correlate with vertex importance/popularity, 2) scale well in terms of computation, and 3) be difficult to manipulate by individuals. The Random Surfer probability transition model, combined with Eigenvalue Centrality produced PageRank, which has shown to satisfy the required properties. Existing centrality measures (including PageRank) make the assumption that all directed edges are positive, implying an endorsement. Recent work on sentiment analysis has shown that this assumption is not valid. In this article, we introduce a new method of transitioning a graph, called Power Walk, that can successfully compute centrality scores for graphs with real weighted edges. We show that it satisfies the desired properties, and that its computation time and centrality ranking is similar to when using the Random Surfer model for non-negative matrices. Finally, stability and convergence analysis shows us that both stability and convergence when using the power method, are dependent on the Power Walk parameter β.",
     "accessed": {
      "date-parts": [
       [
        2020,
        7,
        31
       ]
      ]
     },
     "author": [
      {
       "family": "Park",
       "given": "Laurence A. F."
      },
      {
       "family": "Simoff",
       "given": "Simeon"
      }
     ],
     "collection-title": "ADCS '13",
     "container-title": "Proceedings of the 18th Australasian Document Computing Symposium",
     "event-place": "Brisbane, Queensland, Australia",
     "issued": {
      "date-parts": [
       [
        "2013",
        12,
        5
       ]
      ]
     },
     "page": "50–57",
     "publisher": "Association for Computing Machinery",
     "publisher-place": "Brisbane, Queensland, Australia",
     "shortTitle": "Power walk",
     "title": "Power walk: revisiting the random surfer",
     "type": "paper-conference"
    },
    "undefined": {
     "DOI": "10.1145/2537734.2537749",
     "ISBN": "978-1-4503-2524-0",
     "URL": "http://doi.org/10.1145/2537734.2537749",
     "abstract": "Measurement of graph centrality provides us with an indication of the importance or popularity of each vertex in a graph. When dealing with graphs that are not centrally controlled (such as the Web, social networks and academic citation graphs), centrality measure must 1) correlate with vertex importance/popularity, 2) scale well in terms of computation, and 3) be difficult to manipulate by individuals. The Random Surfer probability transition model, combined with Eigenvalue Centrality produced PageRank, which has shown to satisfy the required properties. Existing centrality measures (including PageRank) make the assumption that all directed edges are positive, implying an endorsement. Recent work on sentiment analysis has shown that this assumption is not valid. In this article, we introduce a new method of transitioning a graph, called Power Walk, that can successfully compute centrality scores for graphs with real weighted edges. We show that it satisfies the desired properties, and that its computation time and centrality ranking is similar to when using the Random Surfer model for non-negative matrices. Finally, stability and convergence analysis shows us that both stability and convergence when using the power method, are dependent on the Power Walk parameter β.",
     "accessed": {
      "date-parts": [
       [
        2020,
        7,
        31
       ]
      ]
     },
     "author": [
      {
       "family": "Park",
       "given": "Laurence A. F."
      },
      {
       "family": "Simoff",
       "given": "Simeon"
      }
     ],
     "collection-title": "ADCS '13",
     "container-title": "Proceedings of the 18th Australasian Document Computing Symposium",
     "event-place": "Brisbane, Queensland, Australia",
     "issued": {
      "date-parts": [
       [
        "2013",
        12,
        5
       ]
      ]
     },
     "page": "50–57",
     "publisher": "Association for Computing Machinery",
     "publisher-place": "Brisbane, Queensland, Australia",
     "shortTitle": "Power walk",
     "title": "Power walk: revisiting the random surfer",
     "type": "paper-conference"
    }
   }
  },
  "kernelspec": {
   "display_name": "Python 3",
   "language": "python",
   "name": "python3"
  },
  "language_info": {
   "codemirror_mode": {
    "name": "ipython",
    "version": 3
   },
   "file_extension": ".py",
   "mimetype": "text/x-python",
   "name": "python",
   "nbconvert_exporter": "python",
   "pygments_lexer": "ipython3",
   "version": "3.8.5"
  }
 },
 "nbformat": 4,
 "nbformat_minor": 2
}
