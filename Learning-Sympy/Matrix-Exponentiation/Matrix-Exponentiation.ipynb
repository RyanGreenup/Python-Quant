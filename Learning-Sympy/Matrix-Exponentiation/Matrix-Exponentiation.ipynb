{
 "cells": [
  {
   "cell_type": "markdown",
   "metadata": {},
   "source": [
    "# Matrix Exponentiation"
   ]
  },
  {
   "cell_type": "markdown",
   "metadata": {},
   "source": [
    "The Matrix Exponential is implemented in areas of:\n",
    "\n",
    "- Graph Centrality modelling [^1]\n",
    "- Systems of Linear Differential Equations [^2]\n",
    "- Theory of Algebraic Lie Groups [^3]\n",
    "\n",
    "However the method recommended [by the docs](https://docs.sympy.org/latest/modules/matrices/matrices.html) is not implemented very well, for example the following returns a very long result:\n",
    "\n",
    "\n",
    "[^1]: <html>\n",
    "<div class=\"csl-bib-body\" style=\"line-height: 1.35; margin-left: 2em; text-indent:-2em;\">\n",
    "  <div class=\"csl-entry\">Park, Laurence A. F., and Simeon Simoff. “Power Walk: Revisiting the Random Surfer.” In <i>Proceedings of the 18th Australasian Document Computing Symposium</i>, 50–57. ADCS ’13. Brisbane, Queensland, Australia: Association for Computing Machinery, 2013. <a href=\"https://doi.org/10.1145/2537734.2537749\">https://doi.org/10.1145/2537734.2537749</a>.</div>\n",
    "  <span class=\"Z3988\" title=\"url_ver=Z39.88-2004&amp;ctx_ver=Z39.88-2004&amp;rfr_id=info%3Asid%2Fzotero.org%3A2&amp;rft_id=info%3Adoi%2F10.1145%2F2537734.2537749&amp;rft_id=urn%3Aisbn%3A978-1-4503-2524-0&amp;rft_val_fmt=info%3Aofi%2Ffmt%3Akev%3Amtx%3Abook&amp;rft.genre=proceeding&amp;rft.atitle=Power%20walk%3A%20revisiting%20the%20random%20surfer&amp;rft.btitle=Proceedings%20of%20the%2018th%20Australasian%20Document%20Computing%20Symposium&amp;rft.place=Brisbane%2C%20Queensland%2C%20Australia&amp;rft.publisher=Association%20for%20Computing%20Machinery&amp;rft.series=ADCS%20'13&amp;rft.aufirst=Laurence%20A.%20F.&amp;rft.aulast=Park&amp;rft.au=Laurence%20A.%20F.%20Park&amp;rft.au=Simeon%20Simoff&amp;rft.date=2013-12-05&amp;rft.pages=50%E2%80%9357&amp;rft.spage=50&amp;rft.epage=57&amp;rft.isbn=978-1-4503-2524-0\"></span>\n",
    "</div></body>\n",
    "</html>\n",
    "\n",
    "[^2]: Zill, Dennis G., and Michael R. Cullen. “8.4 Matrix Exponential.” In *Differential Equations with Boundary-Value Problems*, 7th ed. Belmont, CA: Brooks/Cole, Cengage Learning, 2009.\n",
    "\n",
    "[^3]: Hall, Brian C. Lie Groups, Lie Algebras, and Representations: An Elementary Introduction. Second edition. Graduate Texts in Mathematics 222. Cham ; New York: Springer, 2015.\n",
    "\n"
   ]
  },
  {
   "cell_type": "code",
   "execution_count": 7,
   "metadata": {},
   "outputs": [],
   "source": [
    "from __future__ import division\n",
    "from sympy import *\n",
    "x, y, z, t = symbols('x y z t')\n",
    "k, m, n = symbols('k m n', integer=True)\n",
    "f, g, h = symbols('f g h', cls=Function)\n",
    "init_printing()\n",
    "init_printing(use_latex='mathjax', latex_mode='equation')\n",
    "\n",
    "\n",
    "import pyperclip\n",
    "def lx(expr):\n",
    "    pyperclip.copy(latex(expr))\n",
    "    print(expr)"
   ]
  },
  {
   "cell_type": "code",
   "execution_count": 8,
   "metadata": {},
   "outputs": [
    {
     "output_type": "execute_result",
     "data": {
      "text/plain": "                               \n                                                                              \n                                                                              \n                                                ⎛                             \n                                                ⎜                             \n                                                ⎜                             \n                                                ⎜                             \n                                                ⎜                        ⎛    \n                                                ⎜                     12⋅⎜- ──\n                                                ⎜       13               ⎝  -2\n                                              2⋅⎜- ─────────── + ─────────────\n                                                ⎜  -22 + √1149                \n                                                ⎜                (-22 + √1149)\n                                                ⎝                             \n                                              ────────────────────────────────\n                                                                              \n                                                                              \n                                                                              \n                                                                              \n                                                                              \n                                                                              \n                                                                              \n                                                                              \n                                                                              \n                                                                              \n                                                                              \n                                                                              \n                                                                              \n                                                                        -√1149\n                                                                       ℯ      \n                                                                     ─────────\n                                                                     33⋅√1149 \n                                                                     ──────── \n                                                                       2303   \n                                                                              \n\n                                                             ⎛        ⎛      2\n                                                             ⎜     12⋅⎜- ─────\n                                                             ⎜        ⎝  -√114\n                                                             ⎜────────────────\n                                 ⎛      273         ⎞        ⎜              ⎛ \n                              12⋅⎜- ─────────── + 23⎟        ⎜(-√1149 - 22)⋅⎜-\n9 + 33          13               ⎝  -22 + √1149     ⎠        ⎝              ⎝ \n         - ─────────── + ───────────────────────────────── - ─────────────────\n           -22 + √1149                 ⎛  1837   59⋅√1149⎞                    \n                         (-22 + √1149)⋅⎜- ──── + ────────⎟                    \n                                       ⎝   95       95   ⎠                    \n────── - ─────────────────────────────────────────────────────────────────────\n                                                                              \n                                                                              \n                                                                              \n                                                                              \n                                                                              \n                                                                              \n                                                                              \n                                                                              \n                                                                              \n                       ⎛        ⎛      273         ⎞                   ⎞ ⎛    \n                       ⎜     12⋅⎜- ─────────── + 23⎟                   ⎟ ⎜    \n                       ⎜        ⎝  -√1149 - 22     ⎠             13    ⎟ ⎜    \n                       ⎜───────────────────────────────── - ───────────⎟⋅⎜- ──\n  273         ⎞        ⎜              ⎛  59⋅√1149   1837⎞   -√1149 - 22⎟ ⎜  -2\n───────── + 23⎟        ⎜(-√1149 - 22)⋅⎜- ──────── - ────⎟              ⎟ ⎜    \n2 + √1149     ⎠        ⎝              ⎝     95       95 ⎠              ⎠ ⎝    \n──────────────────── - ───────────────────────────────────────────────────────\n ⎛  1837   59⋅√1149⎞                                                          \n⋅⎜- ──── + ────────⎟                                                         -\n ⎝   95       95   ⎠                                                          \n──────────────────────────────────────────────────────────────────────────────\n                                                 33⋅√1149   5745              \n                                                 ──────── + ────              \n                                                   2303     2303              \n                                                                              \n                                                             ⎛        ⎛      2\n                                                             ⎜     12⋅⎜- ─────\n                                                             ⎜        ⎝  -√114\n                                                             ⎜────────────────\n                                 ⎛      273         ⎞        ⎜              ⎛ \n                              12⋅⎜- ─────────── + 23⎟        ⎜(-√1149 - 22)⋅⎜-\n                13               ⎝  -22 + √1149     ⎠        ⎝              ⎝ \n         - ─────────── + ───────────────────────────────── - ─────────────────\n           -22 + √1149                 ⎛  1837   59⋅√1149⎞                    \n + 33                    (-22 + √1149)⋅⎜- ──── + ────────⎟                    \n                                       ⎝   95       95   ⎠                    \n────── - ─────────────────────────────────────────────────────────────────────\n  5745                                                                        \n+ ────                                                                        \n  2303                                                                        \n                                                                              \n\n73         ⎞                   ⎞ ⎛                      273                   \n────── + 23⎟                   ⎟ ⎜                - ─────────── + 23        24\n9 - 22     ⎠             13    ⎟ ⎜       26         -22 + √1149               \n───────────────── - ───────────⎟⋅⎜- ─────────── - ────────────────── + ───────\n 59⋅√1149   1837⎞   -√1149 - 22⎟ ⎜  -22 + √1149     1837   59⋅√1149           \n ──────── - ────⎟              ⎟ ⎜                - ──── + ────────    (-22 + \n    95       95 ⎠              ⎠ ⎝                   95       95              \n──────────────────────────────────────────────────────────────────────────────\n                                       33   5⋅√1149                           \n                                     - ── + ───────                           \n                                       94      94                             \n──────────────────────────────────────────────────────────────────────────────\n          33⋅√1149   5745                                                     \n          ──────── + ────                                                     \n            2303     2303                                                     \n                                                                              \n                                                                              \n                                                                              \n                                                                              \n                                                                              \n                                                                              \n                  273                    ⎛      273         ⎞     ⎞⎞          \n            - ─────────── + 23        24⋅⎜- ─────────── + 23⎟     ⎟⎟          \n   26         -22 + √1149                ⎝  -22 + √1149     ⎠     ⎟⎟          \n───────── - ────────────────── + ─────────────────────────────────⎟⎟          \n2 + √1149     1837   59⋅√1149                  ⎛  1837   59⋅√1149⎞⎟⎟          \n            - ──── + ────────    (-22 + √1149)⋅⎜- ──── + ────────⎟⎟⎟          \n               95       95                     ⎝   95       95   ⎠⎠⎟          \n───────────────────────────────────────────────────────────────────⎟          \n 33   5⋅√1149                                                      ⎟     ⎛    \n ── + ───────                                                      ⎟     ⎜- ──\n 94      94                                                        ⎠     ⎝  -2\n──────────────────────────────────────────────────────────────────── - ───────\n                                                                       ⎛  1837\n                                                                       ⎜- ────\n                                                                       ⎝   95 \n                                                                              \n73         ⎞                   ⎞ ⎛                      273                   \n────── + 23⎟                   ⎟ ⎜                - ─────────── + 23        24\n9 - 22     ⎠             13    ⎟ ⎜       26         -22 + √1149               \n───────────────── - ───────────⎟⋅⎜- ─────────── - ────────────────── + ───────\n 59⋅√1149   1837⎞   -√1149 - 22⎟ ⎜  -22 + √1149     1837   59⋅√1149           \n ──────── - ────⎟              ⎟ ⎜                - ──── + ────────    (-22 + \n    95       95 ⎠              ⎠ ⎝                   95       95              \n──────────────────────────────────────────────────────────────────────────────\n                                       33   5⋅√1149                           \n                                     - ── + ───────                           \n                                       94      94                             \n──────────────────────────────────────────────────────────────────────────────\n          33⋅√1149   5745                                                     \n          ──────── + ────                                                     \n            2303     2303                                                     \n                                                                              \n\n ⎛      273         ⎞     ⎞                                                   \n⋅⎜- ─────────── + 23⎟     ⎟                                                   \n ⎝  -22 + √1149     ⎠     ⎟                                                   \n──────────────────────────⎟                                                   \n       ⎛  1837   59⋅√1149⎞⎟   ⎛        ⎛      273         ⎞                   \n√1149)⋅⎜- ──── + ────────⎟⎟   ⎜     12⋅⎜- ─────────── + 23⎟                   \n       ⎝   95       95   ⎠⎠   ⎜        ⎝  -√1149 - 22     ⎠             13    \n───────────────────────────   ⎜───────────────────────────────── - ───────────\n                              ⎜              ⎛  59⋅√1149   1837⎞   -√1149 - 22\n                              ⎜(-√1149 - 22)⋅⎜- ──────── - ────⎟              \n                              ⎝              ⎝     95       95 ⎠              \n─────────────────────────── - ────────────────────────────────────────────────\n                                                                              \n                                                                              \n                                                                              \n                                                                              \n                                                                              \n                                                                              \n                                                                              \n                                                                              \n                                                                              \n                                                                              \n                                                                              \n                                                                              \n                                                                              \n                                                      ⎛                      2\n                                                      ⎜                - ─────\n                                 ⎛      273         ⎞ ⎜       26         -22 +\n                                 ⎜- ─────────── + 23⎟⋅⎜- ─────────── - ───────\n  273         ⎞  -√1149 + 33     ⎝  -√1149 - 22     ⎠ ⎜  -22 + √1149     1837 \n───────── + 23⎟⋅ℯ                                     ⎜                - ──── \n2 + √1149     ⎠                                       ⎝                   95  \n────────────────────────────── + ─────────────────────────────────────────────\n   59⋅√1149⎞ ⎛33⋅√1149   5745⎞                             ⎛  33   5⋅√1149⎞ ⎛ \n + ────────⎟⋅⎜──────── + ────⎟                             ⎜- ── + ───────⎟⋅⎜-\n      95   ⎠ ⎝  2303     2303⎠                             ⎝  94      94  ⎠ ⎝ \n                                                                              \n ⎛      273         ⎞     ⎞                                                   \n⋅⎜- ─────────── + 23⎟     ⎟                                                   \n ⎝  -22 + √1149     ⎠     ⎟                                                   \n──────────────────────────⎟                                                   \n       ⎛  1837   59⋅√1149⎞⎟   ⎛                      273                    ⎛ \n√1149)⋅⎜- ──── + ────────⎟⎟   ⎜                - ─────────── + 23        24⋅⎜-\n       ⎝   95       95   ⎠⎠   ⎜       26         -22 + √1149                ⎝ \n───────────────────────────   ⎜- ─────────── - ────────────────── + ──────────\n                              ⎜  -22 + √1149     1837   59⋅√1149              \n                              ⎜                - ──── + ────────    (-22 + √11\n                              ⎝                   95       95                 \n─────────────────────────── - ────────────────────────────────────────────────\n                                                       ⎛  33   5⋅√1149⎞ ⎛33⋅√1\n                                                       ⎜- ── + ───────⎟⋅⎜─────\n                                                       ⎝  94      94  ⎠ ⎝  230\n                                                                              \n\n                                                                              \n                                                                              \n                                                                              \n                                                                              \n⎞ ⎛                      273                    ⎛      273         ⎞     ⎞    \n⎟ ⎜                - ─────────── + 23        24⋅⎜- ─────────── + 23⎟     ⎟    \n⎟ ⎜       26         -22 + √1149                ⎝  -22 + √1149     ⎠     ⎟  33\n⎟⋅⎜- ─────────── - ────────────────── + ─────────────────────────────────⎟⋅ℯ  \n⎟ ⎜  -22 + √1149     1837   59⋅√1149                  ⎛  1837   59⋅√1149⎞⎟    \n⎟ ⎜                - ──── + ────────    (-22 + √1149)⋅⎜- ──── + ────────⎟⎟    \n⎠ ⎝                   95       95                     ⎝   95       95   ⎠⎠    \n──────────────────────────────────────────────────────────────────────────────\n  ⎛  33   5⋅√1149⎞ ⎛33⋅√1149   5745⎞                                          \n  ⎜- ── + ───────⎟⋅⎜──────── + ────⎟                                          \n  ⎝  94      94  ⎠ ⎝  2303     2303⎠                                          \n                                                                              \n                                                                              \n                                                                              \n                                                                              \n                                                                              \n                                                                              \n                                                                              \n                                                                              \n                                                                              \n                                                                              \n73                    ⎛      273         ⎞     ⎞                              \n────── + 23        24⋅⎜- ─────────── + 23⎟     ⎟                              \n √1149                ⎝  -22 + √1149     ⎠     ⎟  33 + √1149                  \n─────────── + ─────────────────────────────────⎟⋅ℯ                            \n  59⋅√1149                  ⎛  1837   59⋅√1149⎞⎟                              \n+ ────────    (-22 + √1149)⋅⎜- ──── + ────────⎟⎟                              \n     95                     ⎝   95       95   ⎠⎠                              \n────────────────────────────────────────────────────────────                  \n 59⋅√1149   1837⎞ ⎛33⋅√1149   5745⎞                                           \n ──────── - ────⎟⋅⎜──────── + ────⎟                                           \n    95       95 ⎠ ⎝  2303     2303⎠                                           \n                                                                              \n                                                                              \n                                                                              \n                                                                              \n                                                                              \n     273         ⎞     ⎞                                                      \n ─────────── + 23⎟     ⎟                                                      \n -22 + √1149     ⎠     ⎟  33 + √1149                                          \n───────────────────────⎟⋅ℯ                                                    \n    ⎛  1837   59⋅√1149⎞⎟                                                      \n49)⋅⎜- ──── + ────────⎟⎟                                                      \n    ⎝   95       95   ⎠⎠                                                      \n────────────────────────────────────                                          \n149   5745⎞                                                                   \n─── + ────⎟                                                                   \n3     2303⎠                                                                   \n                                                                              \n\n        ⎤\n        ⎥\n        ⎥\n        ⎥\n        ⎥\n        ⎥\n + √1149⎥\n        ⎥\n        ⎥\n        ⎥\n        ⎥\n────────⎥\n        ⎥\n        ⎥\n        ⎥\n        ⎥\n        ⎥\n        ⎥\n        ⎥\n        ⎥\n        ⎥\n        ⎥\n        ⎥\n        ⎥\n        ⎥\n        ⎥\n        ⎥\n        ⎥\n        ⎥\n        ⎥\n        ⎥\n        ⎥\n        ⎥\n        ⎥\n        ⎥\n        ⎥\n        ⎥\n        ⎥\n        ⎥\n        ⎥\n        ⎥\n        ⎥\n        ⎥\n        ⎥\n        ⎥\n        ⎥\n        ⎥\n        ⎥\n        ⎥\n        ⎥\n        ⎥\n        ⎥\n        ⎦",
      "text/latex": "$$\\left[\\begin{matrix}- \\frac{1}{- \\frac{33}{94} + \\frac{5 \\sqrt{1149}}{94}} \\left(\\frac{- \\frac{6552}{- \\sqrt{1149} - 22} + 552}{\\left(- \\sqrt{1149} - 22\\right) \\left(- \\frac{59 \\sqrt{1149}}{95} - \\frac{1837}{95}\\right)} - \\frac{26}{- \\sqrt{1149} - 22}\\right) - \\frac{1}{\\frac{33 \\sqrt{1149}}{2303} + \\frac{5745}{2303}} \\left(-1 - \\frac{1}{- \\frac{33}{94} + \\frac{5 \\sqrt{1149}}{94}} \\left(\\frac{26}{- \\sqrt{1149} - 22} - \\frac{- \\frac{6552}{- \\sqrt{1149} - 22} + 552}{\\left(- \\sqrt{1149} - 22\\right) \\left(- \\frac{59 \\sqrt{1149}}{95} - \\frac{1837}{95}\\right)} + 2\\right)\\right) \\left(- \\frac{13}{-22 + \\sqrt{1149}} + \\frac{- \\frac{3276}{-22 + \\sqrt{1149}} + 276}{\\left(-22 + \\sqrt{1149}\\right) \\left(- \\frac{1837}{95} + \\frac{59 \\sqrt{1149}}{95}\\right)} - \\frac{1}{- \\frac{33}{94} + \\frac{5 \\sqrt{1149}}{94}} \\left(\\frac{- \\frac{3276}{- \\sqrt{1149} - 22} + 276}{\\left(- \\sqrt{1149} - 22\\right) \\left(- \\frac{59 \\sqrt{1149}}{95} - \\frac{1837}{95}\\right)} - \\frac{13}{- \\sqrt{1149} - 22}\\right) \\left(- \\frac{26}{-22 + \\sqrt{1149}} - \\frac{- \\frac{273}{-22 + \\sqrt{1149}} + 23}{- \\frac{1837}{95} + \\frac{59 \\sqrt{1149}}{95}} + \\frac{- \\frac{6552}{-22 + \\sqrt{1149}} + 552}{\\left(-22 + \\sqrt{1149}\\right) \\left(- \\frac{1837}{95} + \\frac{59 \\sqrt{1149}}{95}\\right)}\\right)\\right) + \\frac{1}{\\left(\\frac{33 \\sqrt{1149}}{2303} + \\frac{5745}{2303}\\right) e^{-33 + \\sqrt{1149}}} \\left(-1 - \\frac{1}{- \\frac{33}{94} + \\frac{5 \\sqrt{1149}}{94}} \\left(\\frac{26}{- \\sqrt{1149} - 22} - \\frac{- \\frac{6552}{- \\sqrt{1149} - 22} + 552}{\\left(- \\sqrt{1149} - 22\\right) \\left(- \\frac{59 \\sqrt{1149}}{95} - \\frac{1837}{95}\\right)} + 2\\right)\\right) \\left(- \\frac{13}{-22 + \\sqrt{1149}} + \\frac{- \\frac{3276}{-22 + \\sqrt{1149}} + 276}{\\left(-22 + \\sqrt{1149}\\right) \\left(- \\frac{1837}{95} + \\frac{59 \\sqrt{1149}}{95}\\right)}\\right) + 1 + \\left(\\frac{- \\frac{3276}{- \\sqrt{1149} - 22} + 276}{\\left(- \\sqrt{1149} - 22\\right) \\left(- \\frac{59 \\sqrt{1149}}{95} - \\frac{1837}{95}\\right)} - \\frac{13}{- \\sqrt{1149} - 22}\\right) \\left(- \\frac{1}{\\left(- \\frac{33}{94} + \\frac{5 \\sqrt{1149}}{94}\\right) \\left(\\frac{33 \\sqrt{1149}}{2303} + \\frac{5745}{2303}\\right)} \\left(-1 - \\frac{1}{- \\frac{33}{94} + \\frac{5 \\sqrt{1149}}{94}} \\left(\\frac{26}{- \\sqrt{1149} - 22} - \\frac{- \\frac{6552}{- \\sqrt{1149} - 22} + 552}{\\left(- \\sqrt{1149} - 22\\right) \\left(- \\frac{59 \\sqrt{1149}}{95} - \\frac{1837}{95}\\right)} + 2\\right)\\right) \\left(- \\frac{26}{-22 + \\sqrt{1149}} - \\frac{- \\frac{273}{-22 + \\sqrt{1149}} + 23}{- \\frac{1837}{95} + \\frac{59 \\sqrt{1149}}{95}} + \\frac{- \\frac{6552}{-22 + \\sqrt{1149}} + 552}{\\left(-22 + \\sqrt{1149}\\right) \\left(- \\frac{1837}{95} + \\frac{59 \\sqrt{1149}}{95}\\right)}\\right) + \\frac{2}{- \\frac{33}{94} + \\frac{5 \\sqrt{1149}}{94}}\\right) e^{33 + \\sqrt{1149}} & - \\frac{1}{- \\frac{33}{94} + \\frac{5 \\sqrt{1149}}{94}} \\left(\\frac{- \\frac{3276}{- \\sqrt{1149} - 22} + 276}{\\left(- \\sqrt{1149} - 22\\right) \\left(- \\frac{59 \\sqrt{1149}}{95} - \\frac{1837}{95}\\right)} - \\frac{13}{- \\sqrt{1149} - 22}\\right) + \\frac{1}{\\left(- \\frac{33}{94} + \\frac{5 \\sqrt{1149}}{94}\\right) \\left(\\frac{33 \\sqrt{1149}}{2303} + \\frac{5745}{2303}\\right)} \\left(- \\frac{13}{-22 + \\sqrt{1149}} + \\frac{- \\frac{3276}{-22 + \\sqrt{1149}} + 276}{\\left(-22 + \\sqrt{1149}\\right) \\left(- \\frac{1837}{95} + \\frac{59 \\sqrt{1149}}{95}\\right)} - \\frac{1}{- \\frac{33}{94} + \\frac{5 \\sqrt{1149}}{94}} \\left(\\frac{- \\frac{3276}{- \\sqrt{1149} - 22} + 276}{\\left(- \\sqrt{1149} - 22\\right) \\left(- \\frac{59 \\sqrt{1149}}{95} - \\frac{1837}{95}\\right)} - \\frac{13}{- \\sqrt{1149} - 22}\\right) \\left(- \\frac{26}{-22 + \\sqrt{1149}} - \\frac{- \\frac{273}{-22 + \\sqrt{1149}} + 23}{- \\frac{1837}{95} + \\frac{59 \\sqrt{1149}}{95}} + \\frac{- \\frac{6552}{-22 + \\sqrt{1149}} + 552}{\\left(-22 + \\sqrt{1149}\\right) \\left(- \\frac{1837}{95} + \\frac{59 \\sqrt{1149}}{95}\\right)}\\right)\\right) \\left(\\frac{13}{- \\sqrt{1149} - 22} - \\frac{- \\frac{3276}{- \\sqrt{1149} - 22} + 276}{\\left(- \\sqrt{1149} - 22\\right) \\left(- \\frac{59 \\sqrt{1149}}{95} - \\frac{1837}{95}\\right)} + 1\\right) - \\frac{1}{\\left(- \\frac{33}{94} + \\frac{5 \\sqrt{1149}}{94}\\right) \\left(\\frac{33 \\sqrt{1149}}{2303} + \\frac{5745}{2303}\\right) e^{-33 + \\sqrt{1149}}} \\left(- \\frac{13}{-22 + \\sqrt{1149}} + \\frac{- \\frac{3276}{-22 + \\sqrt{1149}} + 276}{\\left(-22 + \\sqrt{1149}\\right) \\left(- \\frac{1837}{95} + \\frac{59 \\sqrt{1149}}{95}\\right)}\\right) \\left(\\frac{13}{- \\sqrt{1149} - 22} - \\frac{- \\frac{3276}{- \\sqrt{1149} - 22} + 276}{\\left(- \\sqrt{1149} - 22\\right) \\left(- \\frac{59 \\sqrt{1149}}{95} - \\frac{1837}{95}\\right)} + 1\\right) + \\left(\\frac{- \\frac{3276}{- \\sqrt{1149} - 22} + 276}{\\left(- \\sqrt{1149} - 22\\right) \\left(- \\frac{59 \\sqrt{1149}}{95} - \\frac{1837}{95}\\right)} - \\frac{13}{- \\sqrt{1149} - 22}\\right) \\left(\\frac{1}{\\left(- \\frac{33}{94} + \\frac{5 \\sqrt{1149}}{94}\\right)^{2} \\left(\\frac{33 \\sqrt{1149}}{2303} + \\frac{5745}{2303}\\right)} \\left(- \\frac{26}{-22 + \\sqrt{1149}} - \\frac{- \\frac{273}{-22 + \\sqrt{1149}} + 23}{- \\frac{1837}{95} + \\frac{59 \\sqrt{1149}}{95}} + \\frac{- \\frac{6552}{-22 + \\sqrt{1149}} + 552}{\\left(-22 + \\sqrt{1149}\\right) \\left(- \\frac{1837}{95} + \\frac{59 \\sqrt{1149}}{95}\\right)}\\right) \\left(\\frac{13}{- \\sqrt{1149} - 22} - \\frac{- \\frac{3276}{- \\sqrt{1149} - 22} + 276}{\\left(- \\sqrt{1149} - 22\\right) \\left(- \\frac{59 \\sqrt{1149}}{95} - \\frac{1837}{95}\\right)} + 1\\right) + \\frac{1}{- \\frac{33}{94} + \\frac{5 \\sqrt{1149}}{94}}\\right) e^{33 + \\sqrt{1149}} & \\frac{1}{\\left(\\frac{33 \\sqrt{1149}}{2303} + \\frac{5745}{2303}\\right) e^{-33 + \\sqrt{1149}}} \\left(- \\frac{13}{-22 + \\sqrt{1149}} + \\frac{- \\frac{3276}{-22 + \\sqrt{1149}} + 276}{\\left(-22 + \\sqrt{1149}\\right) \\left(- \\frac{1837}{95} + \\frac{59 \\sqrt{1149}}{95}\\right)}\\right) - \\frac{1}{\\frac{33 \\sqrt{1149}}{2303} + \\frac{5745}{2303}} \\left(- \\frac{13}{-22 + \\sqrt{1149}} + \\frac{- \\frac{3276}{-22 + \\sqrt{1149}} + 276}{\\left(-22 + \\sqrt{1149}\\right) \\left(- \\frac{1837}{95} + \\frac{59 \\sqrt{1149}}{95}\\right)} - \\frac{1}{- \\frac{33}{94} + \\frac{5 \\sqrt{1149}}{94}} \\left(\\frac{- \\frac{3276}{- \\sqrt{1149} - 22} + 276}{\\left(- \\sqrt{1149} - 22\\right) \\left(- \\frac{59 \\sqrt{1149}}{95} - \\frac{1837}{95}\\right)} - \\frac{13}{- \\sqrt{1149} - 22}\\right) \\left(- \\frac{26}{-22 + \\sqrt{1149}} - \\frac{- \\frac{273}{-22 + \\sqrt{1149}} + 23}{- \\frac{1837}{95} + \\frac{59 \\sqrt{1149}}{95}} + \\frac{- \\frac{6552}{-22 + \\sqrt{1149}} + 552}{\\left(-22 + \\sqrt{1149}\\right) \\left(- \\frac{1837}{95} + \\frac{59 \\sqrt{1149}}{95}\\right)}\\right)\\right) - \\frac{e^{33 + \\sqrt{1149}}}{\\left(- \\frac{33}{94} + \\frac{5 \\sqrt{1149}}{94}\\right) \\left(\\frac{33 \\sqrt{1149}}{2303} + \\frac{5745}{2303}\\right)} \\left(\\frac{- \\frac{3276}{- \\sqrt{1149} - 22} + 276}{\\left(- \\sqrt{1149} - 22\\right) \\left(- \\frac{59 \\sqrt{1149}}{95} - \\frac{1837}{95}\\right)} - \\frac{13}{- \\sqrt{1149} - 22}\\right) \\left(- \\frac{26}{-22 + \\sqrt{1149}} - \\frac{- \\frac{273}{-22 + \\sqrt{1149}} + 23}{- \\frac{1837}{95} + \\frac{59 \\sqrt{1149}}{95}} + \\frac{- \\frac{6552}{-22 + \\sqrt{1149}} + 552}{\\left(-22 + \\sqrt{1149}\\right) \\left(- \\frac{1837}{95} + \\frac{59 \\sqrt{1149}}{95}\\right)}\\right)\\\\-2 - \\frac{1}{\\left(- \\frac{1837}{95} + \\frac{59 \\sqrt{1149}}{95}\\right) \\left(\\frac{33 \\sqrt{1149}}{2303} + \\frac{5745}{2303}\\right) e^{-33 + \\sqrt{1149}}} \\left(-1 - \\frac{1}{- \\frac{33}{94} + \\frac{5 \\sqrt{1149}}{94}} \\left(\\frac{26}{- \\sqrt{1149} - 22} - \\frac{- \\frac{6552}{- \\sqrt{1149} - 22} + 552}{\\left(- \\sqrt{1149} - 22\\right) \\left(- \\frac{59 \\sqrt{1149}}{95} - \\frac{1837}{95}\\right)} + 2\\right)\\right) \\left(- \\frac{273}{-22 + \\sqrt{1149}} + 23\\right) + \\frac{2}{\\frac{33 \\sqrt{1149}}{2303} + \\frac{5745}{2303}} \\left(-1 - \\frac{1}{- \\frac{33}{94} + \\frac{5 \\sqrt{1149}}{94}} \\left(\\frac{26}{- \\sqrt{1149} - 22} - \\frac{- \\frac{6552}{- \\sqrt{1149} - 22} + 552}{\\left(- \\sqrt{1149} - 22\\right) \\left(- \\frac{59 \\sqrt{1149}}{95} - \\frac{1837}{95}\\right)} + 2\\right)\\right) \\left(- \\frac{13}{-22 + \\sqrt{1149}} + \\frac{- \\frac{3276}{-22 + \\sqrt{1149}} + 276}{\\left(-22 + \\sqrt{1149}\\right) \\left(- \\frac{1837}{95} + \\frac{59 \\sqrt{1149}}{95}\\right)} - \\frac{1}{- \\frac{33}{94} + \\frac{5 \\sqrt{1149}}{94}} \\left(\\frac{- \\frac{3276}{- \\sqrt{1149} - 22} + 276}{\\left(- \\sqrt{1149} - 22\\right) \\left(- \\frac{59 \\sqrt{1149}}{95} - \\frac{1837}{95}\\right)} - \\frac{13}{- \\sqrt{1149} - 22}\\right) \\left(- \\frac{26}{-22 + \\sqrt{1149}} - \\frac{- \\frac{273}{-22 + \\sqrt{1149}} + 23}{- \\frac{1837}{95} + \\frac{59 \\sqrt{1149}}{95}} + \\frac{- \\frac{6552}{-22 + \\sqrt{1149}} + 552}{\\left(-22 + \\sqrt{1149}\\right) \\left(- \\frac{1837}{95} + \\frac{59 \\sqrt{1149}}{95}\\right)}\\right)\\right) + \\frac{1}{- \\frac{33}{94} + \\frac{5 \\sqrt{1149}}{94}} \\left(\\frac{- \\frac{13104}{- \\sqrt{1149} - 22} + 1104}{\\left(- \\sqrt{1149} - 22\\right) \\left(- \\frac{59 \\sqrt{1149}}{95} - \\frac{1837}{95}\\right)} - \\frac{52}{- \\sqrt{1149} - 22}\\right) - \\frac{e^{33 + \\sqrt{1149}}}{- \\frac{59 \\sqrt{1149}}{95} - \\frac{1837}{95}} \\left(- \\frac{1}{\\left(- \\frac{33}{94} + \\frac{5 \\sqrt{1149}}{94}\\right) \\left(\\frac{33 \\sqrt{1149}}{2303} + \\frac{5745}{2303}\\right)} \\left(-1 - \\frac{1}{- \\frac{33}{94} + \\frac{5 \\sqrt{1149}}{94}} \\left(\\frac{26}{- \\sqrt{1149} - 22} - \\frac{- \\frac{6552}{- \\sqrt{1149} - 22} + 552}{\\left(- \\sqrt{1149} - 22\\right) \\left(- \\frac{59 \\sqrt{1149}}{95} - \\frac{1837}{95}\\right)} + 2\\right)\\right) \\left(- \\frac{26}{-22 + \\sqrt{1149}} - \\frac{- \\frac{273}{-22 + \\sqrt{1149}} + 23}{- \\frac{1837}{95} + \\frac{59 \\sqrt{1149}}{95}} + \\frac{- \\frac{6552}{-22 + \\sqrt{1149}} + 552}{\\left(-22 + \\sqrt{1149}\\right) \\left(- \\frac{1837}{95} + \\frac{59 \\sqrt{1149}}{95}\\right)}\\right) + \\frac{2}{- \\frac{33}{94} + \\frac{5 \\sqrt{1149}}{94}}\\right) \\left(- \\frac{273}{- \\sqrt{1149} - 22} + 23\\right) & \\frac{\\left(- \\frac{273}{-22 + \\sqrt{1149}} + 23\\right) \\left(\\frac{13}{- \\sqrt{1149} - 22} - \\frac{- \\frac{3276}{- \\sqrt{1149} - 22} + 276}{\\left(- \\sqrt{1149} - 22\\right) \\left(- \\frac{59 \\sqrt{1149}}{95} - \\frac{1837}{95}\\right)} + 1\\right)}{\\left(- \\frac{1837}{95} + \\frac{59 \\sqrt{1149}}{95}\\right) \\left(- \\frac{33}{94} + \\frac{5 \\sqrt{1149}}{94}\\right) \\left(\\frac{33 \\sqrt{1149}}{2303} + \\frac{5745}{2303}\\right) e^{-33 + \\sqrt{1149}}} - \\frac{2}{\\left(- \\frac{33}{94} + \\frac{5 \\sqrt{1149}}{94}\\right) \\left(\\frac{33 \\sqrt{1149}}{2303} + \\frac{5745}{2303}\\right)} \\left(- \\frac{13}{-22 + \\sqrt{1149}} + \\frac{- \\frac{3276}{-22 + \\sqrt{1149}} + 276}{\\left(-22 + \\sqrt{1149}\\right) \\left(- \\frac{1837}{95} + \\frac{59 \\sqrt{1149}}{95}\\right)} - \\frac{1}{- \\frac{33}{94} + \\frac{5 \\sqrt{1149}}{94}} \\left(\\frac{- \\frac{3276}{- \\sqrt{1149} - 22} + 276}{\\left(- \\sqrt{1149} - 22\\right) \\left(- \\frac{59 \\sqrt{1149}}{95} - \\frac{1837}{95}\\right)} - \\frac{13}{- \\sqrt{1149} - 22}\\right) \\left(- \\frac{26}{-22 + \\sqrt{1149}} - \\frac{- \\frac{273}{-22 + \\sqrt{1149}} + 23}{- \\frac{1837}{95} + \\frac{59 \\sqrt{1149}}{95}} + \\frac{- \\frac{6552}{-22 + \\sqrt{1149}} + 552}{\\left(-22 + \\sqrt{1149}\\right) \\left(- \\frac{1837}{95} + \\frac{59 \\sqrt{1149}}{95}\\right)}\\right)\\right) \\left(\\frac{13}{- \\sqrt{1149} - 22} - \\frac{- \\frac{3276}{- \\sqrt{1149} - 22} + 276}{\\left(- \\sqrt{1149} - 22\\right) \\left(- \\frac{59 \\sqrt{1149}}{95} - \\frac{1837}{95}\\right)} + 1\\right) + \\frac{1}{- \\frac{33}{94} + \\frac{5 \\sqrt{1149}}{94}} \\left(\\frac{- \\frac{6552}{- \\sqrt{1149} - 22} + 552}{\\left(- \\sqrt{1149} - 22\\right) \\left(- \\frac{59 \\sqrt{1149}}{95} - \\frac{1837}{95}\\right)} - \\frac{26}{- \\sqrt{1149} - 22}\\right) - \\frac{e^{33 + \\sqrt{1149}}}{- \\frac{59 \\sqrt{1149}}{95} - \\frac{1837}{95}} \\left(\\frac{1}{\\left(- \\frac{33}{94} + \\frac{5 \\sqrt{1149}}{94}\\right)^{2} \\left(\\frac{33 \\sqrt{1149}}{2303} + \\frac{5745}{2303}\\right)} \\left(- \\frac{26}{-22 + \\sqrt{1149}} - \\frac{- \\frac{273}{-22 + \\sqrt{1149}} + 23}{- \\frac{1837}{95} + \\frac{59 \\sqrt{1149}}{95}} + \\frac{- \\frac{6552}{-22 + \\sqrt{1149}} + 552}{\\left(-22 + \\sqrt{1149}\\right) \\left(- \\frac{1837}{95} + \\frac{59 \\sqrt{1149}}{95}\\right)}\\right) \\left(\\frac{13}{- \\sqrt{1149} - 22} - \\frac{- \\frac{3276}{- \\sqrt{1149} - 22} + 276}{\\left(- \\sqrt{1149} - 22\\right) \\left(- \\frac{59 \\sqrt{1149}}{95} - \\frac{1837}{95}\\right)} + 1\\right) + \\frac{1}{- \\frac{33}{94} + \\frac{5 \\sqrt{1149}}{94}}\\right) \\left(- \\frac{273}{- \\sqrt{1149} - 22} + 23\\right) & \\frac{1}{\\frac{33 \\sqrt{1149}}{2303} + \\frac{5745}{2303}} \\left(- \\frac{26}{-22 + \\sqrt{1149}} + \\frac{- \\frac{6552}{-22 + \\sqrt{1149}} + 552}{\\left(-22 + \\sqrt{1149}\\right) \\left(- \\frac{1837}{95} + \\frac{59 \\sqrt{1149}}{95}\\right)} - \\frac{2}{- \\frac{33}{94} + \\frac{5 \\sqrt{1149}}{94}} \\left(\\frac{- \\frac{3276}{- \\sqrt{1149} - 22} + 276}{\\left(- \\sqrt{1149} - 22\\right) \\left(- \\frac{59 \\sqrt{1149}}{95} - \\frac{1837}{95}\\right)} - \\frac{13}{- \\sqrt{1149} - 22}\\right) \\left(- \\frac{26}{-22 + \\sqrt{1149}} - \\frac{- \\frac{273}{-22 + \\sqrt{1149}} + 23}{- \\frac{1837}{95} + \\frac{59 \\sqrt{1149}}{95}} + \\frac{- \\frac{6552}{-22 + \\sqrt{1149}} + 552}{\\left(-22 + \\sqrt{1149}\\right) \\left(- \\frac{1837}{95} + \\frac{59 \\sqrt{1149}}{95}\\right)}\\right)\\right) - \\frac{- \\frac{273}{-22 + \\sqrt{1149}} + 23}{\\left(- \\frac{1837}{95} + \\frac{59 \\sqrt{1149}}{95}\\right) \\left(\\frac{33 \\sqrt{1149}}{2303} + \\frac{5745}{2303}\\right) e^{-33 + \\sqrt{1149}}} + \\frac{e^{33 + \\sqrt{1149}}}{\\left(- \\frac{33}{94} + \\frac{5 \\sqrt{1149}}{94}\\right) \\left(- \\frac{59 \\sqrt{1149}}{95} - \\frac{1837}{95}\\right) \\left(\\frac{33 \\sqrt{1149}}{2303} + \\frac{5745}{2303}\\right)} \\left(- \\frac{273}{- \\sqrt{1149} - 22} + 23\\right) \\left(- \\frac{26}{-22 + \\sqrt{1149}} - \\frac{- \\frac{273}{-22 + \\sqrt{1149}} + 23}{- \\frac{1837}{95} + \\frac{59 \\sqrt{1149}}{95}} + \\frac{- \\frac{6552}{-22 + \\sqrt{1149}} + 552}{\\left(-22 + \\sqrt{1149}\\right) \\left(- \\frac{1837}{95} + \\frac{59 \\sqrt{1149}}{95}\\right)}\\right)\\\\- \\frac{1}{- \\frac{33}{94} + \\frac{5 \\sqrt{1149}}{94}} \\left(\\frac{- \\frac{6552}{- \\sqrt{1149} - 22} + 552}{\\left(- \\sqrt{1149} - 22\\right) \\left(- \\frac{59 \\sqrt{1149}}{95} - \\frac{1837}{95}\\right)} - \\frac{26}{- \\sqrt{1149} - 22}\\right) - \\frac{1}{\\frac{33 \\sqrt{1149}}{2303} + \\frac{5745}{2303}} \\left(-1 - \\frac{1}{- \\frac{33}{94} + \\frac{5 \\sqrt{1149}}{94}} \\left(\\frac{26}{- \\sqrt{1149} - 22} - \\frac{- \\frac{6552}{- \\sqrt{1149} - 22} + 552}{\\left(- \\sqrt{1149} - 22\\right) \\left(- \\frac{59 \\sqrt{1149}}{95} - \\frac{1837}{95}\\right)} + 2\\right)\\right) \\left(- \\frac{13}{-22 + \\sqrt{1149}} + \\frac{- \\frac{3276}{-22 + \\sqrt{1149}} + 276}{\\left(-22 + \\sqrt{1149}\\right) \\left(- \\frac{1837}{95} + \\frac{59 \\sqrt{1149}}{95}\\right)} - \\frac{1}{- \\frac{33}{94} + \\frac{5 \\sqrt{1149}}{94}} \\left(\\frac{- \\frac{3276}{- \\sqrt{1149} - 22} + 276}{\\left(- \\sqrt{1149} - 22\\right) \\left(- \\frac{59 \\sqrt{1149}}{95} - \\frac{1837}{95}\\right)} - \\frac{13}{- \\sqrt{1149} - 22}\\right) \\left(- \\frac{26}{-22 + \\sqrt{1149}} - \\frac{- \\frac{273}{-22 + \\sqrt{1149}} + 23}{- \\frac{1837}{95} + \\frac{59 \\sqrt{1149}}{95}} + \\frac{- \\frac{6552}{-22 + \\sqrt{1149}} + 552}{\\left(-22 + \\sqrt{1149}\\right) \\left(- \\frac{1837}{95} + \\frac{59 \\sqrt{1149}}{95}\\right)}\\right)\\right) + \\frac{1}{\\left(\\frac{33 \\sqrt{1149}}{2303} + \\frac{5745}{2303}\\right) e^{-33 + \\sqrt{1149}}} \\left(-1 - \\frac{1}{- \\frac{33}{94} + \\frac{5 \\sqrt{1149}}{94}} \\left(\\frac{26}{- \\sqrt{1149} - 22} - \\frac{- \\frac{6552}{- \\sqrt{1149} - 22} + 552}{\\left(- \\sqrt{1149} - 22\\right) \\left(- \\frac{59 \\sqrt{1149}}{95} - \\frac{1837}{95}\\right)} + 2\\right)\\right) + 1 + \\left(- \\frac{1}{\\left(- \\frac{33}{94} + \\frac{5 \\sqrt{1149}}{94}\\right) \\left(\\frac{33 \\sqrt{1149}}{2303} + \\frac{5745}{2303}\\right)} \\left(-1 - \\frac{1}{- \\frac{33}{94} + \\frac{5 \\sqrt{1149}}{94}} \\left(\\frac{26}{- \\sqrt{1149} - 22} - \\frac{- \\frac{6552}{- \\sqrt{1149} - 22} + 552}{\\left(- \\sqrt{1149} - 22\\right) \\left(- \\frac{59 \\sqrt{1149}}{95} - \\frac{1837}{95}\\right)} + 2\\right)\\right) \\left(- \\frac{26}{-22 + \\sqrt{1149}} - \\frac{- \\frac{273}{-22 + \\sqrt{1149}} + 23}{- \\frac{1837}{95} + \\frac{59 \\sqrt{1149}}{95}} + \\frac{- \\frac{6552}{-22 + \\sqrt{1149}} + 552}{\\left(-22 + \\sqrt{1149}\\right) \\left(- \\frac{1837}{95} + \\frac{59 \\sqrt{1149}}{95}\\right)}\\right) + \\frac{2}{- \\frac{33}{94} + \\frac{5 \\sqrt{1149}}{94}}\\right) e^{33 + \\sqrt{1149}} & - \\frac{1}{- \\frac{33}{94} + \\frac{5 \\sqrt{1149}}{94}} \\left(\\frac{- \\frac{3276}{- \\sqrt{1149} - 22} + 276}{\\left(- \\sqrt{1149} - 22\\right) \\left(- \\frac{59 \\sqrt{1149}}{95} - \\frac{1837}{95}\\right)} - \\frac{13}{- \\sqrt{1149} - 22}\\right) + \\frac{1}{\\left(- \\frac{33}{94} + \\frac{5 \\sqrt{1149}}{94}\\right) \\left(\\frac{33 \\sqrt{1149}}{2303} + \\frac{5745}{2303}\\right)} \\left(- \\frac{13}{-22 + \\sqrt{1149}} + \\frac{- \\frac{3276}{-22 + \\sqrt{1149}} + 276}{\\left(-22 + \\sqrt{1149}\\right) \\left(- \\frac{1837}{95} + \\frac{59 \\sqrt{1149}}{95}\\right)} - \\frac{1}{- \\frac{33}{94} + \\frac{5 \\sqrt{1149}}{94}} \\left(\\frac{- \\frac{3276}{- \\sqrt{1149} - 22} + 276}{\\left(- \\sqrt{1149} - 22\\right) \\left(- \\frac{59 \\sqrt{1149}}{95} - \\frac{1837}{95}\\right)} - \\frac{13}{- \\sqrt{1149} - 22}\\right) \\left(- \\frac{26}{-22 + \\sqrt{1149}} - \\frac{- \\frac{273}{-22 + \\sqrt{1149}} + 23}{- \\frac{1837}{95} + \\frac{59 \\sqrt{1149}}{95}} + \\frac{- \\frac{6552}{-22 + \\sqrt{1149}} + 552}{\\left(-22 + \\sqrt{1149}\\right) \\left(- \\frac{1837}{95} + \\frac{59 \\sqrt{1149}}{95}\\right)}\\right)\\right) \\left(\\frac{13}{- \\sqrt{1149} - 22} - \\frac{- \\frac{3276}{- \\sqrt{1149} - 22} + 276}{\\left(- \\sqrt{1149} - 22\\right) \\left(- \\frac{59 \\sqrt{1149}}{95} - \\frac{1837}{95}\\right)} + 1\\right) - \\frac{\\frac{13}{- \\sqrt{1149} - 22} - \\frac{- \\frac{3276}{- \\sqrt{1149} - 22} + 276}{\\left(- \\sqrt{1149} - 22\\right) \\left(- \\frac{59 \\sqrt{1149}}{95} - \\frac{1837}{95}\\right)} + 1}{\\left(- \\frac{33}{94} + \\frac{5 \\sqrt{1149}}{94}\\right) \\left(\\frac{33 \\sqrt{1149}}{2303} + \\frac{5745}{2303}\\right) e^{-33 + \\sqrt{1149}}} + \\left(\\frac{1}{\\left(- \\frac{33}{94} + \\frac{5 \\sqrt{1149}}{94}\\right)^{2} \\left(\\frac{33 \\sqrt{1149}}{2303} + \\frac{5745}{2303}\\right)} \\left(- \\frac{26}{-22 + \\sqrt{1149}} - \\frac{- \\frac{273}{-22 + \\sqrt{1149}} + 23}{- \\frac{1837}{95} + \\frac{59 \\sqrt{1149}}{95}} + \\frac{- \\frac{6552}{-22 + \\sqrt{1149}} + 552}{\\left(-22 + \\sqrt{1149}\\right) \\left(- \\frac{1837}{95} + \\frac{59 \\sqrt{1149}}{95}\\right)}\\right) \\left(\\frac{13}{- \\sqrt{1149} - 22} - \\frac{- \\frac{3276}{- \\sqrt{1149} - 22} + 276}{\\left(- \\sqrt{1149} - 22\\right) \\left(- \\frac{59 \\sqrt{1149}}{95} - \\frac{1837}{95}\\right)} + 1\\right) + \\frac{1}{- \\frac{33}{94} + \\frac{5 \\sqrt{1149}}{94}}\\right) e^{33 + \\sqrt{1149}} & \\frac{1}{\\left(\\frac{33 \\sqrt{1149}}{2303} + \\frac{5745}{2303}\\right) e^{-33 + \\sqrt{1149}}} - \\frac{1}{\\frac{33 \\sqrt{1149}}{2303} + \\frac{5745}{2303}} \\left(- \\frac{13}{-22 + \\sqrt{1149}} + \\frac{- \\frac{3276}{-22 + \\sqrt{1149}} + 276}{\\left(-22 + \\sqrt{1149}\\right) \\left(- \\frac{1837}{95} + \\frac{59 \\sqrt{1149}}{95}\\right)} - \\frac{1}{- \\frac{33}{94} + \\frac{5 \\sqrt{1149}}{94}} \\left(\\frac{- \\frac{3276}{- \\sqrt{1149} - 22} + 276}{\\left(- \\sqrt{1149} - 22\\right) \\left(- \\frac{59 \\sqrt{1149}}{95} - \\frac{1837}{95}\\right)} - \\frac{13}{- \\sqrt{1149} - 22}\\right) \\left(- \\frac{26}{-22 + \\sqrt{1149}} - \\frac{- \\frac{273}{-22 + \\sqrt{1149}} + 23}{- \\frac{1837}{95} + \\frac{59 \\sqrt{1149}}{95}} + \\frac{- \\frac{6552}{-22 + \\sqrt{1149}} + 552}{\\left(-22 + \\sqrt{1149}\\right) \\left(- \\frac{1837}{95} + \\frac{59 \\sqrt{1149}}{95}\\right)}\\right)\\right) - \\frac{e^{33 + \\sqrt{1149}}}{\\left(- \\frac{33}{94} + \\frac{5 \\sqrt{1149}}{94}\\right) \\left(\\frac{33 \\sqrt{1149}}{2303} + \\frac{5745}{2303}\\right)} \\left(- \\frac{26}{-22 + \\sqrt{1149}} - \\frac{- \\frac{273}{-22 + \\sqrt{1149}} + 23}{- \\frac{1837}{95} + \\frac{59 \\sqrt{1149}}{95}} + \\frac{- \\frac{6552}{-22 + \\sqrt{1149}} + 552}{\\left(-22 + \\sqrt{1149}\\right) \\left(- \\frac{1837}{95} + \\frac{59 \\sqrt{1149}}{95}\\right)}\\right)\\end{matrix}\\right]$$"
     },
     "metadata": {},
     "execution_count": 8
    }
   ],
   "source": [
    "A = Matrix([\n",
    "    [11, 12, 13],\n",
    "    [21, 22, 23],\n",
    "    [31, 32, 33]\n",
    "])\n",
    "\n",
    "expr = exp(A)\n",
    "expr.doit()"
   ]
  },
  {
   "cell_type": "markdown",
   "metadata": {},
   "source": [
    "Simplifying doesn't seem to help either:"
   ]
  },
  {
   "cell_type": "code",
   "execution_count": 10,
   "metadata": {},
   "outputs": [
    {
     "output_type": "execute_result",
     "data": {
      "text/plain": "⎡⎛           33 + 2⋅√1149            √1149            33                33    \n⎢⎝- 8625947⋅ℯ             - 2131778⋅ℯ      - 2032943⋅ℯ   + 74651⋅√1149⋅ℯ   + 6\n⎢─────────────────────────────────────────────────────────────────────────────\n⎢                                                    12⋅(-1065889 + 33298⋅√114\n⎢                                                                             \n⎢  ⎛         33 + 2⋅√1149                √1149            33                33\n⎢  ⎝- 66949⋅ℯ             - 66596⋅√1149⋅ℯ      - 2064829⋅ℯ   + 61128⋅√1149⋅ℯ  \n⎢  ───────────────────────────────────────────────────────────────────────────\n⎢                                                     6⋅(-1065889 + 33298⋅√114\n⎢                                                                             \n⎢⎛                33 + 2⋅√1149            33            √1149                √\n⎢⎝- 236457⋅√1149⋅ℯ             - 6226373⋅ℯ   - 2131778⋅ℯ      + 66596⋅√1149⋅ℯ \n⎢─────────────────────────────────────────────────────────────────────────────\n⎣                                                     12⋅(-1065889 + 33298⋅√11\n\n            √1149                 33 + 2⋅√1149⎞  -√1149   ⎛          33 + 2⋅√1\n6596⋅√1149⋅ℯ      + 258329⋅√1149⋅ℯ            ⎠⋅ℯ         ⎝- 965995⋅ℯ         \n───────────────────────────────────────────────────────   ────────────────────\n9)                                                                            \n                                                                              \n            √1149               33 + 2⋅√1149⎞  -√1149               ⎛    33   \n + 2131778⋅ℯ      + 5468⋅√1149⋅ℯ            ⎠⋅ℯ                     ⎝44⋅ℯ   + \n─────────────────────────────────────────────────────               ──────────\n9)                                                                            \n                                                                              \n1149                 33            33 + 2⋅√1149⎞  -√1149  ⎛               33 +\n     + 169861⋅√1149⋅ℯ   + 8358151⋅ℯ            ⎠⋅ℯ        ⎝- 25145⋅√1149⋅ℯ    \n────────────────────────────────────────────────────────  ────────────────────\n49)                                                                           \n\n149                √1149            33                33            √1149     \n    - 66596⋅√1149⋅ℯ      - 1165783⋅ℯ   + 36081⋅√1149⋅ℯ   + 2131778⋅ℯ      + 30\n──────────────────────────────────────────────────────────────────────────────\n                                6⋅(-1065889 + 33298⋅√1149)                    \n                                                                              \n         33         √1149              √1149         33 + 2⋅√1149             \n2⋅√1149⋅ℯ   + 8426⋅ℯ      + 250⋅√1149⋅ℯ      + 4169⋅ℯ             + 123⋅√1149⋅\n──────────────────────────────────────────────────────────────────────────────\n                                   3⋅(4213 + 125⋅√1149)                       \n                                                                              \n 2⋅√1149                √1149            33                33            √1149\n         - 66596⋅√1149⋅ℯ      - 3163663⋅ℯ   + 91741⋅√1149⋅ℯ   + 2131778⋅ℯ     \n──────────────────────────────────────────────────────────────────────────────\n                                 6⋅(-1065889 + 33298⋅√1149)                   \n\n           33 + 2⋅√1149⎞  -√1149   ⎛                 33 + 2⋅√1149             \n515⋅√1149⋅ℯ            ⎠⋅ℯ         ⎝- 2723224⋅√1149⋅ℯ             - 43187463⋅ℯ\n────────────────────────────────   ───────────────────────────────────────────\n                                                                              \n                                                                              \n 33 + 2⋅√1149⎞  -√1149               ⎛               33 + 2⋅√1149             \nℯ            ⎠⋅ℯ                     ⎝- 78841⋅√1149⋅ℯ             - 2548582⋅√1\n──────────────────────               ─────────────────────────────────────────\n                                                                              \n                                                                              \n            33 + 2⋅√1149⎞  -√1149  ⎛            33 + 2⋅√1149              33  \n + 1031885⋅ℯ            ⎠⋅ℯ        ⎝- 86942856⋅ℯ             - 128994459⋅ℯ   -\n─────────────────────────────────  ───────────────────────────────────────────\n                                                                              \n\n√1149             33                  33                  √1149             33\n      - 49129419⋅ℯ   + 1448933⋅√1149⋅ℯ   + 1274291⋅√1149⋅ℯ      + 92316882⋅ℯ  \n──────────────────────────────────────────────────────────────────────────────\n            6⋅(-43187463 + 1274291⋅√1149)                                     \n                                                                              \n     √1149             33                  33             √1149            33 \n149⋅ℯ      - 89061939⋅ℯ   + 2627423⋅√1149⋅ℯ   + 86374926⋅ℯ      + 2687013⋅ℯ   \n──────────────────────────────────────────────────────────────────────────────\n             6⋅(-43187463 + 1274291⋅√1149)                                    \n                                                                              \n           √1149                  √1149                  33                  3\n 43187463⋅ℯ      + 1274291⋅√1149⋅ℯ      + 3805913⋅√1149⋅ℯ   + 2565542⋅√1149⋅ℯ \n──────────────────────────────────────────────────────────────────────────────\n             6⋅(-43187463 + 1274291⋅√1149)                                    \n\n + 2⋅√1149⎞  -√1149 ⎤\n          ⎠⋅ℯ       ⎥\n─────────────────── ⎥\n                    ⎥\n                    ⎥\n+ 2⋅√1149⎞  -√1149  ⎥\n         ⎠⋅ℯ        ⎥\n──────────────────  ⎥\n                    ⎥\n                    ⎥\n3 + 2⋅√1149⎞  -√1149⎥\n           ⎠⋅ℯ      ⎥\n────────────────────⎥\n                    ⎦",
      "text/latex": "$$\\left[\\begin{matrix}\\frac{1}{12 \\left(-1065889 + 33298 \\sqrt{1149}\\right) e^{\\sqrt{1149}}} \\left(- 8625947 e^{33 + 2 \\sqrt{1149}} - 2131778 e^{\\sqrt{1149}} - 2032943 e^{33} + 74651 \\sqrt{1149} e^{33} + 66596 \\sqrt{1149} e^{\\sqrt{1149}} + 258329 \\sqrt{1149} e^{33 + 2 \\sqrt{1149}}\\right) & \\frac{1}{6 \\left(-1065889 + 33298 \\sqrt{1149}\\right) e^{\\sqrt{1149}}} \\left(- 965995 e^{33 + 2 \\sqrt{1149}} - 66596 \\sqrt{1149} e^{\\sqrt{1149}} - 1165783 e^{33} + 36081 \\sqrt{1149} e^{33} + 2131778 e^{\\sqrt{1149}} + 30515 \\sqrt{1149} e^{33 + 2 \\sqrt{1149}}\\right) & \\frac{1}{6 \\left(-43187463 + 1274291 \\sqrt{1149}\\right) e^{\\sqrt{1149}}} \\left(- 2723224 \\sqrt{1149} e^{33 + 2 \\sqrt{1149}} - 43187463 e^{\\sqrt{1149}} - 49129419 e^{33} + 1448933 \\sqrt{1149} e^{33} + 1274291 \\sqrt{1149} e^{\\sqrt{1149}} + 92316882 e^{33 + 2 \\sqrt{1149}}\\right)\\\\\\frac{1}{6 \\left(-1065889 + 33298 \\sqrt{1149}\\right) e^{\\sqrt{1149}}} \\left(- 66949 e^{33 + 2 \\sqrt{1149}} - 66596 \\sqrt{1149} e^{\\sqrt{1149}} - 2064829 e^{33} + 61128 \\sqrt{1149} e^{33} + 2131778 e^{\\sqrt{1149}} + 5468 \\sqrt{1149} e^{33 + 2 \\sqrt{1149}}\\right) & \\frac{1}{3 \\left(4213 + 125 \\sqrt{1149}\\right) e^{\\sqrt{1149}}} \\left(44 e^{33} + 2 \\sqrt{1149} e^{33} + 8426 e^{\\sqrt{1149}} + 250 \\sqrt{1149} e^{\\sqrt{1149}} + 4169 e^{33 + 2 \\sqrt{1149}} + 123 \\sqrt{1149} e^{33 + 2 \\sqrt{1149}}\\right) & \\frac{1}{6 \\left(-43187463 + 1274291 \\sqrt{1149}\\right) e^{\\sqrt{1149}}} \\left(- 78841 \\sqrt{1149} e^{33 + 2 \\sqrt{1149}} - 2548582 \\sqrt{1149} e^{\\sqrt{1149}} - 89061939 e^{33} + 2627423 \\sqrt{1149} e^{33} + 86374926 e^{\\sqrt{1149}} + 2687013 e^{33 + 2 \\sqrt{1149}}\\right)\\\\\\frac{1}{12 \\left(-1065889 + 33298 \\sqrt{1149}\\right) e^{\\sqrt{1149}}} \\left(- 236457 \\sqrt{1149} e^{33 + 2 \\sqrt{1149}} - 6226373 e^{33} - 2131778 e^{\\sqrt{1149}} + 66596 \\sqrt{1149} e^{\\sqrt{1149}} + 169861 \\sqrt{1149} e^{33} + 8358151 e^{33 + 2 \\sqrt{1149}}\\right) & \\frac{1}{6 \\left(-1065889 + 33298 \\sqrt{1149}\\right) e^{\\sqrt{1149}}} \\left(- 25145 \\sqrt{1149} e^{33 + 2 \\sqrt{1149}} - 66596 \\sqrt{1149} e^{\\sqrt{1149}} - 3163663 e^{33} + 91741 \\sqrt{1149} e^{33} + 2131778 e^{\\sqrt{1149}} + 1031885 e^{33 + 2 \\sqrt{1149}}\\right) & \\frac{1}{6 \\left(-43187463 + 1274291 \\sqrt{1149}\\right) e^{\\sqrt{1149}}} \\left(- 86942856 e^{33 + 2 \\sqrt{1149}} - 128994459 e^{33} - 43187463 e^{\\sqrt{1149}} + 1274291 \\sqrt{1149} e^{\\sqrt{1149}} + 3805913 \\sqrt{1149} e^{33} + 2565542 \\sqrt{1149} e^{33 + 2 \\sqrt{1149}}\\right)\\end{matrix}\\right]$$"
     },
     "metadata": {},
     "execution_count": 10
    }
   ],
   "source": [
    "simplify(expr)"
   ]
  },
  {
   "cell_type": "markdown",
   "metadata": {},
   "source": [
    "Methods suggested online only provide numerical solutions or partial sums:\n",
    "\n",
    "- [python - Sympy Symbolic Matrix Exponential - Stack Overflow](https://stackoverflow.com/questions/47240208/sympy-symbolic-matrix-exponential)\n",
    "- [python - Exponentiate symbolic matrix expression using SymPy - Stack Overflow](https://stackoverflow.com/a/50718831/12843551)\n",
    "- [Calculate state transition matrix in python - Stack Overflow](https://stackoverflow.com/a/54025116/12843551)\n",
    "\n",
    "Instead this will need to be implemented from first principles.\n",
    "\n",
    "\n",
    "\n"
   ]
  },
  {
   "cell_type": "markdown",
   "metadata": {},
   "source": [
    "## Definition of a Matrix Exponential"
   ]
  },
  {
   "cell_type": "markdown",
   "metadata": {},
   "source": [
    "A Matrix Exponential is defined by using the ordinary exponential power series [^3] (should we prove the power series generally?):\n"
   ]
  },
  {
   "cell_type": "markdown",
   "metadata": {},
   "source": [
    "$$\n",
    "\\begin{aligned}\n",
    "    e^{\\mathit{\\mathbf{X}}} = \\sum^{\\infty}_{k= 0}   \\left[ \\frac{1}{k!} \\cdot  \\mathit{\\mathbf{X^k}} \\right] \n",
    "\\end{aligned}\n",
    "$$\n"
   ]
  },
  {
   "cell_type": "markdown",
   "metadata": {},
   "source": [
    "To clarify this identity is provided by the Zill textbook and the Graduate Lie Algebra Textbook."
   ]
  },
  {
   "cell_type": "markdown",
   "metadata": {},
   "source": [
    "This definition can be expanded upon however by using properties of logarithms:\n",
    "\n",
    "$$\n",
    "\\begin{aligned}\n",
    "    b &= e^{\\log_e{\\left( b \\right) }}, \\quad \\forall b \\in \\mathbb{C} (\\text{ recall that this is by definition of the complex logarithm})\\\\\n",
    " \\implies  b^{\\mathbf{X}}&= \\left( e^{\\log_e{\\left( b \\right) }} \\right)^{\\mathbf{X}} \\\\\n",
    "\t\t\t & \\text{Not sure about this step though} \\\\\n",
    "  \\implies  b^{\\mathbf{X}} &= e^{\\log_e{b}  \\mathbf{X} }\n",
    "\\end{aligned}\n",
    "$$\n",
    "\n",
    "However some discussion is required here because it is not clear that the exponential will generally distribute throught he parenthesis.\n",
    "\n"
   ]
  },
  {
   "cell_type": "markdown",
   "metadata": {},
   "source": [
    "The power series definition is provided in DE's [^zill] and Lie Algebra [^Hall]\n",
    "\n",
    "\n",
    "It is not always true that  $\\left( a\\cdot  b \\right)^{k} = a^k\\cdot  b^k$, consider the simple counter example $\\left( \\left[ - 1 \\right]^2 \\cdot  3 \\right)^{\\frac{1}{2}} \\neq \\left[ - 1 \\right]^{\\frac{2}{2}} \\cdot  3^{\\frac{1}{2}}$. A sufficient condition for this identity is $k \\in \\mathbb{Z}^{*}$, consider this example which will be important later:\n",
    "\n",
    "$$\n",
    "\\begin{aligned}\n",
    "    \\left( \\log_e{\\left( b \\right) }\\mathbf{X} \\right)^{k} , \\quad \\forall k \\in \\mathbb{Z^{*}}\n",
    "\\end{aligned}\n",
    "$$\n",
    "\n",
    "Because multiplication is commutative $\\forall z \\in \\mathbb{C}$, this could be re-expressed in the form:\n",
    "\n",
    "$$\n",
    "\\begin{aligned}\n",
    " \\left( \\log_e{\\left( b \\right) }\\mathbf{X} \\right)^{k} &=    \\underbrace{\\log_e{\\left( b \\right) }\\cdot  \\log_e{\\left( b \\right) } \\cdot  \\log_e{\\left( b \\right) }\\ldots }_{k \\text{ times}} \\times \\underbrace{\\mathbf{X}\\mathbf{X}\\mathbf{X}\\ldots}_{k \\text{ times}} \\\\\n",
    " &= \\log_e^k{\\left( b \\right) } \\mathbf{X}^k\n",
    "\\end{aligned}\n",
    "$$\n",
    "\n",
    "Now consider the the following:\n",
    "\n",
    "$$\n",
    "\\begin{aligned}\n",
    "    e^{X}&= \\sum^{\\infty}_{k= 0}   \\left[ \\frac{1}{k!} \\mathbf{X}^{k} \\right]  \\\\\n",
    "    \\implies  e^{bX}&= \\sum^{\\infty}_{k= 0}   \\left[ \\frac{1}{k!} \\left( b\\mathbf{X} \\right)^{k} \\right] \\quad \\forall b \\in \\mathbb{C} \\\\\n",
    "    &= \\sum^{\\infty}_{k= 0}   \\left[ \\frac{1}{k!}b^k \\mathbf{X}^k \\right] \\\\\n",
    "    &= \\left( e^b \\right)^{\\mathbf{X}}\\\\\n",
    "    &\\implies  e^{b \\mathbf{X}} = e^{\\mathbf{X}b}= \\left( e^b \\right)^{\\mathbf{X}}= \\left( e^{\\mathbf{X}} \\right)^b  \\qquad \\qquad \\square\n",
    "\\end{aligned}\n",
    "$$\n",
    "So the matrix exponential for an arbitrary base could be given by:\n",
    "\n",
    "$$\n",
    "\\begin{aligned}\n",
    "   b = e^{\\log_e{\\left( b \\right) }}, \\quad \\forall b \\in \\mathbb{C} \\\\\n",
    "    \\implies  b^{\\mathbf{X}} &= \\left( e^{\\log_e{\\left( b \\right) }} \\right)^{\\mathbf{X}} \\\\\n",
    "     \\text{See proof / justification } \\\\\n",
    "     b^{\\mathbf{X}} &= \\sum^{\\infty}_{k= 0}   \\left[ \\frac{\\left( \\log_e{\\left( b \\right) }\\mathbf{X} \\right)^k}{k!} \\right]  \\\\\n",
    "     &= \\sum^{\\infty}_{k= 0}   \\left[ \\frac{\\log_e{\\left( b \\right) }}{k!}\\mathbf{X}^{k} \\right] \n",
    "\\end{aligned}\n",
    "$$\n",
    "\n",
    "\n",
    "\n",
    "\n",
    "\n",
    "This is also consistent with the *McLaurin Series* expansion of $b^{\\mathbf{X}} \\enspace (\\forall b \\in \\mathbb{C})$:\n",
    "\n",
    "$$\n",
    "\\begin{aligned}\n",
    "    f\\left( x \\right) &= \\sum^{\\infty}_{k= 0}   \\left[ \\frac{f^{\\left( n \\right)}\\left( 0 \\right)}{k!} x^{k} \\right]  \\\\\n",
    "    \\implies  b^x = \\sum^{\\infty}_{k= 0}  \\left[ \\frac{\\frac{\\mathrm{d}^n }{\\mathrm{d} x^n}\\left( b^x \\right) \\mid_{x=0}   }{k!} x^k \\right]  \\\\\n",
    "    \\implies  b^\\mathbf{X} = \\sum^{\\infty}_{k= 0}  \\left[ \\frac{\\frac{\\mathrm{d}^n }{\\mathrm{d} {\\mathbf{X}}^n}\\left( b^\\mathbf{X} \\right) \\mid_{\\mathbf{X}=\\mathbf{O}}   }{k!} \\mathbf{X}^k \\right]  \n",
    "\\end{aligned}\n",
    "$$\n",
    "\n",
    "By ordinary calculus identities we have$f\\left( x \\right) = b^{x}  \\implies  f^{\\left( n \\right)}\\left( x \\right) = b^{x} \\log_e^n{\\left( b \\right)}$ which distribute through a matrix and hence:\n",
    "\n",
    "$$\n",
    "\\begin{aligned}\n",
    "    b^x = \\sum^{\\infty}_{k= 0}  \\left[ \\frac{b^0 \\log_e^k{\\left( b \\right) }}{k!} x^k \\right]  \\\\\n",
    "    \\implies  b^\\mathbf{X} = \\sum^{\\infty}_{k= 0}  \\left[ \\frac{b^0 \\log_e^k{\\left( b \\right) }}{k!} \\mathbf{X}^k \\right]  \\\\\n",
    "\\end{aligned}\n",
    "$$\n",
    "\n",
    "By the previous identity:\n",
    "\n",
    "$$\n",
    "\\begin{aligned}\n",
    "\\implies  b^\\mathbf{X} &= \\sum^{\\infty}_{k= 0}  {\\left[ \\frac{{\\left( \\log_e{\\left( b \\right) } \\mathbf{X} \\right)}^k}{k!} \\right]} \\\\\n",
    "    &= e^{\\log_e{\\left( b \\right) } \\mathbf{X}}\n",
    "\\end{aligned}\n",
    "$$\n",
    "\n",
    "---\n",
    "\n",
    "Matrix-Matrix exponentiation has applications in quantum mechanics (See page 84 of the Cohen paper [^cohen])\n",
    "\n",
    "\n",
    "As for Matrices with the requirements:\n",
    "\n",
    "1. Square\n",
    "2. Normal:\n",
    "  - Commutes with it's congugate transpose\n",
    "3. Non Singular\n",
    "  -  Non Zero Determinant\n",
    "\n",
    "$$\n",
    "\\begin{aligned}\n",
    "    \\left| \\left| A-I \\right| \\right|<1  &\\implies  e^{\\log_e{\\left( \\mathbf{A} \\right) }} = \\mathbf{A} \\enspace \\text{(By Lie Groups Springer Textbook)}\\\\\n",
    "\t\t\t\t\t &\\implies  \\mathbf{A}^{\\mathbf{B}} =\\left( e^{\\log_e{\\left( \\mathbf{A} \\right) }} \\right)^{\\mathbf{B}} \\\\\n",
    "\t\t\t & \\text{Not sure about this step though} \\\\\n",
    "\t\t\t & \\implies  \\mathbf{A}^{\\mathbf{B}}= e^{\\log_e{\\left( \\mathbf{A} \\right) } \\mathbf{B}}\n",
    "\\end{aligned}\n",
    "$$\n",
    "However the following identities are by **Definition** anyway [^cohen]:\n",
    "\n",
    "$$\n",
    "\\begin{aligned}\n",
    "\\mathbf{A}^{\\mathbf{B}}&= e^{\\log_e{\\left( \\mathbf{A} \\right) } \\mathbf{B}} \\\\\n",
    "\\ ^{\\mathbf{B}} \\mathbf{A} &= e^{ \\mathbf{B} \\log_e{\\left( \\mathbf{A} \\right) } }\n",
    "\\end{aligned}\n",
    "$$\n",
    "\n",
    "\n",
    "\n",
    "\n",
    "\n",
    "[^cohen]: Barradas, I., and J. E. Cohen. “Iterated Exponentiation, Matrix-Matrix Exponentiation, and Entropy.” Journal of Mathematical Analysis and Applications 183, no. 1 (April 1, 1994): 76–88. https://doi.org/10.1006/jmaa.1994.1132.\n",
    "\n",
    "\n",
    "[^zill]: Zill, Dennis G., and Michael R. Cullen. “8.4 Matrix Exponential.” In Differential Equations with Boundary-Value Problems, 7th ed. Belmont, CA: Brooks/Cole, Cengage Learning, 2009.\n",
    "\n",
    "[^Hall]: Hall, Brian C. Lie Groups, Lie Algebras, and Representations: An Elementary Introduction. Second edition. Graduate Texts in Mathematics 222. Cham ; New York: Springer, 2015.\n"
   ]
  },
  {
   "cell_type": "code",
   "execution_count": null,
   "metadata": {},
   "outputs": [],
   "source": [
    "def matexp(mat, base = E):\n",
    "    import copy\n",
    "    import sympy\n",
    "# Should realy test for sympy vs numpy array\n",
    "# Test for Square Matrix\n",
    "    if mat.shape[0] != mat.shape[1]:\n",
    "        print(\"ERROR: Only defined for Square matrices\")\n",
    "        return\n",
    "    m = zeros(mat.shape[0])\n",
    "    for i in range(m.shape[0]):\n",
    "        for j in range(m.shape[1]):\n",
    "            m[i,j] = Sum((mat[i,j]*ln(base))**k/factorial(k), (k, 0, oo)).doit()\n",
    "    return m\n"
   ]
  },
  {
   "cell_type": "markdown",
   "metadata": {},
   "source": [
    "Initially it may seem that this would be difficult to implement will not work, for example the following should return 3, but does not (however the sum^oo method does work so shrug):"
   ]
  },
  {
   "cell_type": "markdown",
   "metadata": {},
   "source": [
    "Hmmmm What If I defined this as a function?? It's not necessary anyway."
   ]
  },
  {
   "cell_type": "markdown",
   "metadata": {},
   "source": [
    "$$\n",
    "\\mathrm{expr}_\\mathrm{eg}(x) = \\sum^k_{i=0} \\left[ x \\right] \\\\\n",
    "\\implies \\lim_{k \\rightarrow 3} \\left( \\mathrm{expr}_\\mathrm{eg}(x) \\right)\n",
    "$$"
   ]
  },
  {
   "cell_type": "code",
   "execution_count": 16,
   "metadata": {},
   "outputs": [
    {
     "output_type": "error",
     "ename": "NotImplementedError",
     "evalue": "",
     "traceback": [
      "\u001b[0;31m---------------------------------------------------------------------------\u001b[0m",
      "\u001b[0;31mNotImplementedError\u001b[0m                       Traceback (most recent call last)",
      "\u001b[0;32m~/.local/lib/python3.8/site-packages/sympy/series/limits.py\u001b[0m in \u001b[0;36mdoit\u001b[0;34m(self, **hints)\u001b[0m\n\u001b[1;32m    171\u001b[0m         \u001b[0;32mtry\u001b[0m\u001b[0;34m:\u001b[0m\u001b[0;34m\u001b[0m\u001b[0;34m\u001b[0m\u001b[0m\n\u001b[0;32m--> 172\u001b[0;31m             \u001b[0mr\u001b[0m \u001b[0;34m=\u001b[0m \u001b[0mgruntz\u001b[0m\u001b[0;34m(\u001b[0m\u001b[0me\u001b[0m\u001b[0;34m,\u001b[0m \u001b[0mz\u001b[0m\u001b[0;34m,\u001b[0m \u001b[0mz0\u001b[0m\u001b[0;34m,\u001b[0m \u001b[0mdir\u001b[0m\u001b[0;34m)\u001b[0m\u001b[0;34m\u001b[0m\u001b[0;34m\u001b[0m\u001b[0m\n\u001b[0m\u001b[1;32m    173\u001b[0m             \u001b[0;32mif\u001b[0m \u001b[0mr\u001b[0m \u001b[0;32mis\u001b[0m \u001b[0mS\u001b[0m\u001b[0;34m.\u001b[0m\u001b[0mNaN\u001b[0m\u001b[0;34m:\u001b[0m\u001b[0;34m\u001b[0m\u001b[0;34m\u001b[0m\u001b[0m\n",
      "\u001b[0;32m~/.local/lib/python3.8/site-packages/sympy/series/gruntz.py\u001b[0m in \u001b[0;36mgruntz\u001b[0;34m(e, z, z0, dir)\u001b[0m\n\u001b[1;32m    650\u001b[0m             \u001b[0;32mraise\u001b[0m \u001b[0mNotImplementedError\u001b[0m\u001b[0;34m(\u001b[0m\u001b[0;34m\"dir must be '+' or '-'\"\u001b[0m\u001b[0;34m)\u001b[0m\u001b[0;34m\u001b[0m\u001b[0;34m\u001b[0m\u001b[0m\n\u001b[0;32m--> 651\u001b[0;31m         \u001b[0mr\u001b[0m \u001b[0;34m=\u001b[0m \u001b[0mlimitinf\u001b[0m\u001b[0;34m(\u001b[0m\u001b[0me0\u001b[0m\u001b[0;34m,\u001b[0m \u001b[0mz\u001b[0m\u001b[0;34m)\u001b[0m\u001b[0;34m\u001b[0m\u001b[0;34m\u001b[0m\u001b[0m\n\u001b[0m\u001b[1;32m    652\u001b[0m \u001b[0;34m\u001b[0m\u001b[0m\n",
      "\u001b[0;32m~/.local/lib/python3.8/site-packages/sympy/core/cache.py\u001b[0m in \u001b[0;36mwrapper\u001b[0;34m(*args, **kwargs)\u001b[0m\n\u001b[1;32m     92\u001b[0m                 \u001b[0;32mtry\u001b[0m\u001b[0;34m:\u001b[0m\u001b[0;34m\u001b[0m\u001b[0;34m\u001b[0m\u001b[0m\n\u001b[0;32m---> 93\u001b[0;31m                     \u001b[0mretval\u001b[0m \u001b[0;34m=\u001b[0m \u001b[0mcfunc\u001b[0m\u001b[0;34m(\u001b[0m\u001b[0;34m*\u001b[0m\u001b[0margs\u001b[0m\u001b[0;34m,\u001b[0m \u001b[0;34m**\u001b[0m\u001b[0mkwargs\u001b[0m\u001b[0;34m)\u001b[0m\u001b[0;34m\u001b[0m\u001b[0;34m\u001b[0m\u001b[0m\n\u001b[0m\u001b[1;32m     94\u001b[0m                 \u001b[0;32mexcept\u001b[0m \u001b[0mTypeError\u001b[0m\u001b[0;34m:\u001b[0m\u001b[0;34m\u001b[0m\u001b[0;34m\u001b[0m\u001b[0m\n",
      "\u001b[0;32m~/.local/lib/python3.8/site-packages/sympy/series/gruntz.py\u001b[0m in \u001b[0;36mlimitinf\u001b[0;34m(e, x)\u001b[0m\n\u001b[1;32m    423\u001b[0m         \u001b[0mx\u001b[0m \u001b[0;34m=\u001b[0m \u001b[0mp\u001b[0m\u001b[0;34m\u001b[0m\u001b[0;34m\u001b[0m\u001b[0m\n\u001b[0;32m--> 424\u001b[0;31m     \u001b[0mc0\u001b[0m\u001b[0;34m,\u001b[0m \u001b[0me0\u001b[0m \u001b[0;34m=\u001b[0m \u001b[0mmrv_leadterm\u001b[0m\u001b[0;34m(\u001b[0m\u001b[0me\u001b[0m\u001b[0;34m,\u001b[0m \u001b[0mx\u001b[0m\u001b[0;34m)\u001b[0m\u001b[0;34m\u001b[0m\u001b[0;34m\u001b[0m\u001b[0m\n\u001b[0m\u001b[1;32m    425\u001b[0m     \u001b[0msig\u001b[0m \u001b[0;34m=\u001b[0m \u001b[0msign\u001b[0m\u001b[0;34m(\u001b[0m\u001b[0me0\u001b[0m\u001b[0;34m,\u001b[0m \u001b[0mx\u001b[0m\u001b[0;34m)\u001b[0m\u001b[0;34m\u001b[0m\u001b[0;34m\u001b[0m\u001b[0m\n",
      "\u001b[0;32m~/.local/lib/python3.8/site-packages/sympy/core/cache.py\u001b[0m in \u001b[0;36mwrapper\u001b[0;34m(*args, **kwargs)\u001b[0m\n\u001b[1;32m     92\u001b[0m                 \u001b[0;32mtry\u001b[0m\u001b[0;34m:\u001b[0m\u001b[0;34m\u001b[0m\u001b[0;34m\u001b[0m\u001b[0m\n\u001b[0;32m---> 93\u001b[0;31m                     \u001b[0mretval\u001b[0m \u001b[0;34m=\u001b[0m \u001b[0mcfunc\u001b[0m\u001b[0;34m(\u001b[0m\u001b[0;34m*\u001b[0m\u001b[0margs\u001b[0m\u001b[0;34m,\u001b[0m \u001b[0;34m**\u001b[0m\u001b[0mkwargs\u001b[0m\u001b[0;34m)\u001b[0m\u001b[0;34m\u001b[0m\u001b[0;34m\u001b[0m\u001b[0m\n\u001b[0m\u001b[1;32m     94\u001b[0m                 \u001b[0;32mexcept\u001b[0m \u001b[0mTypeError\u001b[0m\u001b[0;34m:\u001b[0m\u001b[0;34m\u001b[0m\u001b[0;34m\u001b[0m\u001b[0m\n",
      "\u001b[0;32m~/.local/lib/python3.8/site-packages/sympy/series/gruntz.py\u001b[0m in \u001b[0;36mmrv_leadterm\u001b[0;34m(e, x)\u001b[0m\n\u001b[1;32m    479\u001b[0m     \u001b[0;32mif\u001b[0m \u001b[0mOmega\u001b[0m \u001b[0;34m==\u001b[0m \u001b[0mSubsSet\u001b[0m\u001b[0;34m(\u001b[0m\u001b[0;34m)\u001b[0m\u001b[0;34m:\u001b[0m\u001b[0;34m\u001b[0m\u001b[0;34m\u001b[0m\u001b[0m\n\u001b[0;32m--> 480\u001b[0;31m         \u001b[0mOmega\u001b[0m\u001b[0;34m,\u001b[0m \u001b[0mexps\u001b[0m \u001b[0;34m=\u001b[0m \u001b[0mmrv\u001b[0m\u001b[0;34m(\u001b[0m\u001b[0me\u001b[0m\u001b[0;34m,\u001b[0m \u001b[0mx\u001b[0m\u001b[0;34m)\u001b[0m\u001b[0;34m\u001b[0m\u001b[0;34m\u001b[0m\u001b[0m\n\u001b[0m\u001b[1;32m    481\u001b[0m     \u001b[0;32mif\u001b[0m \u001b[0;32mnot\u001b[0m \u001b[0mOmega\u001b[0m\u001b[0;34m:\u001b[0m\u001b[0;34m\u001b[0m\u001b[0;34m\u001b[0m\u001b[0m\n",
      "\u001b[0;32m~/.local/lib/python3.8/site-packages/sympy/series/gruntz.py\u001b[0m in \u001b[0;36mmrv\u001b[0;34m(e, x)\u001b[0m\n\u001b[1;32m    303\u001b[0m         \u001b[0;32mreturn\u001b[0m \u001b[0mmrv\u001b[0m\u001b[0;34m(\u001b[0m\u001b[0me\u001b[0m\u001b[0;34m.\u001b[0m\u001b[0margs\u001b[0m\u001b[0;34m[\u001b[0m\u001b[0;36m0\u001b[0m\u001b[0;34m]\u001b[0m\u001b[0;34m,\u001b[0m \u001b[0mx\u001b[0m\u001b[0;34m)\u001b[0m\u001b[0;34m\u001b[0m\u001b[0;34m\u001b[0m\u001b[0m\n\u001b[0;32m--> 304\u001b[0;31m     raise NotImplementedError(\n\u001b[0m\u001b[1;32m    305\u001b[0m         \"Don't know how to calculate the mrv of '%s'\" % e)\n",
      "\u001b[0;31mNotImplementedError\u001b[0m: Don't know how to calculate the mrv of 'Sum(x, (x, 0, 3 + 1/_p))'",
      "\nDuring handling of the above exception, another exception occurred:\n",
      "\u001b[0;31mNotImplementedError\u001b[0m                       Traceback (most recent call last)",
      "\u001b[0;32m<ipython-input-16-ef9f4185bc86>\u001b[0m in \u001b[0;36m<module>\u001b[0;34m\u001b[0m\n\u001b[1;32m      1\u001b[0m \u001b[0mexpr_eg\u001b[0m \u001b[0;34m=\u001b[0m \u001b[0mSum\u001b[0m\u001b[0;34m(\u001b[0m\u001b[0mx\u001b[0m\u001b[0;34m,\u001b[0m \u001b[0;34m(\u001b[0m\u001b[0mx\u001b[0m\u001b[0;34m,\u001b[0m \u001b[0;36m0\u001b[0m\u001b[0;34m,\u001b[0m \u001b[0mk\u001b[0m\u001b[0;34m)\u001b[0m\u001b[0;34m)\u001b[0m\u001b[0;34m\u001b[0m\u001b[0;34m\u001b[0m\u001b[0m\n\u001b[0;32m----> 2\u001b[0;31m \u001b[0mlimit\u001b[0m\u001b[0;34m(\u001b[0m\u001b[0mexpr_eg\u001b[0m\u001b[0;34m,\u001b[0m \u001b[0mk\u001b[0m\u001b[0;34m,\u001b[0m \u001b[0;36m3\u001b[0m\u001b[0;34m)\u001b[0m\u001b[0;34m\u001b[0m\u001b[0;34m\u001b[0m\u001b[0m\n\u001b[0m",
      "\u001b[0;32m~/.local/lib/python3.8/site-packages/sympy/series/limits.py\u001b[0m in \u001b[0;36mlimit\u001b[0;34m(e, z, z0, dir)\u001b[0m\n\u001b[1;32m     43\u001b[0m     \"\"\"\n\u001b[1;32m     44\u001b[0m \u001b[0;34m\u001b[0m\u001b[0m\n\u001b[0;32m---> 45\u001b[0;31m     \u001b[0;32mreturn\u001b[0m \u001b[0mLimit\u001b[0m\u001b[0;34m(\u001b[0m\u001b[0me\u001b[0m\u001b[0;34m,\u001b[0m \u001b[0mz\u001b[0m\u001b[0;34m,\u001b[0m \u001b[0mz0\u001b[0m\u001b[0;34m,\u001b[0m \u001b[0mdir\u001b[0m\u001b[0;34m)\u001b[0m\u001b[0;34m.\u001b[0m\u001b[0mdoit\u001b[0m\u001b[0;34m(\u001b[0m\u001b[0mdeep\u001b[0m\u001b[0;34m=\u001b[0m\u001b[0;32mFalse\u001b[0m\u001b[0;34m)\u001b[0m\u001b[0;34m\u001b[0m\u001b[0;34m\u001b[0m\u001b[0m\n\u001b[0m\u001b[1;32m     46\u001b[0m \u001b[0;34m\u001b[0m\u001b[0m\n\u001b[1;32m     47\u001b[0m \u001b[0;34m\u001b[0m\u001b[0m\n",
      "\u001b[0;32m~/.local/lib/python3.8/site-packages/sympy/series/limits.py\u001b[0m in \u001b[0;36mdoit\u001b[0;34m(self, **hints)\u001b[0m\n\u001b[1;32m    185\u001b[0m                     \u001b[0;32mraise\u001b[0m \u001b[0mNotImplementedError\u001b[0m\u001b[0;34m(\u001b[0m\u001b[0;34m)\u001b[0m\u001b[0;34m\u001b[0m\u001b[0;34m\u001b[0m\u001b[0m\n\u001b[1;32m    186\u001b[0m             \u001b[0;32melse\u001b[0m\u001b[0;34m:\u001b[0m\u001b[0;34m\u001b[0m\u001b[0;34m\u001b[0m\u001b[0m\n\u001b[0;32m--> 187\u001b[0;31m                 \u001b[0;32mraise\u001b[0m \u001b[0mNotImplementedError\u001b[0m\u001b[0;34m(\u001b[0m\u001b[0;34m)\u001b[0m\u001b[0;34m\u001b[0m\u001b[0;34m\u001b[0m\u001b[0m\n\u001b[0m\u001b[1;32m    188\u001b[0m \u001b[0;34m\u001b[0m\u001b[0m\n\u001b[1;32m    189\u001b[0m         \u001b[0;32mreturn\u001b[0m \u001b[0mr\u001b[0m\u001b[0;34m\u001b[0m\u001b[0;34m\u001b[0m\u001b[0m\n",
      "\u001b[0;31mNotImplementedError\u001b[0m: "
     ]
    }
   ],
   "source": [
    "expr_eg = Sum(x, (x, 0, k))\n",
    "limit(expr_eg, k, 3)"
   ]
  },
  {
   "cell_type": "code",
   "execution_count": 20,
   "metadata": {},
   "outputs": [],
   "source": [
    "def matexp(mat, base = E):\n",
    "    \"\"\"\n",
    "    Return the Matrix Exponential of a square matrix\n",
    "    \"\"\"\n",
    "    import copy\n",
    "    import sympy\n",
    "# Should realy test for sympy vs numpy array\n",
    "# Test for Square Matrix\n",
    "    if mat.shape[0] != mat.shape[1]:\n",
    "        print(\"ERROR: Only defined for Square matrices\")\n",
    "        return\n",
    "    m = zeros(mat.shape[0])\n",
    "    for i in range(m.shape[0]):\n",
    "        for j in range(m.shape[1]):\n",
    "            m[i,j] = Sum((mat[i,j]*ln(base))**k/factorial(k), (k, 0, oo)).doit()\n",
    "    return m\n"
   ]
  },
  {
   "cell_type": "code",
   "execution_count": 24,
   "metadata": {},
   "outputs": [
    {
     "output_type": "execute_result",
     "data": {
      "text/plain": "⎡ 11   12   13⎤\n⎢π    π    π  ⎥\n⎢             ⎥\n⎢ 21   22   23⎥\n⎢π    π    π  ⎥\n⎢             ⎥\n⎢ 31   32   33⎥\n⎣π    π    π  ⎦",
      "text/latex": "$$\\left[\\begin{matrix}\\pi^{11} & \\pi^{12} & \\pi^{13}\\\\\\pi^{21} & \\pi^{22} & \\pi^{23}\\\\\\pi^{31} & \\pi^{32} & \\pi^{33}\\end{matrix}\\right]$$"
     },
     "metadata": {},
     "execution_count": 24
    }
   ],
   "source": [
    "matexp(A, pi)"
   ]
  },
  {
   "cell_type": "markdown",
   "metadata": {},
   "source": [
    "But it would be nice to expand this to matrix bases for there uses in quantum mechanics."
   ]
  },
  {
   "cell_type": "markdown",
   "metadata": {},
   "source": [
    "The built in method for a**mat is not implemented.\n",
    "\n",
    "there is exp(mat) but this returns garbage (see github issue), (see other solution on stack exchange that is numeric and example)\n",
    "\n",
    "show our method with proofs of \n",
    "\n",
    "cauchy\n",
    "power\n",
    "taylor\n",
    "then exp\n",
    "\n",
    "then show\n",
    "our code"
   ]
  },
  {
   "cell_type": "code",
   "execution_count": null,
   "metadata": {},
   "outputs": [],
   "source": [
    "A = Matrix([\n",
    "    [11,12,13],\n",
    "    [21,22,23],\n",
    "    [31,32,33]\n",
    "])\n",
    "\n",
    "B = Matrix([\n",
    "    [1,2,3],\n",
    "    [4,5,6],\n",
    "    [7,8,9]\n",
    "])\n",
    "\n",
    "\n",
    "A**B"
   ]
  }
 ],
 "metadata": {
  "cite2c": {
   "citations": {
    "7348706/8F6XZRVL": {
     "DOI": "10.1145/2537734.2537749",
     "ISBN": "978-1-4503-2524-0",
     "URL": "http://doi.org/10.1145/2537734.2537749",
     "abstract": "Measurement of graph centrality provides us with an indication of the importance or popularity of each vertex in a graph. When dealing with graphs that are not centrally controlled (such as the Web, social networks and academic citation graphs), centrality measure must 1) correlate with vertex importance/popularity, 2) scale well in terms of computation, and 3) be difficult to manipulate by individuals. The Random Surfer probability transition model, combined with Eigenvalue Centrality produced PageRank, which has shown to satisfy the required properties. Existing centrality measures (including PageRank) make the assumption that all directed edges are positive, implying an endorsement. Recent work on sentiment analysis has shown that this assumption is not valid. In this article, we introduce a new method of transitioning a graph, called Power Walk, that can successfully compute centrality scores for graphs with real weighted edges. We show that it satisfies the desired properties, and that its computation time and centrality ranking is similar to when using the Random Surfer model for non-negative matrices. Finally, stability and convergence analysis shows us that both stability and convergence when using the power method, are dependent on the Power Walk parameter β.",
     "accessed": {
      "date-parts": [
       [
        2020,
        7,
        31
       ]
      ]
     },
     "author": [
      {
       "family": "Park",
       "given": "Laurence A. F."
      },
      {
       "family": "Simoff",
       "given": "Simeon"
      }
     ],
     "collection-title": "ADCS '13",
     "container-title": "Proceedings of the 18th Australasian Document Computing Symposium",
     "event-place": "Brisbane, Queensland, Australia",
     "issued": {
      "date-parts": [
       [
        "2013",
        12,
        5
       ]
      ]
     },
     "page": "50–57",
     "publisher": "Association for Computing Machinery",
     "publisher-place": "Brisbane, Queensland, Australia",
     "shortTitle": "Power walk",
     "title": "Power walk: revisiting the random surfer",
     "type": "paper-conference"
    },
    "undefined": {
     "DOI": "10.1145/2537734.2537749",
     "ISBN": "978-1-4503-2524-0",
     "URL": "http://doi.org/10.1145/2537734.2537749",
     "abstract": "Measurement of graph centrality provides us with an indication of the importance or popularity of each vertex in a graph. When dealing with graphs that are not centrally controlled (such as the Web, social networks and academic citation graphs), centrality measure must 1) correlate with vertex importance/popularity, 2) scale well in terms of computation, and 3) be difficult to manipulate by individuals. The Random Surfer probability transition model, combined with Eigenvalue Centrality produced PageRank, which has shown to satisfy the required properties. Existing centrality measures (including PageRank) make the assumption that all directed edges are positive, implying an endorsement. Recent work on sentiment analysis has shown that this assumption is not valid. In this article, we introduce a new method of transitioning a graph, called Power Walk, that can successfully compute centrality scores for graphs with real weighted edges. We show that it satisfies the desired properties, and that its computation time and centrality ranking is similar to when using the Random Surfer model for non-negative matrices. Finally, stability and convergence analysis shows us that both stability and convergence when using the power method, are dependent on the Power Walk parameter β.",
     "accessed": {
      "date-parts": [
       [
        2020,
        7,
        31
       ]
      ]
     },
     "author": [
      {
       "family": "Park",
       "given": "Laurence A. F."
      },
      {
       "family": "Simoff",
       "given": "Simeon"
      }
     ],
     "collection-title": "ADCS '13",
     "container-title": "Proceedings of the 18th Australasian Document Computing Symposium",
     "event-place": "Brisbane, Queensland, Australia",
     "issued": {
      "date-parts": [
       [
        "2013",
        12,
        5
       ]
      ]
     },
     "page": "50–57",
     "publisher": "Association for Computing Machinery",
     "publisher-place": "Brisbane, Queensland, Australia",
     "shortTitle": "Power walk",
     "title": "Power walk: revisiting the random surfer",
     "type": "paper-conference"
    }
   }
  },
  "kernelspec": {
   "display_name": "Python 3",
   "language": "python",
   "name": "python3"
  },
  "language_info": {
   "codemirror_mode": {
    "name": "ipython",
    "version": 3
   },
   "file_extension": ".py",
   "mimetype": "text/x-python",
   "name": "python",
   "nbconvert_exporter": "python",
   "pygments_lexer": "ipython3",
   "version": "3.8.5-final"
  }
 },
 "nbformat": 4,
 "nbformat_minor": 2
}